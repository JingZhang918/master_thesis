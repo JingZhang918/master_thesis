{
 "cells": [
  {
   "cell_type": "code",
   "execution_count": 1,
   "id": "5d658fd9",
   "metadata": {},
   "outputs": [],
   "source": [
    "import yfinance as yf\n",
    "import pandas_ta as ta\n",
    "import pandas as pd\n",
    "import numpy as np\n",
    "from config import _highest_cost_rate, _transaction_fee, SYMBOLS"
   ]
  },
  {
   "cell_type": "code",
   "execution_count": 2,
   "id": "6e1c4d44",
   "metadata": {},
   "outputs": [],
   "source": [
    "dax_trading_results = pd.DataFrame(columns=[\"ticker\",\"cash_balance\", \"share_holding\", \"asset\", \"transaction_cost\"\n",
    "                                            , \"total_reward\" ])\n",
    "\n",
    "for ticker in SYMBOLS:\n",
    "    df = yf.Ticker(ticker).history(start='2020-07-01', end='2021-10-01')[['Open','High','Low', 'Close']]\n",
    "    df.ta.aroon(length=25, append=True)\n",
    "    df['aroon_buy'] = ((df.AROONU_25.shift(1) < df.AROOND_25.shift(1)) & (df.AROONOSC_25 >= 0)).astype(int)\n",
    "    df['aroon_sell'] = ((df.AROONU_25.shift(1) > df.AROOND_25.shift(1)) & (df.AROONOSC_25 <= 0)).astype(int)\n",
    "    df.columns = [x.lower() for x in df.columns]\n",
    "    test_data = df[df.index >= '2020-10-01']\n",
    "\n",
    "    initial_balance = 1000000\n",
    "    initial_shares = 0\n",
    "\n",
    "    cash_balance = initial_balance\n",
    "    share_holding = initial_shares\n",
    "    yesterday_flag = 0\n",
    "    trading_outlay = list()\n",
    "    total_reward = 0\n",
    "    total_transaction_cost = 0\n",
    "\n",
    "    for row in test_data.iterrows():\n",
    "\n",
    "        reward = 0\n",
    "        transaction_price = (row[1].high+row[1].low)/2\n",
    "        transaction_cost = 0\n",
    "\n",
    "        if yesterday_flag == 1: #buy\n",
    "            # the logic here is to assume I pay the highest fees, how many hands can I afford\n",
    "            max_hand = np.floor((cash_balance)/(transaction_price*_highest_cost_rate('Frankfurt')))\n",
    "            transaction_shares = max_hand\n",
    "\n",
    "            transaction_amount = transaction_price*transaction_shares\n",
    "            transaction_cost = _transaction_fee('Frankfurt',yesterday_flag,transaction_amount)\n",
    "\n",
    "            cash_balance = cash_balance-transaction_amount-transaction_cost\n",
    "            share_holding = share_holding+transaction_shares\n",
    "\n",
    "            trading_outlay.append(transaction_cost+transaction_amount)\n",
    "\n",
    "        elif yesterday_flag == -1: #sell\n",
    "            transaction_shares = share_holding\n",
    "            transaction_amount = transaction_price*transaction_shares\n",
    "\n",
    "            transaction_cost = _transaction_fee('Frankfurt',yesterday_flag,transaction_amount)\n",
    "\n",
    "            cash_balance = cash_balance+transaction_amount-transaction_cost\n",
    "            share_holding = 0\n",
    "            reward = transaction_amount-transaction_cost-np.sum(trading_outlay)\n",
    "            trading_outlay = list()\n",
    "\n",
    "        asset = round(cash_balance+share_holding*transaction_price,0)\n",
    "        total_reward += reward\n",
    "        total_transaction_cost += transaction_cost\n",
    "\n",
    "        # observe today's trading signal and carry out tomorrow\n",
    "        if row[1].aroon_buy == 1:\n",
    "            yesterday_flag = 1\n",
    "        elif row[1].aroon_sell == 1:\n",
    "            yesterday_flag = -1\n",
    "        else:\n",
    "            yesterday_flag = 0\n",
    "\n",
    "    dax_trading_results = dax_trading_results.append({\"ticker\":ticker,\"cash_balance\":round(cash_balance,2)\n",
    "                                              ,\"share_holding\":share_holding, \"asset\":asset\n",
    "                                              ,\"transaction_cost\":total_transaction_cost\n",
    "                                              ,\"total_reward\":total_reward\n",
    "                                             }, ignore_index=True)\n",
    "\n",
    "dax_trading_results.to_excel(\"DAX_trading_results.xlsx\")"
   ]
  },
  {
   "cell_type": "code",
   "execution_count": null,
   "id": "dba96ed3",
   "metadata": {},
   "outputs": [],
   "source": []
  },
  {
   "cell_type": "code",
   "execution_count": null,
   "id": "7dc83022",
   "metadata": {},
   "outputs": [],
   "source": []
  },
  {
   "cell_type": "code",
   "execution_count": null,
   "id": "783a3b93",
   "metadata": {},
   "outputs": [],
   "source": []
  },
  {
   "cell_type": "code",
   "execution_count": null,
   "id": "ecb37a29",
   "metadata": {},
   "outputs": [],
   "source": []
  },
  {
   "cell_type": "code",
   "execution_count": null,
   "id": "3b4a22f2",
   "metadata": {},
   "outputs": [],
   "source": []
  }
 ],
 "metadata": {
  "kernelspec": {
   "display_name": "Python 3 (ipykernel)",
   "language": "python",
   "name": "python3"
  },
  "language_info": {
   "codemirror_mode": {
    "name": "ipython",
    "version": 3
   },
   "file_extension": ".py",
   "mimetype": "text/x-python",
   "name": "python",
   "nbconvert_exporter": "python",
   "pygments_lexer": "ipython3",
   "version": "3.9.5"
  }
 },
 "nbformat": 4,
 "nbformat_minor": 5
}
