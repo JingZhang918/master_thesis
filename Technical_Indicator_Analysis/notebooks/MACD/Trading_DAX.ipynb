{
 "cells": [
  {
   "cell_type": "code",
   "execution_count": 17,
   "id": "5d658fd9",
   "metadata": {},
   "outputs": [
    {
     "name": "stdout",
     "output_type": "stream",
     "text": [
      "The autoreload extension is already loaded. To reload it, use:\n",
      "  %reload_ext autoreload\n"
     ]
    }
   ],
   "source": [
    "import yfinance as yf\n",
    "import pandas_ta as ta\n",
    "import pandas as pd\n",
    "import numpy as np\n",
    "\n",
    "from config import SYMBOLS, TEST_SYMBOLS\n",
    "from trade import get_trading_records\n",
    "from data_process import get_technical_indicator\n",
    "\n",
    "%load_ext autoreload\n",
    "%autoreload 2"
   ]
  },
  {
   "cell_type": "code",
   "execution_count": 39,
   "id": "12f41482",
   "metadata": {},
   "outputs": [],
   "source": [
    "dax_trading_results = pd.DataFrame(columns=[\"ticker\",\"date\",\"signal\",\"cash_balance\", \"share_holding\", \"asset\"\n",
    "                                        , \"transaction_price\", \"transaction_cost\", \"trading_outlay\", \"reward\" ])\n",
    "\n",
    "for ticker in TEST_SYMBOLS:\n",
    "    df = yf.Ticker(ticker).history(start='2020-07-01', end='2021-10-01')[['Open','High','Low', 'Close']]\n",
    "    integrated_data = get_technical_indicator(df, \"MACD\")\n",
    "    \n",
    "    trading_results = get_trading_records(integrated_data)\n",
    "    trading_results['ticker'] = trading_results.shape[0]*[ticker]\n",
    "    dax_trading_results = dax_trading_results.append(trading_results)"
   ]
  },
  {
   "cell_type": "code",
   "execution_count": null,
   "id": "7f8f5186",
   "metadata": {},
   "outputs": [],
   "source": [
    "dax_trading_results."
   ]
  },
  {
   "cell_type": "code",
   "execution_count": 28,
   "id": "5bb752a9",
   "metadata": {},
   "outputs": [],
   "source": [
    "dax_trading_results = dax_trading_results.set_index(['ticker', 'date'])"
   ]
  },
  {
   "cell_type": "code",
   "execution_count": 38,
   "id": "8db47334",
   "metadata": {},
   "outputs": [
    {
     "data": {
      "text/plain": [
       "ticker  date\n",
       "ADS.DE  2020    0.032911\n",
       "        2021   -0.094132\n",
       "ZAL.DE  2020   -0.033439\n",
       "        2021    0.078477\n",
       "Name: asset, dtype: float64"
      ]
     },
     "execution_count": 38,
     "metadata": {},
     "output_type": "execute_result"
    }
   ],
   "source": [
    "dax_trading_results.groupby([dax_trading_results.index.get_level_values('ticker')\n",
    "                             , dax_trading_results.index.get_level_values('date').year]).asset.apply(helper)"
   ]
  },
  {
   "cell_type": "code",
   "execution_count": null,
   "id": "7a4b7d85",
   "metadata": {},
   "outputs": [],
   "source": []
  },
  {
   "cell_type": "code",
   "execution_count": 23,
   "id": "ec1a0feb",
   "metadata": {},
   "outputs": [],
   "source": [
    "def helper(prices):\n",
    "    return prices[-1]/prices[0]-1"
   ]
  },
  {
   "cell_type": "code",
   "execution_count": 32,
   "id": "ec429b59",
   "metadata": {},
   "outputs": [
    {
     "data": {
      "text/plain": [
       "Index(['ADS.DE', 'ADS.DE', 'ADS.DE', 'ADS.DE', 'ADS.DE', 'ADS.DE', 'ADS.DE',\n",
       "       'ADS.DE', 'ADS.DE', 'ADS.DE',\n",
       "       ...\n",
       "       'ZAL.DE', 'ZAL.DE', 'ZAL.DE', 'ZAL.DE', 'ZAL.DE', 'ZAL.DE', 'ZAL.DE',\n",
       "       'ZAL.DE', 'ZAL.DE', 'ZAL.DE'],\n",
       "      dtype='object', name='ticker', length=574)"
      ]
     },
     "execution_count": 32,
     "metadata": {},
     "output_type": "execute_result"
    }
   ],
   "source": [
    "dax_trading_results.index.get_level_values('ticker')"
   ]
  },
  {
   "cell_type": "code",
   "execution_count": 37,
   "id": "7dc83022",
   "metadata": {},
   "outputs": [
    {
     "data": {
      "text/plain": [
       "Int64Index([2020, 2020, 2020, 2020, 2020, 2020, 2020, 2020, 2020, 2020,\n",
       "            ...\n",
       "            2021, 2021, 2021, 2021, 2021, 2021, 2021, 2021, 2021, 2021],\n",
       "           dtype='int64', name='date', length=574)"
      ]
     },
     "execution_count": 37,
     "metadata": {},
     "output_type": "execute_result"
    }
   ],
   "source": [
    "dax_trading_results.index.get_level_values('date').year"
   ]
  },
  {
   "cell_type": "code",
   "execution_count": null,
   "id": "783a3b93",
   "metadata": {},
   "outputs": [],
   "source": []
  },
  {
   "cell_type": "code",
   "execution_count": null,
   "id": "ecb37a29",
   "metadata": {},
   "outputs": [],
   "source": []
  },
  {
   "cell_type": "code",
   "execution_count": null,
   "id": "3b4a22f2",
   "metadata": {},
   "outputs": [],
   "source": []
  },
  {
   "cell_type": "code",
   "execution_count": null,
   "id": "291c40ce",
   "metadata": {},
   "outputs": [],
   "source": []
  },
  {
   "cell_type": "code",
   "execution_count": null,
   "id": "ba6b68af",
   "metadata": {},
   "outputs": [],
   "source": []
  },
  {
   "cell_type": "code",
   "execution_count": null,
   "id": "a314c2db",
   "metadata": {},
   "outputs": [],
   "source": []
  },
  {
   "cell_type": "code",
   "execution_count": null,
   "id": "34158268",
   "metadata": {},
   "outputs": [],
   "source": []
  },
  {
   "cell_type": "code",
   "execution_count": null,
   "id": "f92bc4a3",
   "metadata": {},
   "outputs": [],
   "source": []
  },
  {
   "cell_type": "code",
   "execution_count": null,
   "id": "7672d241",
   "metadata": {},
   "outputs": [],
   "source": []
  }
 ],
 "metadata": {
  "kernelspec": {
   "display_name": "Python 3 (ipykernel)",
   "language": "python",
   "name": "python3"
  },
  "language_info": {
   "codemirror_mode": {
    "name": "ipython",
    "version": 3
   },
   "file_extension": ".py",
   "mimetype": "text/x-python",
   "name": "python",
   "nbconvert_exporter": "python",
   "pygments_lexer": "ipython3",
   "version": "3.9.5"
  }
 },
 "nbformat": 4,
 "nbformat_minor": 5
}
