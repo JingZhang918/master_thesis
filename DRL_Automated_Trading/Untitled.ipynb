{
 "cells": [
  {
   "cell_type": "code",
   "execution_count": 1,
   "id": "13a2f7eb",
   "metadata": {},
   "outputs": [],
   "source": [
    "import pandas as pd\n",
    "import yfinance as yf\n",
    "import numpy as np"
   ]
  },
  {
   "cell_type": "code",
   "execution_count": 2,
   "id": "14854117",
   "metadata": {},
   "outputs": [],
   "source": [
    "df_drl = pd.read_excel(\"./trading_records/dax_trading_records.xlsx\")"
   ]
  },
  {
   "cell_type": "code",
   "execution_count": 3,
   "id": "a51525c1",
   "metadata": {},
   "outputs": [
    {
     "data": {
      "text/html": [
       "<div>\n",
       "<style scoped>\n",
       "    .dataframe tbody tr th:only-of-type {\n",
       "        vertical-align: middle;\n",
       "    }\n",
       "\n",
       "    .dataframe tbody tr th {\n",
       "        vertical-align: top;\n",
       "    }\n",
       "\n",
       "    .dataframe thead th {\n",
       "        text-align: right;\n",
       "    }\n",
       "</style>\n",
       "<table border=\"1\" class=\"dataframe\">\n",
       "  <thead>\n",
       "    <tr style=\"text-align: right;\">\n",
       "      <th></th>\n",
       "      <th>Unnamed: 0</th>\n",
       "      <th>ticker</th>\n",
       "      <th>date</th>\n",
       "      <th>signal</th>\n",
       "      <th>cash_balance</th>\n",
       "      <th>share_holding</th>\n",
       "      <th>asset</th>\n",
       "      <th>transaction_price</th>\n",
       "      <th>transaction_cost</th>\n",
       "      <th>trading_outlay</th>\n",
       "      <th>reward</th>\n",
       "    </tr>\n",
       "  </thead>\n",
       "  <tbody>\n",
       "    <tr>\n",
       "      <th>0</th>\n",
       "      <td>0</td>\n",
       "      <td>ADS.DE</td>\n",
       "      <td>2018-11-01</td>\n",
       "      <td>0</td>\n",
       "      <td>1.000000e+06</td>\n",
       "      <td>0</td>\n",
       "      <td>1.000000e+06</td>\n",
       "      <td>197.048916</td>\n",
       "      <td>0.000000</td>\n",
       "      <td>0.000000e+00</td>\n",
       "      <td>0.000000</td>\n",
       "    </tr>\n",
       "    <tr>\n",
       "      <th>1</th>\n",
       "      <td>1</td>\n",
       "      <td>ADS.DE</td>\n",
       "      <td>2018-11-02</td>\n",
       "      <td>1</td>\n",
       "      <td>7.545209e+01</td>\n",
       "      <td>5015</td>\n",
       "      <td>9.942750e+05</td>\n",
       "      <td>198.245183</td>\n",
       "      <td>600.594372</td>\n",
       "      <td>9.999245e+05</td>\n",
       "      <td>0.000000</td>\n",
       "    </tr>\n",
       "    <tr>\n",
       "      <th>2</th>\n",
       "      <td>2</td>\n",
       "      <td>ADS.DE</td>\n",
       "      <td>2018-11-05</td>\n",
       "      <td>-1</td>\n",
       "      <td>9.955792e+05</td>\n",
       "      <td>0</td>\n",
       "      <td>9.955792e+05</td>\n",
       "      <td>197.958070</td>\n",
       "      <td>598.661441</td>\n",
       "      <td>0.000000e+00</td>\n",
       "      <td>-4420.807106</td>\n",
       "    </tr>\n",
       "    <tr>\n",
       "      <th>3</th>\n",
       "      <td>3</td>\n",
       "      <td>ADS.DE</td>\n",
       "      <td>2018-11-06</td>\n",
       "      <td>0</td>\n",
       "      <td>9.955792e+05</td>\n",
       "      <td>0</td>\n",
       "      <td>9.955792e+05</td>\n",
       "      <td>197.096758</td>\n",
       "      <td>0.000000</td>\n",
       "      <td>0.000000e+00</td>\n",
       "      <td>0.000000</td>\n",
       "    </tr>\n",
       "    <tr>\n",
       "      <th>4</th>\n",
       "      <td>4</td>\n",
       "      <td>ADS.DE</td>\n",
       "      <td>2018-11-07</td>\n",
       "      <td>-1</td>\n",
       "      <td>9.955792e+05</td>\n",
       "      <td>0</td>\n",
       "      <td>9.955792e+05</td>\n",
       "      <td>190.660855</td>\n",
       "      <td>0.000000</td>\n",
       "      <td>0.000000e+00</td>\n",
       "      <td>0.000000</td>\n",
       "    </tr>\n",
       "    <tr>\n",
       "      <th>...</th>\n",
       "      <td>...</td>\n",
       "      <td>...</td>\n",
       "      <td>...</td>\n",
       "      <td>...</td>\n",
       "      <td>...</td>\n",
       "      <td>...</td>\n",
       "      <td>...</td>\n",
       "      <td>...</td>\n",
       "      <td>...</td>\n",
       "      <td>...</td>\n",
       "      <td>...</td>\n",
       "    </tr>\n",
       "    <tr>\n",
       "      <th>19651</th>\n",
       "      <td>751</td>\n",
       "      <td>VOW3.DE</td>\n",
       "      <td>2021-10-25</td>\n",
       "      <td>-1</td>\n",
       "      <td>1.237850e+06</td>\n",
       "      <td>0</td>\n",
       "      <td>1.237850e+06</td>\n",
       "      <td>200.644997</td>\n",
       "      <td>744.131743</td>\n",
       "      <td>0.000000e+00</td>\n",
       "      <td>9582.791242</td>\n",
       "    </tr>\n",
       "    <tr>\n",
       "      <th>19652</th>\n",
       "      <td>752</td>\n",
       "      <td>VOW3.DE</td>\n",
       "      <td>2021-10-26</td>\n",
       "      <td>1</td>\n",
       "      <td>1.262965e+02</td>\n",
       "      <td>6032</td>\n",
       "      <td>1.241814e+06</td>\n",
       "      <td>205.850006</td>\n",
       "      <td>743.188287</td>\n",
       "      <td>1.237724e+06</td>\n",
       "      <td>0.000000</td>\n",
       "    </tr>\n",
       "    <tr>\n",
       "      <th>19653</th>\n",
       "      <td>753</td>\n",
       "      <td>VOW3.DE</td>\n",
       "      <td>2021-10-27</td>\n",
       "      <td>0</td>\n",
       "      <td>1.262965e+02</td>\n",
       "      <td>6032</td>\n",
       "      <td>1.227488e+06</td>\n",
       "      <td>203.475006</td>\n",
       "      <td>0.000000</td>\n",
       "      <td>1.237724e+06</td>\n",
       "      <td>0.000000</td>\n",
       "    </tr>\n",
       "    <tr>\n",
       "      <th>19654</th>\n",
       "      <td>754</td>\n",
       "      <td>VOW3.DE</td>\n",
       "      <td>2021-10-28</td>\n",
       "      <td>1</td>\n",
       "      <td>1.262965e+02</td>\n",
       "      <td>6032</td>\n",
       "      <td>1.190180e+06</td>\n",
       "      <td>197.289993</td>\n",
       "      <td>0.000000</td>\n",
       "      <td>1.237724e+06</td>\n",
       "      <td>0.000000</td>\n",
       "    </tr>\n",
       "    <tr>\n",
       "      <th>19655</th>\n",
       "      <td>755</td>\n",
       "      <td>VOW3.DE</td>\n",
       "      <td>2021-10-29</td>\n",
       "      <td>1</td>\n",
       "      <td>1.262965e+02</td>\n",
       "      <td>6032</td>\n",
       "      <td>1.169791e+06</td>\n",
       "      <td>193.910004</td>\n",
       "      <td>0.000000</td>\n",
       "      <td>1.237724e+06</td>\n",
       "      <td>0.000000</td>\n",
       "    </tr>\n",
       "  </tbody>\n",
       "</table>\n",
       "<p>19656 rows × 11 columns</p>\n",
       "</div>"
      ],
      "text/plain": [
       "       Unnamed: 0   ticker       date  signal  cash_balance  share_holding  \\\n",
       "0               0   ADS.DE 2018-11-01       0  1.000000e+06              0   \n",
       "1               1   ADS.DE 2018-11-02       1  7.545209e+01           5015   \n",
       "2               2   ADS.DE 2018-11-05      -1  9.955792e+05              0   \n",
       "3               3   ADS.DE 2018-11-06       0  9.955792e+05              0   \n",
       "4               4   ADS.DE 2018-11-07      -1  9.955792e+05              0   \n",
       "...           ...      ...        ...     ...           ...            ...   \n",
       "19651         751  VOW3.DE 2021-10-25      -1  1.237850e+06              0   \n",
       "19652         752  VOW3.DE 2021-10-26       1  1.262965e+02           6032   \n",
       "19653         753  VOW3.DE 2021-10-27       0  1.262965e+02           6032   \n",
       "19654         754  VOW3.DE 2021-10-28       1  1.262965e+02           6032   \n",
       "19655         755  VOW3.DE 2021-10-29       1  1.262965e+02           6032   \n",
       "\n",
       "              asset  transaction_price  transaction_cost  trading_outlay  \\\n",
       "0      1.000000e+06         197.048916          0.000000    0.000000e+00   \n",
       "1      9.942750e+05         198.245183        600.594372    9.999245e+05   \n",
       "2      9.955792e+05         197.958070        598.661441    0.000000e+00   \n",
       "3      9.955792e+05         197.096758          0.000000    0.000000e+00   \n",
       "4      9.955792e+05         190.660855          0.000000    0.000000e+00   \n",
       "...             ...                ...               ...             ...   \n",
       "19651  1.237850e+06         200.644997        744.131743    0.000000e+00   \n",
       "19652  1.241814e+06         205.850006        743.188287    1.237724e+06   \n",
       "19653  1.227488e+06         203.475006          0.000000    1.237724e+06   \n",
       "19654  1.190180e+06         197.289993          0.000000    1.237724e+06   \n",
       "19655  1.169791e+06         193.910004          0.000000    1.237724e+06   \n",
       "\n",
       "            reward  \n",
       "0         0.000000  \n",
       "1         0.000000  \n",
       "2     -4420.807106  \n",
       "3         0.000000  \n",
       "4         0.000000  \n",
       "...            ...  \n",
       "19651  9582.791242  \n",
       "19652     0.000000  \n",
       "19653     0.000000  \n",
       "19654     0.000000  \n",
       "19655     0.000000  \n",
       "\n",
       "[19656 rows x 11 columns]"
      ]
     },
     "execution_count": 3,
     "metadata": {},
     "output_type": "execute_result"
    }
   ],
   "source": [
    "df_drl"
   ]
  },
  {
   "cell_type": "code",
   "execution_count": 4,
   "id": "d4b88a10",
   "metadata": {},
   "outputs": [],
   "source": [
    "df_etf = yf.Ticker(\"EXS1.DE\").history(start=\"2018-11-01\", end=\"2021-11-01\")"
   ]
  },
  {
   "cell_type": "code",
   "execution_count": 5,
   "id": "4a057407",
   "metadata": {},
   "outputs": [],
   "source": [
    "def get_returns(prices):\n",
    "    return prices[-1]/prices[0]-1"
   ]
  },
  {
   "cell_type": "code",
   "execution_count": 14,
   "id": "a77a4ff3",
   "metadata": {},
   "outputs": [],
   "source": [
    "df_sum = pd.DataFrame(df_drl.groupby([\"date\"]).asset.apply(np.sum))\n",
    "monthly_return_drl = df_sum.groupby([df_sum.index.year, df_sum.index.month]).asset.apply(get_returns)\n",
    "monthly_return_etf = df_etf.groupby([df_etf.index.year, df_etf.index.month]).Close.apply(get_returns)"
   ]
  },
  {
   "cell_type": "code",
   "execution_count": 15,
   "id": "9d7829f7",
   "metadata": {},
   "outputs": [],
   "source": [
    "monthly_return_drl = np.resize([np.nan]*10 + list(monthly_return_drl.values) + [np.nan]*2, (4, 12))\n",
    "monthly_return_etf = np.resize([np.nan]*10 + list(monthly_return_etf.values) + [np.nan]*2, (4, 12))"
   ]
  },
  {
   "cell_type": "code",
   "execution_count": 16,
   "id": "a5e73994",
   "metadata": {},
   "outputs": [
    {
     "name": "stderr",
     "output_type": "stream",
     "text": [
      "/home/zj/anaconda3/envs/rllib_test/lib/python3.7/site-packages/plotly/graph_objs/_deprecations.py:68: DeprecationWarning:\n",
      "\n",
      "plotly.graph_objs.Annotations is deprecated.\n",
      "Please replace it with a list or tuple of instances of the following types\n",
      "  - plotly.graph_objs.layout.Annotation\n",
      "  - plotly.graph_objs.layout.scene.Annotation\n",
      "\n",
      "\n",
      "/home/zj/anaconda3/envs/rllib_test/lib/python3.7/site-packages/plotly/graph_objs/_deprecations.py:149: DeprecationWarning:\n",
      "\n",
      "plotly.graph_objs.Annotation is deprecated.\n",
      "Please replace it with one of the following more specific types\n",
      "  - plotly.graph_objs.layout.Annotation\n",
      "  - plotly.graph_objs.layout.scene.Annotation\n",
      "\n",
      "\n",
      "/home/zj/anaconda3/envs/rllib_test/lib/python3.7/site-packages/plotly/graph_objs/_deprecations.py:40: DeprecationWarning:\n",
      "\n",
      "plotly.graph_objs.Data is deprecated.\n",
      "Please replace it with a list or tuple of instances of the following types\n",
      "  - plotly.graph_objs.Scatter\n",
      "  - plotly.graph_objs.Bar\n",
      "  - plotly.graph_objs.Area\n",
      "  - plotly.graph_objs.Histogram\n",
      "  - etc.\n",
      "\n",
      "\n",
      "/home/zj/anaconda3/envs/rllib_test/lib/python3.7/site-packages/plotly/graph_objs/_deprecations.py:550: DeprecationWarning:\n",
      "\n",
      "plotly.graph_objs.XAxis is deprecated.\n",
      "Please replace it with one of the following more specific types\n",
      "  - plotly.graph_objs.layout.XAxis\n",
      "  - plotly.graph_objs.layout.scene.XAxis\n",
      "\n",
      "\n",
      "/home/zj/anaconda3/envs/rllib_test/lib/python3.7/site-packages/plotly/graph_objs/_deprecations.py:578: DeprecationWarning:\n",
      "\n",
      "plotly.graph_objs.YAxis is deprecated.\n",
      "Please replace it with one of the following more specific types\n",
      "  - plotly.graph_objs.layout.YAxis\n",
      "  - plotly.graph_objs.layout.scene.YAxis\n",
      "\n",
      "\n"
     ]
    },
    {
     "data": {
      "application/vnd.plotly.v1+json": {
       "config": {
        "plotlyServerURL": "https://plot.ly"
       },
       "data": [
        {
         "colorscale": [
          [
           0,
           "#ef476f"
          ],
          [
           0.5,
           "white"
          ],
          [
           1,
           "#06d6a0"
          ]
         ],
         "showscale": true,
         "type": "heatmap",
         "x": [
          "Jan",
          "Feb",
          "Mar",
          "Apr",
          "May",
          "Jun",
          "Jul",
          "Aug",
          "Sep",
          "Oct",
          "Nov",
          "Dec"
         ],
         "y": [
          2018,
          2019,
          2020,
          2021
         ],
         "z": [
          [
           null,
           null,
           null,
           null,
           null,
           null,
           null,
           null,
           null,
           null,
           -0.027114779872049466,
           -0.009028898637195915
          ],
          [
           0.05327512863484363,
           0.0020334932887775548,
           -0.034832766371645896,
           0.032864255307546,
           -0.026113576797581417,
           0.005651252734609313,
           -0.015141310442336353,
           -0.03320377325497248,
           0.032415374481190584,
           -0.006059469922256477,
           -0.02315111401422898,
           0.01613370248230317
          ],
          [
           -0.027745742219408953,
           -0.06849120851970192,
           -0.20346728196361774,
           0.09447872572405158,
           0.03850784744594349,
           -0.013825006283219476,
           0.02461550244750721,
           0.017940634701260727,
           -0.017964778786665914,
           -0.09977459525528565,
           0.09512482379183185,
           0.0035554878468491147
          ],
          [
           -0.04879440170235616,
           -0.004965244923929024,
           0.042906880759955746,
           -0.010208863270980584,
           -0.0006324471233124518,
           -0.005707114849181183,
           -0.004225417918395924,
           0.01627600945269303,
           -0.020137792553215905,
           0.008447484129896043,
           null,
           null
          ]
         ]
        }
       ],
       "layout": {
        "annotations": [
         {
          "showarrow": false,
          "text": "nan",
          "x": "Jan",
          "xref": "x",
          "y": 2018,
          "yref": "y"
         },
         {
          "showarrow": false,
          "text": "nan",
          "x": "Feb",
          "xref": "x",
          "y": 2018,
          "yref": "y"
         },
         {
          "showarrow": false,
          "text": "nan",
          "x": "Mar",
          "xref": "x",
          "y": 2018,
          "yref": "y"
         },
         {
          "showarrow": false,
          "text": "nan",
          "x": "Apr",
          "xref": "x",
          "y": 2018,
          "yref": "y"
         },
         {
          "showarrow": false,
          "text": "nan",
          "x": "May",
          "xref": "x",
          "y": 2018,
          "yref": "y"
         },
         {
          "showarrow": false,
          "text": "nan",
          "x": "Jun",
          "xref": "x",
          "y": 2018,
          "yref": "y"
         },
         {
          "showarrow": false,
          "text": "nan",
          "x": "Jul",
          "xref": "x",
          "y": 2018,
          "yref": "y"
         },
         {
          "showarrow": false,
          "text": "nan",
          "x": "Aug",
          "xref": "x",
          "y": 2018,
          "yref": "y"
         },
         {
          "showarrow": false,
          "text": "nan",
          "x": "Sep",
          "xref": "x",
          "y": 2018,
          "yref": "y"
         },
         {
          "showarrow": false,
          "text": "nan",
          "x": "Oct",
          "xref": "x",
          "y": 2018,
          "yref": "y"
         },
         {
          "showarrow": false,
          "text": "-2.71",
          "x": "Nov",
          "xref": "x",
          "y": 2018,
          "yref": "y"
         },
         {
          "showarrow": false,
          "text": "-0.9",
          "x": "Dec",
          "xref": "x",
          "y": 2018,
          "yref": "y"
         },
         {
          "showarrow": false,
          "text": "5.33",
          "x": "Jan",
          "xref": "x",
          "y": 2019,
          "yref": "y"
         },
         {
          "showarrow": false,
          "text": "0.2",
          "x": "Feb",
          "xref": "x",
          "y": 2019,
          "yref": "y"
         },
         {
          "showarrow": false,
          "text": "-3.48",
          "x": "Mar",
          "xref": "x",
          "y": 2019,
          "yref": "y"
         },
         {
          "showarrow": false,
          "text": "3.29",
          "x": "Apr",
          "xref": "x",
          "y": 2019,
          "yref": "y"
         },
         {
          "showarrow": false,
          "text": "-2.61",
          "x": "May",
          "xref": "x",
          "y": 2019,
          "yref": "y"
         },
         {
          "showarrow": false,
          "text": "0.57",
          "x": "Jun",
          "xref": "x",
          "y": 2019,
          "yref": "y"
         },
         {
          "showarrow": false,
          "text": "-1.51",
          "x": "Jul",
          "xref": "x",
          "y": 2019,
          "yref": "y"
         },
         {
          "showarrow": false,
          "text": "-3.32",
          "x": "Aug",
          "xref": "x",
          "y": 2019,
          "yref": "y"
         },
         {
          "showarrow": false,
          "text": "3.24",
          "x": "Sep",
          "xref": "x",
          "y": 2019,
          "yref": "y"
         },
         {
          "showarrow": false,
          "text": "-0.61",
          "x": "Oct",
          "xref": "x",
          "y": 2019,
          "yref": "y"
         },
         {
          "showarrow": false,
          "text": "-2.32",
          "x": "Nov",
          "xref": "x",
          "y": 2019,
          "yref": "y"
         },
         {
          "showarrow": false,
          "text": "1.61",
          "x": "Dec",
          "xref": "x",
          "y": 2019,
          "yref": "y"
         },
         {
          "showarrow": false,
          "text": "-2.77",
          "x": "Jan",
          "xref": "x",
          "y": 2020,
          "yref": "y"
         },
         {
          "showarrow": false,
          "text": "-6.85",
          "x": "Feb",
          "xref": "x",
          "y": 2020,
          "yref": "y"
         },
         {
          "showarrow": false,
          "text": "-20.35",
          "x": "Mar",
          "xref": "x",
          "y": 2020,
          "yref": "y"
         },
         {
          "showarrow": false,
          "text": "9.45",
          "x": "Apr",
          "xref": "x",
          "y": 2020,
          "yref": "y"
         },
         {
          "showarrow": false,
          "text": "3.85",
          "x": "May",
          "xref": "x",
          "y": 2020,
          "yref": "y"
         },
         {
          "showarrow": false,
          "text": "-1.38",
          "x": "Jun",
          "xref": "x",
          "y": 2020,
          "yref": "y"
         },
         {
          "showarrow": false,
          "text": "2.46",
          "x": "Jul",
          "xref": "x",
          "y": 2020,
          "yref": "y"
         },
         {
          "showarrow": false,
          "text": "1.79",
          "x": "Aug",
          "xref": "x",
          "y": 2020,
          "yref": "y"
         },
         {
          "showarrow": false,
          "text": "-1.8",
          "x": "Sep",
          "xref": "x",
          "y": 2020,
          "yref": "y"
         },
         {
          "showarrow": false,
          "text": "-9.98",
          "x": "Oct",
          "xref": "x",
          "y": 2020,
          "yref": "y"
         },
         {
          "showarrow": false,
          "text": "9.51",
          "x": "Nov",
          "xref": "x",
          "y": 2020,
          "yref": "y"
         },
         {
          "showarrow": false,
          "text": "0.36",
          "x": "Dec",
          "xref": "x",
          "y": 2020,
          "yref": "y"
         },
         {
          "showarrow": false,
          "text": "-4.88",
          "x": "Jan",
          "xref": "x",
          "y": 2021,
          "yref": "y"
         },
         {
          "showarrow": false,
          "text": "-0.5",
          "x": "Feb",
          "xref": "x",
          "y": 2021,
          "yref": "y"
         },
         {
          "showarrow": false,
          "text": "4.29",
          "x": "Mar",
          "xref": "x",
          "y": 2021,
          "yref": "y"
         },
         {
          "showarrow": false,
          "text": "-1.02",
          "x": "Apr",
          "xref": "x",
          "y": 2021,
          "yref": "y"
         },
         {
          "showarrow": false,
          "text": "-0.06",
          "x": "May",
          "xref": "x",
          "y": 2021,
          "yref": "y"
         },
         {
          "showarrow": false,
          "text": "-0.57",
          "x": "Jun",
          "xref": "x",
          "y": 2021,
          "yref": "y"
         },
         {
          "showarrow": false,
          "text": "-0.42",
          "x": "Jul",
          "xref": "x",
          "y": 2021,
          "yref": "y"
         },
         {
          "showarrow": false,
          "text": "1.63",
          "x": "Aug",
          "xref": "x",
          "y": 2021,
          "yref": "y"
         },
         {
          "showarrow": false,
          "text": "-2.01",
          "x": "Sep",
          "xref": "x",
          "y": 2021,
          "yref": "y"
         },
         {
          "showarrow": false,
          "text": "0.84",
          "x": "Oct",
          "xref": "x",
          "y": 2021,
          "yref": "y"
         },
         {
          "showarrow": false,
          "text": "nan",
          "x": "Nov",
          "xref": "x",
          "y": 2021,
          "yref": "y"
         },
         {
          "showarrow": false,
          "text": "nan",
          "x": "Dec",
          "xref": "x",
          "y": 2021,
          "yref": "y"
         }
        ],
        "autosize": true,
        "template": {
         "data": {
          "bar": [
           {
            "error_x": {
             "color": "#2a3f5f"
            },
            "error_y": {
             "color": "#2a3f5f"
            },
            "marker": {
             "line": {
              "color": "#E5ECF6",
              "width": 0.5
             },
             "pattern": {
              "fillmode": "overlay",
              "size": 10,
              "solidity": 0.2
             }
            },
            "type": "bar"
           }
          ],
          "barpolar": [
           {
            "marker": {
             "line": {
              "color": "#E5ECF6",
              "width": 0.5
             },
             "pattern": {
              "fillmode": "overlay",
              "size": 10,
              "solidity": 0.2
             }
            },
            "type": "barpolar"
           }
          ],
          "carpet": [
           {
            "aaxis": {
             "endlinecolor": "#2a3f5f",
             "gridcolor": "white",
             "linecolor": "white",
             "minorgridcolor": "white",
             "startlinecolor": "#2a3f5f"
            },
            "baxis": {
             "endlinecolor": "#2a3f5f",
             "gridcolor": "white",
             "linecolor": "white",
             "minorgridcolor": "white",
             "startlinecolor": "#2a3f5f"
            },
            "type": "carpet"
           }
          ],
          "choropleth": [
           {
            "colorbar": {
             "outlinewidth": 0,
             "ticks": ""
            },
            "type": "choropleth"
           }
          ],
          "contour": [
           {
            "colorbar": {
             "outlinewidth": 0,
             "ticks": ""
            },
            "colorscale": [
             [
              0,
              "#0d0887"
             ],
             [
              0.1111111111111111,
              "#46039f"
             ],
             [
              0.2222222222222222,
              "#7201a8"
             ],
             [
              0.3333333333333333,
              "#9c179e"
             ],
             [
              0.4444444444444444,
              "#bd3786"
             ],
             [
              0.5555555555555556,
              "#d8576b"
             ],
             [
              0.6666666666666666,
              "#ed7953"
             ],
             [
              0.7777777777777778,
              "#fb9f3a"
             ],
             [
              0.8888888888888888,
              "#fdca26"
             ],
             [
              1,
              "#f0f921"
             ]
            ],
            "type": "contour"
           }
          ],
          "contourcarpet": [
           {
            "colorbar": {
             "outlinewidth": 0,
             "ticks": ""
            },
            "type": "contourcarpet"
           }
          ],
          "heatmap": [
           {
            "colorbar": {
             "outlinewidth": 0,
             "ticks": ""
            },
            "colorscale": [
             [
              0,
              "#0d0887"
             ],
             [
              0.1111111111111111,
              "#46039f"
             ],
             [
              0.2222222222222222,
              "#7201a8"
             ],
             [
              0.3333333333333333,
              "#9c179e"
             ],
             [
              0.4444444444444444,
              "#bd3786"
             ],
             [
              0.5555555555555556,
              "#d8576b"
             ],
             [
              0.6666666666666666,
              "#ed7953"
             ],
             [
              0.7777777777777778,
              "#fb9f3a"
             ],
             [
              0.8888888888888888,
              "#fdca26"
             ],
             [
              1,
              "#f0f921"
             ]
            ],
            "type": "heatmap"
           }
          ],
          "heatmapgl": [
           {
            "colorbar": {
             "outlinewidth": 0,
             "ticks": ""
            },
            "colorscale": [
             [
              0,
              "#0d0887"
             ],
             [
              0.1111111111111111,
              "#46039f"
             ],
             [
              0.2222222222222222,
              "#7201a8"
             ],
             [
              0.3333333333333333,
              "#9c179e"
             ],
             [
              0.4444444444444444,
              "#bd3786"
             ],
             [
              0.5555555555555556,
              "#d8576b"
             ],
             [
              0.6666666666666666,
              "#ed7953"
             ],
             [
              0.7777777777777778,
              "#fb9f3a"
             ],
             [
              0.8888888888888888,
              "#fdca26"
             ],
             [
              1,
              "#f0f921"
             ]
            ],
            "type": "heatmapgl"
           }
          ],
          "histogram": [
           {
            "marker": {
             "pattern": {
              "fillmode": "overlay",
              "size": 10,
              "solidity": 0.2
             }
            },
            "type": "histogram"
           }
          ],
          "histogram2d": [
           {
            "colorbar": {
             "outlinewidth": 0,
             "ticks": ""
            },
            "colorscale": [
             [
              0,
              "#0d0887"
             ],
             [
              0.1111111111111111,
              "#46039f"
             ],
             [
              0.2222222222222222,
              "#7201a8"
             ],
             [
              0.3333333333333333,
              "#9c179e"
             ],
             [
              0.4444444444444444,
              "#bd3786"
             ],
             [
              0.5555555555555556,
              "#d8576b"
             ],
             [
              0.6666666666666666,
              "#ed7953"
             ],
             [
              0.7777777777777778,
              "#fb9f3a"
             ],
             [
              0.8888888888888888,
              "#fdca26"
             ],
             [
              1,
              "#f0f921"
             ]
            ],
            "type": "histogram2d"
           }
          ],
          "histogram2dcontour": [
           {
            "colorbar": {
             "outlinewidth": 0,
             "ticks": ""
            },
            "colorscale": [
             [
              0,
              "#0d0887"
             ],
             [
              0.1111111111111111,
              "#46039f"
             ],
             [
              0.2222222222222222,
              "#7201a8"
             ],
             [
              0.3333333333333333,
              "#9c179e"
             ],
             [
              0.4444444444444444,
              "#bd3786"
             ],
             [
              0.5555555555555556,
              "#d8576b"
             ],
             [
              0.6666666666666666,
              "#ed7953"
             ],
             [
              0.7777777777777778,
              "#fb9f3a"
             ],
             [
              0.8888888888888888,
              "#fdca26"
             ],
             [
              1,
              "#f0f921"
             ]
            ],
            "type": "histogram2dcontour"
           }
          ],
          "mesh3d": [
           {
            "colorbar": {
             "outlinewidth": 0,
             "ticks": ""
            },
            "type": "mesh3d"
           }
          ],
          "parcoords": [
           {
            "line": {
             "colorbar": {
              "outlinewidth": 0,
              "ticks": ""
             }
            },
            "type": "parcoords"
           }
          ],
          "pie": [
           {
            "automargin": true,
            "type": "pie"
           }
          ],
          "scatter": [
           {
            "marker": {
             "colorbar": {
              "outlinewidth": 0,
              "ticks": ""
             }
            },
            "type": "scatter"
           }
          ],
          "scatter3d": [
           {
            "line": {
             "colorbar": {
              "outlinewidth": 0,
              "ticks": ""
             }
            },
            "marker": {
             "colorbar": {
              "outlinewidth": 0,
              "ticks": ""
             }
            },
            "type": "scatter3d"
           }
          ],
          "scattercarpet": [
           {
            "marker": {
             "colorbar": {
              "outlinewidth": 0,
              "ticks": ""
             }
            },
            "type": "scattercarpet"
           }
          ],
          "scattergeo": [
           {
            "marker": {
             "colorbar": {
              "outlinewidth": 0,
              "ticks": ""
             }
            },
            "type": "scattergeo"
           }
          ],
          "scattergl": [
           {
            "marker": {
             "colorbar": {
              "outlinewidth": 0,
              "ticks": ""
             }
            },
            "type": "scattergl"
           }
          ],
          "scattermapbox": [
           {
            "marker": {
             "colorbar": {
              "outlinewidth": 0,
              "ticks": ""
             }
            },
            "type": "scattermapbox"
           }
          ],
          "scatterpolar": [
           {
            "marker": {
             "colorbar": {
              "outlinewidth": 0,
              "ticks": ""
             }
            },
            "type": "scatterpolar"
           }
          ],
          "scatterpolargl": [
           {
            "marker": {
             "colorbar": {
              "outlinewidth": 0,
              "ticks": ""
             }
            },
            "type": "scatterpolargl"
           }
          ],
          "scatterternary": [
           {
            "marker": {
             "colorbar": {
              "outlinewidth": 0,
              "ticks": ""
             }
            },
            "type": "scatterternary"
           }
          ],
          "surface": [
           {
            "colorbar": {
             "outlinewidth": 0,
             "ticks": ""
            },
            "colorscale": [
             [
              0,
              "#0d0887"
             ],
             [
              0.1111111111111111,
              "#46039f"
             ],
             [
              0.2222222222222222,
              "#7201a8"
             ],
             [
              0.3333333333333333,
              "#9c179e"
             ],
             [
              0.4444444444444444,
              "#bd3786"
             ],
             [
              0.5555555555555556,
              "#d8576b"
             ],
             [
              0.6666666666666666,
              "#ed7953"
             ],
             [
              0.7777777777777778,
              "#fb9f3a"
             ],
             [
              0.8888888888888888,
              "#fdca26"
             ],
             [
              1,
              "#f0f921"
             ]
            ],
            "type": "surface"
           }
          ],
          "table": [
           {
            "cells": {
             "fill": {
              "color": "#EBF0F8"
             },
             "line": {
              "color": "white"
             }
            },
            "header": {
             "fill": {
              "color": "#C8D4E3"
             },
             "line": {
              "color": "white"
             }
            },
            "type": "table"
           }
          ]
         },
         "layout": {
          "annotationdefaults": {
           "arrowcolor": "#2a3f5f",
           "arrowhead": 0,
           "arrowwidth": 1
          },
          "autotypenumbers": "strict",
          "coloraxis": {
           "colorbar": {
            "outlinewidth": 0,
            "ticks": ""
           }
          },
          "colorscale": {
           "diverging": [
            [
             0,
             "#8e0152"
            ],
            [
             0.1,
             "#c51b7d"
            ],
            [
             0.2,
             "#de77ae"
            ],
            [
             0.3,
             "#f1b6da"
            ],
            [
             0.4,
             "#fde0ef"
            ],
            [
             0.5,
             "#f7f7f7"
            ],
            [
             0.6,
             "#e6f5d0"
            ],
            [
             0.7,
             "#b8e186"
            ],
            [
             0.8,
             "#7fbc41"
            ],
            [
             0.9,
             "#4d9221"
            ],
            [
             1,
             "#276419"
            ]
           ],
           "sequential": [
            [
             0,
             "#0d0887"
            ],
            [
             0.1111111111111111,
             "#46039f"
            ],
            [
             0.2222222222222222,
             "#7201a8"
            ],
            [
             0.3333333333333333,
             "#9c179e"
            ],
            [
             0.4444444444444444,
             "#bd3786"
            ],
            [
             0.5555555555555556,
             "#d8576b"
            ],
            [
             0.6666666666666666,
             "#ed7953"
            ],
            [
             0.7777777777777778,
             "#fb9f3a"
            ],
            [
             0.8888888888888888,
             "#fdca26"
            ],
            [
             1,
             "#f0f921"
            ]
           ],
           "sequentialminus": [
            [
             0,
             "#0d0887"
            ],
            [
             0.1111111111111111,
             "#46039f"
            ],
            [
             0.2222222222222222,
             "#7201a8"
            ],
            [
             0.3333333333333333,
             "#9c179e"
            ],
            [
             0.4444444444444444,
             "#bd3786"
            ],
            [
             0.5555555555555556,
             "#d8576b"
            ],
            [
             0.6666666666666666,
             "#ed7953"
            ],
            [
             0.7777777777777778,
             "#fb9f3a"
            ],
            [
             0.8888888888888888,
             "#fdca26"
            ],
            [
             1,
             "#f0f921"
            ]
           ]
          },
          "colorway": [
           "#636efa",
           "#EF553B",
           "#00cc96",
           "#ab63fa",
           "#FFA15A",
           "#19d3f3",
           "#FF6692",
           "#B6E880",
           "#FF97FF",
           "#FECB52"
          ],
          "font": {
           "color": "#2a3f5f"
          },
          "geo": {
           "bgcolor": "white",
           "lakecolor": "white",
           "landcolor": "#E5ECF6",
           "showlakes": true,
           "showland": true,
           "subunitcolor": "white"
          },
          "hoverlabel": {
           "align": "left"
          },
          "hovermode": "closest",
          "mapbox": {
           "style": "light"
          },
          "paper_bgcolor": "white",
          "plot_bgcolor": "#E5ECF6",
          "polar": {
           "angularaxis": {
            "gridcolor": "white",
            "linecolor": "white",
            "ticks": ""
           },
           "bgcolor": "#E5ECF6",
           "radialaxis": {
            "gridcolor": "white",
            "linecolor": "white",
            "ticks": ""
           }
          },
          "scene": {
           "xaxis": {
            "backgroundcolor": "#E5ECF6",
            "gridcolor": "white",
            "gridwidth": 2,
            "linecolor": "white",
            "showbackground": true,
            "ticks": "",
            "zerolinecolor": "white"
           },
           "yaxis": {
            "backgroundcolor": "#E5ECF6",
            "gridcolor": "white",
            "gridwidth": 2,
            "linecolor": "white",
            "showbackground": true,
            "ticks": "",
            "zerolinecolor": "white"
           },
           "zaxis": {
            "backgroundcolor": "#E5ECF6",
            "gridcolor": "white",
            "gridwidth": 2,
            "linecolor": "white",
            "showbackground": true,
            "ticks": "",
            "zerolinecolor": "white"
           }
          },
          "shapedefaults": {
           "line": {
            "color": "#2a3f5f"
           }
          },
          "ternary": {
           "aaxis": {
            "gridcolor": "white",
            "linecolor": "white",
            "ticks": ""
           },
           "baxis": {
            "gridcolor": "white",
            "linecolor": "white",
            "ticks": ""
           },
           "bgcolor": "#E5ECF6",
           "caxis": {
            "gridcolor": "white",
            "linecolor": "white",
            "ticks": ""
           }
          },
          "title": {
           "x": 0.05
          },
          "xaxis": {
           "automargin": true,
           "gridcolor": "white",
           "linecolor": "white",
           "ticks": "",
           "title": {
            "standoff": 15
           },
           "zerolinecolor": "white",
           "zerolinewidth": 2
          },
          "yaxis": {
           "automargin": true,
           "gridcolor": "white",
           "linecolor": "white",
           "ticks": "",
           "title": {
            "standoff": 15
           },
           "zerolinecolor": "white",
           "zerolinewidth": 2
          }
         }
        },
        "title": {
         "text": "Monthly returns in a heat map (%)"
        },
        "xaxis": {
         "side": "top",
         "ticks": ""
        },
        "yaxis": {
         "ticks": "",
         "ticksuffix": "  "
        }
       }
      },
      "text/html": [
       "<div>                            <div id=\"33381d6b-244e-472e-9668-db8728b5561e\" class=\"plotly-graph-div\" style=\"height:525px; width:100%;\"></div>            <script type=\"text/javascript\">                require([\"plotly\"], function(Plotly) {                    window.PLOTLYENV=window.PLOTLYENV || {};                                    if (document.getElementById(\"33381d6b-244e-472e-9668-db8728b5561e\")) {                    Plotly.newPlot(                        \"33381d6b-244e-472e-9668-db8728b5561e\",                        [{\"colorscale\":[[0,\"#ef476f\"],[0.5,\"white\"],[1,\"#06d6a0\"]],\"showscale\":true,\"x\":[\"Jan\",\"Feb\",\"Mar\",\"Apr\",\"May\",\"Jun\",\"Jul\",\"Aug\",\"Sep\",\"Oct\",\"Nov\",\"Dec\"],\"y\":[2018,2019,2020,2021],\"z\":[[null,null,null,null,null,null,null,null,null,null,-0.027114779872049466,-0.009028898637195915],[0.05327512863484363,0.0020334932887775548,-0.034832766371645896,0.032864255307546,-0.026113576797581417,0.005651252734609313,-0.015141310442336353,-0.03320377325497248,0.032415374481190584,-0.006059469922256477,-0.02315111401422898,0.01613370248230317],[-0.027745742219408953,-0.06849120851970192,-0.20346728196361774,0.09447872572405158,0.03850784744594349,-0.013825006283219476,0.02461550244750721,0.017940634701260727,-0.017964778786665914,-0.09977459525528565,0.09512482379183185,0.0035554878468491147],[-0.04879440170235616,-0.004965244923929024,0.042906880759955746,-0.010208863270980584,-0.0006324471233124518,-0.005707114849181183,-0.004225417918395924,0.01627600945269303,-0.020137792553215905,0.008447484129896043,null,null]],\"type\":\"heatmap\"}],                        {\"template\":{\"data\":{\"bar\":[{\"error_x\":{\"color\":\"#2a3f5f\"},\"error_y\":{\"color\":\"#2a3f5f\"},\"marker\":{\"line\":{\"color\":\"#E5ECF6\",\"width\":0.5},\"pattern\":{\"fillmode\":\"overlay\",\"size\":10,\"solidity\":0.2}},\"type\":\"bar\"}],\"barpolar\":[{\"marker\":{\"line\":{\"color\":\"#E5ECF6\",\"width\":0.5},\"pattern\":{\"fillmode\":\"overlay\",\"size\":10,\"solidity\":0.2}},\"type\":\"barpolar\"}],\"carpet\":[{\"aaxis\":{\"endlinecolor\":\"#2a3f5f\",\"gridcolor\":\"white\",\"linecolor\":\"white\",\"minorgridcolor\":\"white\",\"startlinecolor\":\"#2a3f5f\"},\"baxis\":{\"endlinecolor\":\"#2a3f5f\",\"gridcolor\":\"white\",\"linecolor\":\"white\",\"minorgridcolor\":\"white\",\"startlinecolor\":\"#2a3f5f\"},\"type\":\"carpet\"}],\"choropleth\":[{\"colorbar\":{\"outlinewidth\":0,\"ticks\":\"\"},\"type\":\"choropleth\"}],\"contour\":[{\"colorbar\":{\"outlinewidth\":0,\"ticks\":\"\"},\"colorscale\":[[0.0,\"#0d0887\"],[0.1111111111111111,\"#46039f\"],[0.2222222222222222,\"#7201a8\"],[0.3333333333333333,\"#9c179e\"],[0.4444444444444444,\"#bd3786\"],[0.5555555555555556,\"#d8576b\"],[0.6666666666666666,\"#ed7953\"],[0.7777777777777778,\"#fb9f3a\"],[0.8888888888888888,\"#fdca26\"],[1.0,\"#f0f921\"]],\"type\":\"contour\"}],\"contourcarpet\":[{\"colorbar\":{\"outlinewidth\":0,\"ticks\":\"\"},\"type\":\"contourcarpet\"}],\"heatmap\":[{\"colorbar\":{\"outlinewidth\":0,\"ticks\":\"\"},\"colorscale\":[[0.0,\"#0d0887\"],[0.1111111111111111,\"#46039f\"],[0.2222222222222222,\"#7201a8\"],[0.3333333333333333,\"#9c179e\"],[0.4444444444444444,\"#bd3786\"],[0.5555555555555556,\"#d8576b\"],[0.6666666666666666,\"#ed7953\"],[0.7777777777777778,\"#fb9f3a\"],[0.8888888888888888,\"#fdca26\"],[1.0,\"#f0f921\"]],\"type\":\"heatmap\"}],\"heatmapgl\":[{\"colorbar\":{\"outlinewidth\":0,\"ticks\":\"\"},\"colorscale\":[[0.0,\"#0d0887\"],[0.1111111111111111,\"#46039f\"],[0.2222222222222222,\"#7201a8\"],[0.3333333333333333,\"#9c179e\"],[0.4444444444444444,\"#bd3786\"],[0.5555555555555556,\"#d8576b\"],[0.6666666666666666,\"#ed7953\"],[0.7777777777777778,\"#fb9f3a\"],[0.8888888888888888,\"#fdca26\"],[1.0,\"#f0f921\"]],\"type\":\"heatmapgl\"}],\"histogram\":[{\"marker\":{\"pattern\":{\"fillmode\":\"overlay\",\"size\":10,\"solidity\":0.2}},\"type\":\"histogram\"}],\"histogram2d\":[{\"colorbar\":{\"outlinewidth\":0,\"ticks\":\"\"},\"colorscale\":[[0.0,\"#0d0887\"],[0.1111111111111111,\"#46039f\"],[0.2222222222222222,\"#7201a8\"],[0.3333333333333333,\"#9c179e\"],[0.4444444444444444,\"#bd3786\"],[0.5555555555555556,\"#d8576b\"],[0.6666666666666666,\"#ed7953\"],[0.7777777777777778,\"#fb9f3a\"],[0.8888888888888888,\"#fdca26\"],[1.0,\"#f0f921\"]],\"type\":\"histogram2d\"}],\"histogram2dcontour\":[{\"colorbar\":{\"outlinewidth\":0,\"ticks\":\"\"},\"colorscale\":[[0.0,\"#0d0887\"],[0.1111111111111111,\"#46039f\"],[0.2222222222222222,\"#7201a8\"],[0.3333333333333333,\"#9c179e\"],[0.4444444444444444,\"#bd3786\"],[0.5555555555555556,\"#d8576b\"],[0.6666666666666666,\"#ed7953\"],[0.7777777777777778,\"#fb9f3a\"],[0.8888888888888888,\"#fdca26\"],[1.0,\"#f0f921\"]],\"type\":\"histogram2dcontour\"}],\"mesh3d\":[{\"colorbar\":{\"outlinewidth\":0,\"ticks\":\"\"},\"type\":\"mesh3d\"}],\"parcoords\":[{\"line\":{\"colorbar\":{\"outlinewidth\":0,\"ticks\":\"\"}},\"type\":\"parcoords\"}],\"pie\":[{\"automargin\":true,\"type\":\"pie\"}],\"scatter\":[{\"marker\":{\"colorbar\":{\"outlinewidth\":0,\"ticks\":\"\"}},\"type\":\"scatter\"}],\"scatter3d\":[{\"line\":{\"colorbar\":{\"outlinewidth\":0,\"ticks\":\"\"}},\"marker\":{\"colorbar\":{\"outlinewidth\":0,\"ticks\":\"\"}},\"type\":\"scatter3d\"}],\"scattercarpet\":[{\"marker\":{\"colorbar\":{\"outlinewidth\":0,\"ticks\":\"\"}},\"type\":\"scattercarpet\"}],\"scattergeo\":[{\"marker\":{\"colorbar\":{\"outlinewidth\":0,\"ticks\":\"\"}},\"type\":\"scattergeo\"}],\"scattergl\":[{\"marker\":{\"colorbar\":{\"outlinewidth\":0,\"ticks\":\"\"}},\"type\":\"scattergl\"}],\"scattermapbox\":[{\"marker\":{\"colorbar\":{\"outlinewidth\":0,\"ticks\":\"\"}},\"type\":\"scattermapbox\"}],\"scatterpolar\":[{\"marker\":{\"colorbar\":{\"outlinewidth\":0,\"ticks\":\"\"}},\"type\":\"scatterpolar\"}],\"scatterpolargl\":[{\"marker\":{\"colorbar\":{\"outlinewidth\":0,\"ticks\":\"\"}},\"type\":\"scatterpolargl\"}],\"scatterternary\":[{\"marker\":{\"colorbar\":{\"outlinewidth\":0,\"ticks\":\"\"}},\"type\":\"scatterternary\"}],\"surface\":[{\"colorbar\":{\"outlinewidth\":0,\"ticks\":\"\"},\"colorscale\":[[0.0,\"#0d0887\"],[0.1111111111111111,\"#46039f\"],[0.2222222222222222,\"#7201a8\"],[0.3333333333333333,\"#9c179e\"],[0.4444444444444444,\"#bd3786\"],[0.5555555555555556,\"#d8576b\"],[0.6666666666666666,\"#ed7953\"],[0.7777777777777778,\"#fb9f3a\"],[0.8888888888888888,\"#fdca26\"],[1.0,\"#f0f921\"]],\"type\":\"surface\"}],\"table\":[{\"cells\":{\"fill\":{\"color\":\"#EBF0F8\"},\"line\":{\"color\":\"white\"}},\"header\":{\"fill\":{\"color\":\"#C8D4E3\"},\"line\":{\"color\":\"white\"}},\"type\":\"table\"}]},\"layout\":{\"annotationdefaults\":{\"arrowcolor\":\"#2a3f5f\",\"arrowhead\":0,\"arrowwidth\":1},\"autotypenumbers\":\"strict\",\"coloraxis\":{\"colorbar\":{\"outlinewidth\":0,\"ticks\":\"\"}},\"colorscale\":{\"diverging\":[[0,\"#8e0152\"],[0.1,\"#c51b7d\"],[0.2,\"#de77ae\"],[0.3,\"#f1b6da\"],[0.4,\"#fde0ef\"],[0.5,\"#f7f7f7\"],[0.6,\"#e6f5d0\"],[0.7,\"#b8e186\"],[0.8,\"#7fbc41\"],[0.9,\"#4d9221\"],[1,\"#276419\"]],\"sequential\":[[0.0,\"#0d0887\"],[0.1111111111111111,\"#46039f\"],[0.2222222222222222,\"#7201a8\"],[0.3333333333333333,\"#9c179e\"],[0.4444444444444444,\"#bd3786\"],[0.5555555555555556,\"#d8576b\"],[0.6666666666666666,\"#ed7953\"],[0.7777777777777778,\"#fb9f3a\"],[0.8888888888888888,\"#fdca26\"],[1.0,\"#f0f921\"]],\"sequentialminus\":[[0.0,\"#0d0887\"],[0.1111111111111111,\"#46039f\"],[0.2222222222222222,\"#7201a8\"],[0.3333333333333333,\"#9c179e\"],[0.4444444444444444,\"#bd3786\"],[0.5555555555555556,\"#d8576b\"],[0.6666666666666666,\"#ed7953\"],[0.7777777777777778,\"#fb9f3a\"],[0.8888888888888888,\"#fdca26\"],[1.0,\"#f0f921\"]]},\"colorway\":[\"#636efa\",\"#EF553B\",\"#00cc96\",\"#ab63fa\",\"#FFA15A\",\"#19d3f3\",\"#FF6692\",\"#B6E880\",\"#FF97FF\",\"#FECB52\"],\"font\":{\"color\":\"#2a3f5f\"},\"geo\":{\"bgcolor\":\"white\",\"lakecolor\":\"white\",\"landcolor\":\"#E5ECF6\",\"showlakes\":true,\"showland\":true,\"subunitcolor\":\"white\"},\"hoverlabel\":{\"align\":\"left\"},\"hovermode\":\"closest\",\"mapbox\":{\"style\":\"light\"},\"paper_bgcolor\":\"white\",\"plot_bgcolor\":\"#E5ECF6\",\"polar\":{\"angularaxis\":{\"gridcolor\":\"white\",\"linecolor\":\"white\",\"ticks\":\"\"},\"bgcolor\":\"#E5ECF6\",\"radialaxis\":{\"gridcolor\":\"white\",\"linecolor\":\"white\",\"ticks\":\"\"}},\"scene\":{\"xaxis\":{\"backgroundcolor\":\"#E5ECF6\",\"gridcolor\":\"white\",\"gridwidth\":2,\"linecolor\":\"white\",\"showbackground\":true,\"ticks\":\"\",\"zerolinecolor\":\"white\"},\"yaxis\":{\"backgroundcolor\":\"#E5ECF6\",\"gridcolor\":\"white\",\"gridwidth\":2,\"linecolor\":\"white\",\"showbackground\":true,\"ticks\":\"\",\"zerolinecolor\":\"white\"},\"zaxis\":{\"backgroundcolor\":\"#E5ECF6\",\"gridcolor\":\"white\",\"gridwidth\":2,\"linecolor\":\"white\",\"showbackground\":true,\"ticks\":\"\",\"zerolinecolor\":\"white\"}},\"shapedefaults\":{\"line\":{\"color\":\"#2a3f5f\"}},\"ternary\":{\"aaxis\":{\"gridcolor\":\"white\",\"linecolor\":\"white\",\"ticks\":\"\"},\"baxis\":{\"gridcolor\":\"white\",\"linecolor\":\"white\",\"ticks\":\"\"},\"bgcolor\":\"#E5ECF6\",\"caxis\":{\"gridcolor\":\"white\",\"linecolor\":\"white\",\"ticks\":\"\"}},\"title\":{\"x\":0.05},\"xaxis\":{\"automargin\":true,\"gridcolor\":\"white\",\"linecolor\":\"white\",\"ticks\":\"\",\"title\":{\"standoff\":15},\"zerolinecolor\":\"white\",\"zerolinewidth\":2},\"yaxis\":{\"automargin\":true,\"gridcolor\":\"white\",\"linecolor\":\"white\",\"ticks\":\"\",\"title\":{\"standoff\":15},\"zerolinecolor\":\"white\",\"zerolinewidth\":2}}},\"xaxis\":{\"ticks\":\"\",\"side\":\"top\"},\"yaxis\":{\"ticks\":\"\",\"ticksuffix\":\"  \"},\"title\":{\"text\":\"Monthly returns in a heat map (%)\"},\"annotations\":[{\"showarrow\":false,\"text\":\"nan\",\"x\":\"Jan\",\"xref\":\"x\",\"y\":2018,\"yref\":\"y\"},{\"showarrow\":false,\"text\":\"nan\",\"x\":\"Feb\",\"xref\":\"x\",\"y\":2018,\"yref\":\"y\"},{\"showarrow\":false,\"text\":\"nan\",\"x\":\"Mar\",\"xref\":\"x\",\"y\":2018,\"yref\":\"y\"},{\"showarrow\":false,\"text\":\"nan\",\"x\":\"Apr\",\"xref\":\"x\",\"y\":2018,\"yref\":\"y\"},{\"showarrow\":false,\"text\":\"nan\",\"x\":\"May\",\"xref\":\"x\",\"y\":2018,\"yref\":\"y\"},{\"showarrow\":false,\"text\":\"nan\",\"x\":\"Jun\",\"xref\":\"x\",\"y\":2018,\"yref\":\"y\"},{\"showarrow\":false,\"text\":\"nan\",\"x\":\"Jul\",\"xref\":\"x\",\"y\":2018,\"yref\":\"y\"},{\"showarrow\":false,\"text\":\"nan\",\"x\":\"Aug\",\"xref\":\"x\",\"y\":2018,\"yref\":\"y\"},{\"showarrow\":false,\"text\":\"nan\",\"x\":\"Sep\",\"xref\":\"x\",\"y\":2018,\"yref\":\"y\"},{\"showarrow\":false,\"text\":\"nan\",\"x\":\"Oct\",\"xref\":\"x\",\"y\":2018,\"yref\":\"y\"},{\"showarrow\":false,\"text\":\"-2.71\",\"x\":\"Nov\",\"xref\":\"x\",\"y\":2018,\"yref\":\"y\"},{\"showarrow\":false,\"text\":\"-0.9\",\"x\":\"Dec\",\"xref\":\"x\",\"y\":2018,\"yref\":\"y\"},{\"showarrow\":false,\"text\":\"5.33\",\"x\":\"Jan\",\"xref\":\"x\",\"y\":2019,\"yref\":\"y\"},{\"showarrow\":false,\"text\":\"0.2\",\"x\":\"Feb\",\"xref\":\"x\",\"y\":2019,\"yref\":\"y\"},{\"showarrow\":false,\"text\":\"-3.48\",\"x\":\"Mar\",\"xref\":\"x\",\"y\":2019,\"yref\":\"y\"},{\"showarrow\":false,\"text\":\"3.29\",\"x\":\"Apr\",\"xref\":\"x\",\"y\":2019,\"yref\":\"y\"},{\"showarrow\":false,\"text\":\"-2.61\",\"x\":\"May\",\"xref\":\"x\",\"y\":2019,\"yref\":\"y\"},{\"showarrow\":false,\"text\":\"0.57\",\"x\":\"Jun\",\"xref\":\"x\",\"y\":2019,\"yref\":\"y\"},{\"showarrow\":false,\"text\":\"-1.51\",\"x\":\"Jul\",\"xref\":\"x\",\"y\":2019,\"yref\":\"y\"},{\"showarrow\":false,\"text\":\"-3.32\",\"x\":\"Aug\",\"xref\":\"x\",\"y\":2019,\"yref\":\"y\"},{\"showarrow\":false,\"text\":\"3.24\",\"x\":\"Sep\",\"xref\":\"x\",\"y\":2019,\"yref\":\"y\"},{\"showarrow\":false,\"text\":\"-0.61\",\"x\":\"Oct\",\"xref\":\"x\",\"y\":2019,\"yref\":\"y\"},{\"showarrow\":false,\"text\":\"-2.32\",\"x\":\"Nov\",\"xref\":\"x\",\"y\":2019,\"yref\":\"y\"},{\"showarrow\":false,\"text\":\"1.61\",\"x\":\"Dec\",\"xref\":\"x\",\"y\":2019,\"yref\":\"y\"},{\"showarrow\":false,\"text\":\"-2.77\",\"x\":\"Jan\",\"xref\":\"x\",\"y\":2020,\"yref\":\"y\"},{\"showarrow\":false,\"text\":\"-6.85\",\"x\":\"Feb\",\"xref\":\"x\",\"y\":2020,\"yref\":\"y\"},{\"showarrow\":false,\"text\":\"-20.35\",\"x\":\"Mar\",\"xref\":\"x\",\"y\":2020,\"yref\":\"y\"},{\"showarrow\":false,\"text\":\"9.45\",\"x\":\"Apr\",\"xref\":\"x\",\"y\":2020,\"yref\":\"y\"},{\"showarrow\":false,\"text\":\"3.85\",\"x\":\"May\",\"xref\":\"x\",\"y\":2020,\"yref\":\"y\"},{\"showarrow\":false,\"text\":\"-1.38\",\"x\":\"Jun\",\"xref\":\"x\",\"y\":2020,\"yref\":\"y\"},{\"showarrow\":false,\"text\":\"2.46\",\"x\":\"Jul\",\"xref\":\"x\",\"y\":2020,\"yref\":\"y\"},{\"showarrow\":false,\"text\":\"1.79\",\"x\":\"Aug\",\"xref\":\"x\",\"y\":2020,\"yref\":\"y\"},{\"showarrow\":false,\"text\":\"-1.8\",\"x\":\"Sep\",\"xref\":\"x\",\"y\":2020,\"yref\":\"y\"},{\"showarrow\":false,\"text\":\"-9.98\",\"x\":\"Oct\",\"xref\":\"x\",\"y\":2020,\"yref\":\"y\"},{\"showarrow\":false,\"text\":\"9.51\",\"x\":\"Nov\",\"xref\":\"x\",\"y\":2020,\"yref\":\"y\"},{\"showarrow\":false,\"text\":\"0.36\",\"x\":\"Dec\",\"xref\":\"x\",\"y\":2020,\"yref\":\"y\"},{\"showarrow\":false,\"text\":\"-4.88\",\"x\":\"Jan\",\"xref\":\"x\",\"y\":2021,\"yref\":\"y\"},{\"showarrow\":false,\"text\":\"-0.5\",\"x\":\"Feb\",\"xref\":\"x\",\"y\":2021,\"yref\":\"y\"},{\"showarrow\":false,\"text\":\"4.29\",\"x\":\"Mar\",\"xref\":\"x\",\"y\":2021,\"yref\":\"y\"},{\"showarrow\":false,\"text\":\"-1.02\",\"x\":\"Apr\",\"xref\":\"x\",\"y\":2021,\"yref\":\"y\"},{\"showarrow\":false,\"text\":\"-0.06\",\"x\":\"May\",\"xref\":\"x\",\"y\":2021,\"yref\":\"y\"},{\"showarrow\":false,\"text\":\"-0.57\",\"x\":\"Jun\",\"xref\":\"x\",\"y\":2021,\"yref\":\"y\"},{\"showarrow\":false,\"text\":\"-0.42\",\"x\":\"Jul\",\"xref\":\"x\",\"y\":2021,\"yref\":\"y\"},{\"showarrow\":false,\"text\":\"1.63\",\"x\":\"Aug\",\"xref\":\"x\",\"y\":2021,\"yref\":\"y\"},{\"showarrow\":false,\"text\":\"-2.01\",\"x\":\"Sep\",\"xref\":\"x\",\"y\":2021,\"yref\":\"y\"},{\"showarrow\":false,\"text\":\"0.84\",\"x\":\"Oct\",\"xref\":\"x\",\"y\":2021,\"yref\":\"y\"},{\"showarrow\":false,\"text\":\"nan\",\"x\":\"Nov\",\"xref\":\"x\",\"y\":2021,\"yref\":\"y\"},{\"showarrow\":false,\"text\":\"nan\",\"x\":\"Dec\",\"xref\":\"x\",\"y\":2021,\"yref\":\"y\"}],\"autosize\":true},                        {\"responsive\": true}                    ).then(function(){\n",
       "                            \n",
       "var gd = document.getElementById('33381d6b-244e-472e-9668-db8728b5561e');\n",
       "var x = new MutationObserver(function (mutations, observer) {{\n",
       "        var display = window.getComputedStyle(gd).display;\n",
       "        if (!display || display === 'none') {{\n",
       "            console.log([gd, 'removed!']);\n",
       "            Plotly.purge(gd);\n",
       "            observer.disconnect();\n",
       "        }}\n",
       "}});\n",
       "\n",
       "// Listen for the removal of the full notebook cells\n",
       "var notebookContainer = gd.closest('#notebook-container');\n",
       "if (notebookContainer) {{\n",
       "    x.observe(notebookContainer, {childList: true});\n",
       "}}\n",
       "\n",
       "// Listen for the clearing of the current output cell\n",
       "var outputEl = gd.closest('.output');\n",
       "if (outputEl) {{\n",
       "    x.observe(outputEl, {childList: true});\n",
       "}}\n",
       "\n",
       "                        })                };                });            </script>        </div>"
      ]
     },
     "metadata": {},
     "output_type": "display_data"
    }
   ],
   "source": [
    "import plotly.graph_objects as go\n",
    "\n",
    "months = ['Jan', 'Feb', 'Mar', 'Apr', 'May', 'Jun', 'Jul', 'Aug', 'Sep', 'Oct', 'Nov', 'Dec']\n",
    "years = [i for i in np.arange(2018, 2021+1, 1)]\n",
    "monthly_returns = monthly_return_drl\n",
    "\n",
    "annotations = go.Annotations()\n",
    "for n, row in enumerate(monthly_returns):\n",
    "    for m, val in enumerate(row):\n",
    "        annotations.append(go.Annotation(text=str(round(monthly_returns[n][m]*100,2)), x=months[m], y=years[n],\n",
    "                                         xref='x1', yref='y1', showarrow=False))\n",
    "colorscale = [[0, '#ef476f'], [0.5, 'white'], [1, '#06d6a0']]\n",
    "\n",
    "trace = go.Heatmap(x=months, y=years, z=monthly_returns, colorscale=colorscale, showscale=True)\n",
    "\n",
    "fig = go.Figure(data=go.Data([trace]))\n",
    "fig['layout'].update(\n",
    "    title=\"Monthly returns in a heat map (%)\",\n",
    "    annotations=annotations,\n",
    "    xaxis=go.XAxis(ticks='', side='top'),\n",
    "    yaxis=go.YAxis(ticks='', ticksuffix='  '),  # ticksuffix is a workaround to add a bit of padding\n",
    "#     width=1200,\n",
    "#     height=700,\n",
    "    autosize=True\n",
    ")\n",
    "\n",
    "fig.show()"
   ]
  },
  {
   "cell_type": "code",
   "execution_count": 17,
   "id": "80892b0e",
   "metadata": {},
   "outputs": [
    {
     "data": {
      "application/vnd.plotly.v1+json": {
       "config": {
        "plotlyServerURL": "https://plot.ly"
       },
       "data": [
        {
         "colorscale": [
          [
           0,
           "#ef476f"
          ],
          [
           0.5,
           "white"
          ],
          [
           1,
           "#06d6a0"
          ]
         ],
         "showscale": true,
         "type": "heatmap",
         "x": [
          "Jan",
          "Feb",
          "Mar",
          "Apr",
          "May",
          "Jun",
          "Jul",
          "Aug",
          "Sep",
          "Oct",
          "Nov",
          "Dec"
         ],
         "y": [
          2018,
          2019,
          2020,
          2021
         ],
         "z": [
          [
           null,
           null,
           null,
           null,
           null,
           null,
           null,
           null,
           null,
           null,
           -0.017318200541506235,
           -0.0777800331307662
          ],
          [
           0.05371630629584789,
           0.030558179704636812,
           -0.00591060248141051,
           0.055511361096325595,
           -0.05258199855478618,
           0.05125668345848178,
           -0.02738452332984409,
           -0.025323720858004717,
           0.03962519612406501,
           0.04929577669311502,
           0.02107345387785764,
           0.022518465822311207
          ],
          [
           -0.029309147140966885,
           -0.08848293532848217,
           -0.16331958720454876,
           0.13670295305471303,
           0.10554501142877037,
           0.02261208313184726,
           0.003062784116985684,
           0.023350670081702107,
           -0.015548736015162268,
           -0.09134521265336315,
           0.1267913757776602,
           0.024719492019297684
          ],
          [
           -0.02039072016725052,
           0.012237143724076915,
           0.07021958387769645,
           0.0012447772714068162,
           0.010180410520961747,
           -0.001816022143716678,
           -0.003474255863166964,
           0.016964598659967578,
           -0.035309932205011996,
           0.033887769984850324,
           null,
           null
          ]
         ]
        }
       ],
       "layout": {
        "annotations": [
         {
          "showarrow": false,
          "text": "nan",
          "x": "Jan",
          "xref": "x",
          "y": 2018,
          "yref": "y"
         },
         {
          "showarrow": false,
          "text": "nan",
          "x": "Feb",
          "xref": "x",
          "y": 2018,
          "yref": "y"
         },
         {
          "showarrow": false,
          "text": "nan",
          "x": "Mar",
          "xref": "x",
          "y": 2018,
          "yref": "y"
         },
         {
          "showarrow": false,
          "text": "nan",
          "x": "Apr",
          "xref": "x",
          "y": 2018,
          "yref": "y"
         },
         {
          "showarrow": false,
          "text": "nan",
          "x": "May",
          "xref": "x",
          "y": 2018,
          "yref": "y"
         },
         {
          "showarrow": false,
          "text": "nan",
          "x": "Jun",
          "xref": "x",
          "y": 2018,
          "yref": "y"
         },
         {
          "showarrow": false,
          "text": "nan",
          "x": "Jul",
          "xref": "x",
          "y": 2018,
          "yref": "y"
         },
         {
          "showarrow": false,
          "text": "nan",
          "x": "Aug",
          "xref": "x",
          "y": 2018,
          "yref": "y"
         },
         {
          "showarrow": false,
          "text": "nan",
          "x": "Sep",
          "xref": "x",
          "y": 2018,
          "yref": "y"
         },
         {
          "showarrow": false,
          "text": "nan",
          "x": "Oct",
          "xref": "x",
          "y": 2018,
          "yref": "y"
         },
         {
          "showarrow": false,
          "text": "-1.73",
          "x": "Nov",
          "xref": "x",
          "y": 2018,
          "yref": "y"
         },
         {
          "showarrow": false,
          "text": "-7.78",
          "x": "Dec",
          "xref": "x",
          "y": 2018,
          "yref": "y"
         },
         {
          "showarrow": false,
          "text": "5.37",
          "x": "Jan",
          "xref": "x",
          "y": 2019,
          "yref": "y"
         },
         {
          "showarrow": false,
          "text": "3.06",
          "x": "Feb",
          "xref": "x",
          "y": 2019,
          "yref": "y"
         },
         {
          "showarrow": false,
          "text": "-0.59",
          "x": "Mar",
          "xref": "x",
          "y": 2019,
          "yref": "y"
         },
         {
          "showarrow": false,
          "text": "5.55",
          "x": "Apr",
          "xref": "x",
          "y": 2019,
          "yref": "y"
         },
         {
          "showarrow": false,
          "text": "-5.26",
          "x": "May",
          "xref": "x",
          "y": 2019,
          "yref": "y"
         },
         {
          "showarrow": false,
          "text": "5.13",
          "x": "Jun",
          "xref": "x",
          "y": 2019,
          "yref": "y"
         },
         {
          "showarrow": false,
          "text": "-2.74",
          "x": "Jul",
          "xref": "x",
          "y": 2019,
          "yref": "y"
         },
         {
          "showarrow": false,
          "text": "-2.53",
          "x": "Aug",
          "xref": "x",
          "y": 2019,
          "yref": "y"
         },
         {
          "showarrow": false,
          "text": "3.96",
          "x": "Sep",
          "xref": "x",
          "y": 2019,
          "yref": "y"
         },
         {
          "showarrow": false,
          "text": "4.93",
          "x": "Oct",
          "xref": "x",
          "y": 2019,
          "yref": "y"
         },
         {
          "showarrow": false,
          "text": "2.11",
          "x": "Nov",
          "xref": "x",
          "y": 2019,
          "yref": "y"
         },
         {
          "showarrow": false,
          "text": "2.25",
          "x": "Dec",
          "xref": "x",
          "y": 2019,
          "yref": "y"
         },
         {
          "showarrow": false,
          "text": "-2.93",
          "x": "Jan",
          "xref": "x",
          "y": 2020,
          "yref": "y"
         },
         {
          "showarrow": false,
          "text": "-8.85",
          "x": "Feb",
          "xref": "x",
          "y": 2020,
          "yref": "y"
         },
         {
          "showarrow": false,
          "text": "-16.33",
          "x": "Mar",
          "xref": "x",
          "y": 2020,
          "yref": "y"
         },
         {
          "showarrow": false,
          "text": "13.67",
          "x": "Apr",
          "xref": "x",
          "y": 2020,
          "yref": "y"
         },
         {
          "showarrow": false,
          "text": "10.55",
          "x": "May",
          "xref": "x",
          "y": 2020,
          "yref": "y"
         },
         {
          "showarrow": false,
          "text": "2.26",
          "x": "Jun",
          "xref": "x",
          "y": 2020,
          "yref": "y"
         },
         {
          "showarrow": false,
          "text": "0.31",
          "x": "Jul",
          "xref": "x",
          "y": 2020,
          "yref": "y"
         },
         {
          "showarrow": false,
          "text": "2.34",
          "x": "Aug",
          "xref": "x",
          "y": 2020,
          "yref": "y"
         },
         {
          "showarrow": false,
          "text": "-1.55",
          "x": "Sep",
          "xref": "x",
          "y": 2020,
          "yref": "y"
         },
         {
          "showarrow": false,
          "text": "-9.13",
          "x": "Oct",
          "xref": "x",
          "y": 2020,
          "yref": "y"
         },
         {
          "showarrow": false,
          "text": "12.68",
          "x": "Nov",
          "xref": "x",
          "y": 2020,
          "yref": "y"
         },
         {
          "showarrow": false,
          "text": "2.47",
          "x": "Dec",
          "xref": "x",
          "y": 2020,
          "yref": "y"
         },
         {
          "showarrow": false,
          "text": "-2.04",
          "x": "Jan",
          "xref": "x",
          "y": 2021,
          "yref": "y"
         },
         {
          "showarrow": false,
          "text": "1.22",
          "x": "Feb",
          "xref": "x",
          "y": 2021,
          "yref": "y"
         },
         {
          "showarrow": false,
          "text": "7.02",
          "x": "Mar",
          "xref": "x",
          "y": 2021,
          "yref": "y"
         },
         {
          "showarrow": false,
          "text": "0.12",
          "x": "Apr",
          "xref": "x",
          "y": 2021,
          "yref": "y"
         },
         {
          "showarrow": false,
          "text": "1.02",
          "x": "May",
          "xref": "x",
          "y": 2021,
          "yref": "y"
         },
         {
          "showarrow": false,
          "text": "-0.18",
          "x": "Jun",
          "xref": "x",
          "y": 2021,
          "yref": "y"
         },
         {
          "showarrow": false,
          "text": "-0.35",
          "x": "Jul",
          "xref": "x",
          "y": 2021,
          "yref": "y"
         },
         {
          "showarrow": false,
          "text": "1.7",
          "x": "Aug",
          "xref": "x",
          "y": 2021,
          "yref": "y"
         },
         {
          "showarrow": false,
          "text": "-3.53",
          "x": "Sep",
          "xref": "x",
          "y": 2021,
          "yref": "y"
         },
         {
          "showarrow": false,
          "text": "3.39",
          "x": "Oct",
          "xref": "x",
          "y": 2021,
          "yref": "y"
         },
         {
          "showarrow": false,
          "text": "nan",
          "x": "Nov",
          "xref": "x",
          "y": 2021,
          "yref": "y"
         },
         {
          "showarrow": false,
          "text": "nan",
          "x": "Dec",
          "xref": "x",
          "y": 2021,
          "yref": "y"
         }
        ],
        "autosize": true,
        "template": {
         "data": {
          "bar": [
           {
            "error_x": {
             "color": "#2a3f5f"
            },
            "error_y": {
             "color": "#2a3f5f"
            },
            "marker": {
             "line": {
              "color": "#E5ECF6",
              "width": 0.5
             },
             "pattern": {
              "fillmode": "overlay",
              "size": 10,
              "solidity": 0.2
             }
            },
            "type": "bar"
           }
          ],
          "barpolar": [
           {
            "marker": {
             "line": {
              "color": "#E5ECF6",
              "width": 0.5
             },
             "pattern": {
              "fillmode": "overlay",
              "size": 10,
              "solidity": 0.2
             }
            },
            "type": "barpolar"
           }
          ],
          "carpet": [
           {
            "aaxis": {
             "endlinecolor": "#2a3f5f",
             "gridcolor": "white",
             "linecolor": "white",
             "minorgridcolor": "white",
             "startlinecolor": "#2a3f5f"
            },
            "baxis": {
             "endlinecolor": "#2a3f5f",
             "gridcolor": "white",
             "linecolor": "white",
             "minorgridcolor": "white",
             "startlinecolor": "#2a3f5f"
            },
            "type": "carpet"
           }
          ],
          "choropleth": [
           {
            "colorbar": {
             "outlinewidth": 0,
             "ticks": ""
            },
            "type": "choropleth"
           }
          ],
          "contour": [
           {
            "colorbar": {
             "outlinewidth": 0,
             "ticks": ""
            },
            "colorscale": [
             [
              0,
              "#0d0887"
             ],
             [
              0.1111111111111111,
              "#46039f"
             ],
             [
              0.2222222222222222,
              "#7201a8"
             ],
             [
              0.3333333333333333,
              "#9c179e"
             ],
             [
              0.4444444444444444,
              "#bd3786"
             ],
             [
              0.5555555555555556,
              "#d8576b"
             ],
             [
              0.6666666666666666,
              "#ed7953"
             ],
             [
              0.7777777777777778,
              "#fb9f3a"
             ],
             [
              0.8888888888888888,
              "#fdca26"
             ],
             [
              1,
              "#f0f921"
             ]
            ],
            "type": "contour"
           }
          ],
          "contourcarpet": [
           {
            "colorbar": {
             "outlinewidth": 0,
             "ticks": ""
            },
            "type": "contourcarpet"
           }
          ],
          "heatmap": [
           {
            "colorbar": {
             "outlinewidth": 0,
             "ticks": ""
            },
            "colorscale": [
             [
              0,
              "#0d0887"
             ],
             [
              0.1111111111111111,
              "#46039f"
             ],
             [
              0.2222222222222222,
              "#7201a8"
             ],
             [
              0.3333333333333333,
              "#9c179e"
             ],
             [
              0.4444444444444444,
              "#bd3786"
             ],
             [
              0.5555555555555556,
              "#d8576b"
             ],
             [
              0.6666666666666666,
              "#ed7953"
             ],
             [
              0.7777777777777778,
              "#fb9f3a"
             ],
             [
              0.8888888888888888,
              "#fdca26"
             ],
             [
              1,
              "#f0f921"
             ]
            ],
            "type": "heatmap"
           }
          ],
          "heatmapgl": [
           {
            "colorbar": {
             "outlinewidth": 0,
             "ticks": ""
            },
            "colorscale": [
             [
              0,
              "#0d0887"
             ],
             [
              0.1111111111111111,
              "#46039f"
             ],
             [
              0.2222222222222222,
              "#7201a8"
             ],
             [
              0.3333333333333333,
              "#9c179e"
             ],
             [
              0.4444444444444444,
              "#bd3786"
             ],
             [
              0.5555555555555556,
              "#d8576b"
             ],
             [
              0.6666666666666666,
              "#ed7953"
             ],
             [
              0.7777777777777778,
              "#fb9f3a"
             ],
             [
              0.8888888888888888,
              "#fdca26"
             ],
             [
              1,
              "#f0f921"
             ]
            ],
            "type": "heatmapgl"
           }
          ],
          "histogram": [
           {
            "marker": {
             "pattern": {
              "fillmode": "overlay",
              "size": 10,
              "solidity": 0.2
             }
            },
            "type": "histogram"
           }
          ],
          "histogram2d": [
           {
            "colorbar": {
             "outlinewidth": 0,
             "ticks": ""
            },
            "colorscale": [
             [
              0,
              "#0d0887"
             ],
             [
              0.1111111111111111,
              "#46039f"
             ],
             [
              0.2222222222222222,
              "#7201a8"
             ],
             [
              0.3333333333333333,
              "#9c179e"
             ],
             [
              0.4444444444444444,
              "#bd3786"
             ],
             [
              0.5555555555555556,
              "#d8576b"
             ],
             [
              0.6666666666666666,
              "#ed7953"
             ],
             [
              0.7777777777777778,
              "#fb9f3a"
             ],
             [
              0.8888888888888888,
              "#fdca26"
             ],
             [
              1,
              "#f0f921"
             ]
            ],
            "type": "histogram2d"
           }
          ],
          "histogram2dcontour": [
           {
            "colorbar": {
             "outlinewidth": 0,
             "ticks": ""
            },
            "colorscale": [
             [
              0,
              "#0d0887"
             ],
             [
              0.1111111111111111,
              "#46039f"
             ],
             [
              0.2222222222222222,
              "#7201a8"
             ],
             [
              0.3333333333333333,
              "#9c179e"
             ],
             [
              0.4444444444444444,
              "#bd3786"
             ],
             [
              0.5555555555555556,
              "#d8576b"
             ],
             [
              0.6666666666666666,
              "#ed7953"
             ],
             [
              0.7777777777777778,
              "#fb9f3a"
             ],
             [
              0.8888888888888888,
              "#fdca26"
             ],
             [
              1,
              "#f0f921"
             ]
            ],
            "type": "histogram2dcontour"
           }
          ],
          "mesh3d": [
           {
            "colorbar": {
             "outlinewidth": 0,
             "ticks": ""
            },
            "type": "mesh3d"
           }
          ],
          "parcoords": [
           {
            "line": {
             "colorbar": {
              "outlinewidth": 0,
              "ticks": ""
             }
            },
            "type": "parcoords"
           }
          ],
          "pie": [
           {
            "automargin": true,
            "type": "pie"
           }
          ],
          "scatter": [
           {
            "marker": {
             "colorbar": {
              "outlinewidth": 0,
              "ticks": ""
             }
            },
            "type": "scatter"
           }
          ],
          "scatter3d": [
           {
            "line": {
             "colorbar": {
              "outlinewidth": 0,
              "ticks": ""
             }
            },
            "marker": {
             "colorbar": {
              "outlinewidth": 0,
              "ticks": ""
             }
            },
            "type": "scatter3d"
           }
          ],
          "scattercarpet": [
           {
            "marker": {
             "colorbar": {
              "outlinewidth": 0,
              "ticks": ""
             }
            },
            "type": "scattercarpet"
           }
          ],
          "scattergeo": [
           {
            "marker": {
             "colorbar": {
              "outlinewidth": 0,
              "ticks": ""
             }
            },
            "type": "scattergeo"
           }
          ],
          "scattergl": [
           {
            "marker": {
             "colorbar": {
              "outlinewidth": 0,
              "ticks": ""
             }
            },
            "type": "scattergl"
           }
          ],
          "scattermapbox": [
           {
            "marker": {
             "colorbar": {
              "outlinewidth": 0,
              "ticks": ""
             }
            },
            "type": "scattermapbox"
           }
          ],
          "scatterpolar": [
           {
            "marker": {
             "colorbar": {
              "outlinewidth": 0,
              "ticks": ""
             }
            },
            "type": "scatterpolar"
           }
          ],
          "scatterpolargl": [
           {
            "marker": {
             "colorbar": {
              "outlinewidth": 0,
              "ticks": ""
             }
            },
            "type": "scatterpolargl"
           }
          ],
          "scatterternary": [
           {
            "marker": {
             "colorbar": {
              "outlinewidth": 0,
              "ticks": ""
             }
            },
            "type": "scatterternary"
           }
          ],
          "surface": [
           {
            "colorbar": {
             "outlinewidth": 0,
             "ticks": ""
            },
            "colorscale": [
             [
              0,
              "#0d0887"
             ],
             [
              0.1111111111111111,
              "#46039f"
             ],
             [
              0.2222222222222222,
              "#7201a8"
             ],
             [
              0.3333333333333333,
              "#9c179e"
             ],
             [
              0.4444444444444444,
              "#bd3786"
             ],
             [
              0.5555555555555556,
              "#d8576b"
             ],
             [
              0.6666666666666666,
              "#ed7953"
             ],
             [
              0.7777777777777778,
              "#fb9f3a"
             ],
             [
              0.8888888888888888,
              "#fdca26"
             ],
             [
              1,
              "#f0f921"
             ]
            ],
            "type": "surface"
           }
          ],
          "table": [
           {
            "cells": {
             "fill": {
              "color": "#EBF0F8"
             },
             "line": {
              "color": "white"
             }
            },
            "header": {
             "fill": {
              "color": "#C8D4E3"
             },
             "line": {
              "color": "white"
             }
            },
            "type": "table"
           }
          ]
         },
         "layout": {
          "annotationdefaults": {
           "arrowcolor": "#2a3f5f",
           "arrowhead": 0,
           "arrowwidth": 1
          },
          "autotypenumbers": "strict",
          "coloraxis": {
           "colorbar": {
            "outlinewidth": 0,
            "ticks": ""
           }
          },
          "colorscale": {
           "diverging": [
            [
             0,
             "#8e0152"
            ],
            [
             0.1,
             "#c51b7d"
            ],
            [
             0.2,
             "#de77ae"
            ],
            [
             0.3,
             "#f1b6da"
            ],
            [
             0.4,
             "#fde0ef"
            ],
            [
             0.5,
             "#f7f7f7"
            ],
            [
             0.6,
             "#e6f5d0"
            ],
            [
             0.7,
             "#b8e186"
            ],
            [
             0.8,
             "#7fbc41"
            ],
            [
             0.9,
             "#4d9221"
            ],
            [
             1,
             "#276419"
            ]
           ],
           "sequential": [
            [
             0,
             "#0d0887"
            ],
            [
             0.1111111111111111,
             "#46039f"
            ],
            [
             0.2222222222222222,
             "#7201a8"
            ],
            [
             0.3333333333333333,
             "#9c179e"
            ],
            [
             0.4444444444444444,
             "#bd3786"
            ],
            [
             0.5555555555555556,
             "#d8576b"
            ],
            [
             0.6666666666666666,
             "#ed7953"
            ],
            [
             0.7777777777777778,
             "#fb9f3a"
            ],
            [
             0.8888888888888888,
             "#fdca26"
            ],
            [
             1,
             "#f0f921"
            ]
           ],
           "sequentialminus": [
            [
             0,
             "#0d0887"
            ],
            [
             0.1111111111111111,
             "#46039f"
            ],
            [
             0.2222222222222222,
             "#7201a8"
            ],
            [
             0.3333333333333333,
             "#9c179e"
            ],
            [
             0.4444444444444444,
             "#bd3786"
            ],
            [
             0.5555555555555556,
             "#d8576b"
            ],
            [
             0.6666666666666666,
             "#ed7953"
            ],
            [
             0.7777777777777778,
             "#fb9f3a"
            ],
            [
             0.8888888888888888,
             "#fdca26"
            ],
            [
             1,
             "#f0f921"
            ]
           ]
          },
          "colorway": [
           "#636efa",
           "#EF553B",
           "#00cc96",
           "#ab63fa",
           "#FFA15A",
           "#19d3f3",
           "#FF6692",
           "#B6E880",
           "#FF97FF",
           "#FECB52"
          ],
          "font": {
           "color": "#2a3f5f"
          },
          "geo": {
           "bgcolor": "white",
           "lakecolor": "white",
           "landcolor": "#E5ECF6",
           "showlakes": true,
           "showland": true,
           "subunitcolor": "white"
          },
          "hoverlabel": {
           "align": "left"
          },
          "hovermode": "closest",
          "mapbox": {
           "style": "light"
          },
          "paper_bgcolor": "white",
          "plot_bgcolor": "#E5ECF6",
          "polar": {
           "angularaxis": {
            "gridcolor": "white",
            "linecolor": "white",
            "ticks": ""
           },
           "bgcolor": "#E5ECF6",
           "radialaxis": {
            "gridcolor": "white",
            "linecolor": "white",
            "ticks": ""
           }
          },
          "scene": {
           "xaxis": {
            "backgroundcolor": "#E5ECF6",
            "gridcolor": "white",
            "gridwidth": 2,
            "linecolor": "white",
            "showbackground": true,
            "ticks": "",
            "zerolinecolor": "white"
           },
           "yaxis": {
            "backgroundcolor": "#E5ECF6",
            "gridcolor": "white",
            "gridwidth": 2,
            "linecolor": "white",
            "showbackground": true,
            "ticks": "",
            "zerolinecolor": "white"
           },
           "zaxis": {
            "backgroundcolor": "#E5ECF6",
            "gridcolor": "white",
            "gridwidth": 2,
            "linecolor": "white",
            "showbackground": true,
            "ticks": "",
            "zerolinecolor": "white"
           }
          },
          "shapedefaults": {
           "line": {
            "color": "#2a3f5f"
           }
          },
          "ternary": {
           "aaxis": {
            "gridcolor": "white",
            "linecolor": "white",
            "ticks": ""
           },
           "baxis": {
            "gridcolor": "white",
            "linecolor": "white",
            "ticks": ""
           },
           "bgcolor": "#E5ECF6",
           "caxis": {
            "gridcolor": "white",
            "linecolor": "white",
            "ticks": ""
           }
          },
          "title": {
           "x": 0.05
          },
          "xaxis": {
           "automargin": true,
           "gridcolor": "white",
           "linecolor": "white",
           "ticks": "",
           "title": {
            "standoff": 15
           },
           "zerolinecolor": "white",
           "zerolinewidth": 2
          },
          "yaxis": {
           "automargin": true,
           "gridcolor": "white",
           "linecolor": "white",
           "ticks": "",
           "title": {
            "standoff": 15
           },
           "zerolinecolor": "white",
           "zerolinewidth": 2
          }
         }
        },
        "title": {
         "text": "Monthly returns in a heat map (%)"
        },
        "xaxis": {
         "side": "top",
         "ticks": ""
        },
        "yaxis": {
         "ticks": "",
         "ticksuffix": "  "
        }
       }
      },
      "text/html": [
       "<div>                            <div id=\"9ccb51cb-a10d-4cd0-a395-09b07afd13c8\" class=\"plotly-graph-div\" style=\"height:525px; width:100%;\"></div>            <script type=\"text/javascript\">                require([\"plotly\"], function(Plotly) {                    window.PLOTLYENV=window.PLOTLYENV || {};                                    if (document.getElementById(\"9ccb51cb-a10d-4cd0-a395-09b07afd13c8\")) {                    Plotly.newPlot(                        \"9ccb51cb-a10d-4cd0-a395-09b07afd13c8\",                        [{\"colorscale\":[[0,\"#ef476f\"],[0.5,\"white\"],[1,\"#06d6a0\"]],\"showscale\":true,\"x\":[\"Jan\",\"Feb\",\"Mar\",\"Apr\",\"May\",\"Jun\",\"Jul\",\"Aug\",\"Sep\",\"Oct\",\"Nov\",\"Dec\"],\"y\":[2018,2019,2020,2021],\"z\":[[null,null,null,null,null,null,null,null,null,null,-0.017318200541506235,-0.0777800331307662],[0.05371630629584789,0.030558179704636812,-0.00591060248141051,0.055511361096325595,-0.05258199855478618,0.05125668345848178,-0.02738452332984409,-0.025323720858004717,0.03962519612406501,0.04929577669311502,0.02107345387785764,0.022518465822311207],[-0.029309147140966885,-0.08848293532848217,-0.16331958720454876,0.13670295305471303,0.10554501142877037,0.02261208313184726,0.003062784116985684,0.023350670081702107,-0.015548736015162268,-0.09134521265336315,0.1267913757776602,0.024719492019297684],[-0.02039072016725052,0.012237143724076915,0.07021958387769645,0.0012447772714068162,0.010180410520961747,-0.001816022143716678,-0.003474255863166964,0.016964598659967578,-0.035309932205011996,0.033887769984850324,null,null]],\"type\":\"heatmap\"}],                        {\"template\":{\"data\":{\"bar\":[{\"error_x\":{\"color\":\"#2a3f5f\"},\"error_y\":{\"color\":\"#2a3f5f\"},\"marker\":{\"line\":{\"color\":\"#E5ECF6\",\"width\":0.5},\"pattern\":{\"fillmode\":\"overlay\",\"size\":10,\"solidity\":0.2}},\"type\":\"bar\"}],\"barpolar\":[{\"marker\":{\"line\":{\"color\":\"#E5ECF6\",\"width\":0.5},\"pattern\":{\"fillmode\":\"overlay\",\"size\":10,\"solidity\":0.2}},\"type\":\"barpolar\"}],\"carpet\":[{\"aaxis\":{\"endlinecolor\":\"#2a3f5f\",\"gridcolor\":\"white\",\"linecolor\":\"white\",\"minorgridcolor\":\"white\",\"startlinecolor\":\"#2a3f5f\"},\"baxis\":{\"endlinecolor\":\"#2a3f5f\",\"gridcolor\":\"white\",\"linecolor\":\"white\",\"minorgridcolor\":\"white\",\"startlinecolor\":\"#2a3f5f\"},\"type\":\"carpet\"}],\"choropleth\":[{\"colorbar\":{\"outlinewidth\":0,\"ticks\":\"\"},\"type\":\"choropleth\"}],\"contour\":[{\"colorbar\":{\"outlinewidth\":0,\"ticks\":\"\"},\"colorscale\":[[0.0,\"#0d0887\"],[0.1111111111111111,\"#46039f\"],[0.2222222222222222,\"#7201a8\"],[0.3333333333333333,\"#9c179e\"],[0.4444444444444444,\"#bd3786\"],[0.5555555555555556,\"#d8576b\"],[0.6666666666666666,\"#ed7953\"],[0.7777777777777778,\"#fb9f3a\"],[0.8888888888888888,\"#fdca26\"],[1.0,\"#f0f921\"]],\"type\":\"contour\"}],\"contourcarpet\":[{\"colorbar\":{\"outlinewidth\":0,\"ticks\":\"\"},\"type\":\"contourcarpet\"}],\"heatmap\":[{\"colorbar\":{\"outlinewidth\":0,\"ticks\":\"\"},\"colorscale\":[[0.0,\"#0d0887\"],[0.1111111111111111,\"#46039f\"],[0.2222222222222222,\"#7201a8\"],[0.3333333333333333,\"#9c179e\"],[0.4444444444444444,\"#bd3786\"],[0.5555555555555556,\"#d8576b\"],[0.6666666666666666,\"#ed7953\"],[0.7777777777777778,\"#fb9f3a\"],[0.8888888888888888,\"#fdca26\"],[1.0,\"#f0f921\"]],\"type\":\"heatmap\"}],\"heatmapgl\":[{\"colorbar\":{\"outlinewidth\":0,\"ticks\":\"\"},\"colorscale\":[[0.0,\"#0d0887\"],[0.1111111111111111,\"#46039f\"],[0.2222222222222222,\"#7201a8\"],[0.3333333333333333,\"#9c179e\"],[0.4444444444444444,\"#bd3786\"],[0.5555555555555556,\"#d8576b\"],[0.6666666666666666,\"#ed7953\"],[0.7777777777777778,\"#fb9f3a\"],[0.8888888888888888,\"#fdca26\"],[1.0,\"#f0f921\"]],\"type\":\"heatmapgl\"}],\"histogram\":[{\"marker\":{\"pattern\":{\"fillmode\":\"overlay\",\"size\":10,\"solidity\":0.2}},\"type\":\"histogram\"}],\"histogram2d\":[{\"colorbar\":{\"outlinewidth\":0,\"ticks\":\"\"},\"colorscale\":[[0.0,\"#0d0887\"],[0.1111111111111111,\"#46039f\"],[0.2222222222222222,\"#7201a8\"],[0.3333333333333333,\"#9c179e\"],[0.4444444444444444,\"#bd3786\"],[0.5555555555555556,\"#d8576b\"],[0.6666666666666666,\"#ed7953\"],[0.7777777777777778,\"#fb9f3a\"],[0.8888888888888888,\"#fdca26\"],[1.0,\"#f0f921\"]],\"type\":\"histogram2d\"}],\"histogram2dcontour\":[{\"colorbar\":{\"outlinewidth\":0,\"ticks\":\"\"},\"colorscale\":[[0.0,\"#0d0887\"],[0.1111111111111111,\"#46039f\"],[0.2222222222222222,\"#7201a8\"],[0.3333333333333333,\"#9c179e\"],[0.4444444444444444,\"#bd3786\"],[0.5555555555555556,\"#d8576b\"],[0.6666666666666666,\"#ed7953\"],[0.7777777777777778,\"#fb9f3a\"],[0.8888888888888888,\"#fdca26\"],[1.0,\"#f0f921\"]],\"type\":\"histogram2dcontour\"}],\"mesh3d\":[{\"colorbar\":{\"outlinewidth\":0,\"ticks\":\"\"},\"type\":\"mesh3d\"}],\"parcoords\":[{\"line\":{\"colorbar\":{\"outlinewidth\":0,\"ticks\":\"\"}},\"type\":\"parcoords\"}],\"pie\":[{\"automargin\":true,\"type\":\"pie\"}],\"scatter\":[{\"marker\":{\"colorbar\":{\"outlinewidth\":0,\"ticks\":\"\"}},\"type\":\"scatter\"}],\"scatter3d\":[{\"line\":{\"colorbar\":{\"outlinewidth\":0,\"ticks\":\"\"}},\"marker\":{\"colorbar\":{\"outlinewidth\":0,\"ticks\":\"\"}},\"type\":\"scatter3d\"}],\"scattercarpet\":[{\"marker\":{\"colorbar\":{\"outlinewidth\":0,\"ticks\":\"\"}},\"type\":\"scattercarpet\"}],\"scattergeo\":[{\"marker\":{\"colorbar\":{\"outlinewidth\":0,\"ticks\":\"\"}},\"type\":\"scattergeo\"}],\"scattergl\":[{\"marker\":{\"colorbar\":{\"outlinewidth\":0,\"ticks\":\"\"}},\"type\":\"scattergl\"}],\"scattermapbox\":[{\"marker\":{\"colorbar\":{\"outlinewidth\":0,\"ticks\":\"\"}},\"type\":\"scattermapbox\"}],\"scatterpolar\":[{\"marker\":{\"colorbar\":{\"outlinewidth\":0,\"ticks\":\"\"}},\"type\":\"scatterpolar\"}],\"scatterpolargl\":[{\"marker\":{\"colorbar\":{\"outlinewidth\":0,\"ticks\":\"\"}},\"type\":\"scatterpolargl\"}],\"scatterternary\":[{\"marker\":{\"colorbar\":{\"outlinewidth\":0,\"ticks\":\"\"}},\"type\":\"scatterternary\"}],\"surface\":[{\"colorbar\":{\"outlinewidth\":0,\"ticks\":\"\"},\"colorscale\":[[0.0,\"#0d0887\"],[0.1111111111111111,\"#46039f\"],[0.2222222222222222,\"#7201a8\"],[0.3333333333333333,\"#9c179e\"],[0.4444444444444444,\"#bd3786\"],[0.5555555555555556,\"#d8576b\"],[0.6666666666666666,\"#ed7953\"],[0.7777777777777778,\"#fb9f3a\"],[0.8888888888888888,\"#fdca26\"],[1.0,\"#f0f921\"]],\"type\":\"surface\"}],\"table\":[{\"cells\":{\"fill\":{\"color\":\"#EBF0F8\"},\"line\":{\"color\":\"white\"}},\"header\":{\"fill\":{\"color\":\"#C8D4E3\"},\"line\":{\"color\":\"white\"}},\"type\":\"table\"}]},\"layout\":{\"annotationdefaults\":{\"arrowcolor\":\"#2a3f5f\",\"arrowhead\":0,\"arrowwidth\":1},\"autotypenumbers\":\"strict\",\"coloraxis\":{\"colorbar\":{\"outlinewidth\":0,\"ticks\":\"\"}},\"colorscale\":{\"diverging\":[[0,\"#8e0152\"],[0.1,\"#c51b7d\"],[0.2,\"#de77ae\"],[0.3,\"#f1b6da\"],[0.4,\"#fde0ef\"],[0.5,\"#f7f7f7\"],[0.6,\"#e6f5d0\"],[0.7,\"#b8e186\"],[0.8,\"#7fbc41\"],[0.9,\"#4d9221\"],[1,\"#276419\"]],\"sequential\":[[0.0,\"#0d0887\"],[0.1111111111111111,\"#46039f\"],[0.2222222222222222,\"#7201a8\"],[0.3333333333333333,\"#9c179e\"],[0.4444444444444444,\"#bd3786\"],[0.5555555555555556,\"#d8576b\"],[0.6666666666666666,\"#ed7953\"],[0.7777777777777778,\"#fb9f3a\"],[0.8888888888888888,\"#fdca26\"],[1.0,\"#f0f921\"]],\"sequentialminus\":[[0.0,\"#0d0887\"],[0.1111111111111111,\"#46039f\"],[0.2222222222222222,\"#7201a8\"],[0.3333333333333333,\"#9c179e\"],[0.4444444444444444,\"#bd3786\"],[0.5555555555555556,\"#d8576b\"],[0.6666666666666666,\"#ed7953\"],[0.7777777777777778,\"#fb9f3a\"],[0.8888888888888888,\"#fdca26\"],[1.0,\"#f0f921\"]]},\"colorway\":[\"#636efa\",\"#EF553B\",\"#00cc96\",\"#ab63fa\",\"#FFA15A\",\"#19d3f3\",\"#FF6692\",\"#B6E880\",\"#FF97FF\",\"#FECB52\"],\"font\":{\"color\":\"#2a3f5f\"},\"geo\":{\"bgcolor\":\"white\",\"lakecolor\":\"white\",\"landcolor\":\"#E5ECF6\",\"showlakes\":true,\"showland\":true,\"subunitcolor\":\"white\"},\"hoverlabel\":{\"align\":\"left\"},\"hovermode\":\"closest\",\"mapbox\":{\"style\":\"light\"},\"paper_bgcolor\":\"white\",\"plot_bgcolor\":\"#E5ECF6\",\"polar\":{\"angularaxis\":{\"gridcolor\":\"white\",\"linecolor\":\"white\",\"ticks\":\"\"},\"bgcolor\":\"#E5ECF6\",\"radialaxis\":{\"gridcolor\":\"white\",\"linecolor\":\"white\",\"ticks\":\"\"}},\"scene\":{\"xaxis\":{\"backgroundcolor\":\"#E5ECF6\",\"gridcolor\":\"white\",\"gridwidth\":2,\"linecolor\":\"white\",\"showbackground\":true,\"ticks\":\"\",\"zerolinecolor\":\"white\"},\"yaxis\":{\"backgroundcolor\":\"#E5ECF6\",\"gridcolor\":\"white\",\"gridwidth\":2,\"linecolor\":\"white\",\"showbackground\":true,\"ticks\":\"\",\"zerolinecolor\":\"white\"},\"zaxis\":{\"backgroundcolor\":\"#E5ECF6\",\"gridcolor\":\"white\",\"gridwidth\":2,\"linecolor\":\"white\",\"showbackground\":true,\"ticks\":\"\",\"zerolinecolor\":\"white\"}},\"shapedefaults\":{\"line\":{\"color\":\"#2a3f5f\"}},\"ternary\":{\"aaxis\":{\"gridcolor\":\"white\",\"linecolor\":\"white\",\"ticks\":\"\"},\"baxis\":{\"gridcolor\":\"white\",\"linecolor\":\"white\",\"ticks\":\"\"},\"bgcolor\":\"#E5ECF6\",\"caxis\":{\"gridcolor\":\"white\",\"linecolor\":\"white\",\"ticks\":\"\"}},\"title\":{\"x\":0.05},\"xaxis\":{\"automargin\":true,\"gridcolor\":\"white\",\"linecolor\":\"white\",\"ticks\":\"\",\"title\":{\"standoff\":15},\"zerolinecolor\":\"white\",\"zerolinewidth\":2},\"yaxis\":{\"automargin\":true,\"gridcolor\":\"white\",\"linecolor\":\"white\",\"ticks\":\"\",\"title\":{\"standoff\":15},\"zerolinecolor\":\"white\",\"zerolinewidth\":2}}},\"xaxis\":{\"ticks\":\"\",\"side\":\"top\"},\"yaxis\":{\"ticks\":\"\",\"ticksuffix\":\"  \"},\"title\":{\"text\":\"Monthly returns in a heat map (%)\"},\"annotations\":[{\"showarrow\":false,\"text\":\"nan\",\"x\":\"Jan\",\"xref\":\"x\",\"y\":2018,\"yref\":\"y\"},{\"showarrow\":false,\"text\":\"nan\",\"x\":\"Feb\",\"xref\":\"x\",\"y\":2018,\"yref\":\"y\"},{\"showarrow\":false,\"text\":\"nan\",\"x\":\"Mar\",\"xref\":\"x\",\"y\":2018,\"yref\":\"y\"},{\"showarrow\":false,\"text\":\"nan\",\"x\":\"Apr\",\"xref\":\"x\",\"y\":2018,\"yref\":\"y\"},{\"showarrow\":false,\"text\":\"nan\",\"x\":\"May\",\"xref\":\"x\",\"y\":2018,\"yref\":\"y\"},{\"showarrow\":false,\"text\":\"nan\",\"x\":\"Jun\",\"xref\":\"x\",\"y\":2018,\"yref\":\"y\"},{\"showarrow\":false,\"text\":\"nan\",\"x\":\"Jul\",\"xref\":\"x\",\"y\":2018,\"yref\":\"y\"},{\"showarrow\":false,\"text\":\"nan\",\"x\":\"Aug\",\"xref\":\"x\",\"y\":2018,\"yref\":\"y\"},{\"showarrow\":false,\"text\":\"nan\",\"x\":\"Sep\",\"xref\":\"x\",\"y\":2018,\"yref\":\"y\"},{\"showarrow\":false,\"text\":\"nan\",\"x\":\"Oct\",\"xref\":\"x\",\"y\":2018,\"yref\":\"y\"},{\"showarrow\":false,\"text\":\"-1.73\",\"x\":\"Nov\",\"xref\":\"x\",\"y\":2018,\"yref\":\"y\"},{\"showarrow\":false,\"text\":\"-7.78\",\"x\":\"Dec\",\"xref\":\"x\",\"y\":2018,\"yref\":\"y\"},{\"showarrow\":false,\"text\":\"5.37\",\"x\":\"Jan\",\"xref\":\"x\",\"y\":2019,\"yref\":\"y\"},{\"showarrow\":false,\"text\":\"3.06\",\"x\":\"Feb\",\"xref\":\"x\",\"y\":2019,\"yref\":\"y\"},{\"showarrow\":false,\"text\":\"-0.59\",\"x\":\"Mar\",\"xref\":\"x\",\"y\":2019,\"yref\":\"y\"},{\"showarrow\":false,\"text\":\"5.55\",\"x\":\"Apr\",\"xref\":\"x\",\"y\":2019,\"yref\":\"y\"},{\"showarrow\":false,\"text\":\"-5.26\",\"x\":\"May\",\"xref\":\"x\",\"y\":2019,\"yref\":\"y\"},{\"showarrow\":false,\"text\":\"5.13\",\"x\":\"Jun\",\"xref\":\"x\",\"y\":2019,\"yref\":\"y\"},{\"showarrow\":false,\"text\":\"-2.74\",\"x\":\"Jul\",\"xref\":\"x\",\"y\":2019,\"yref\":\"y\"},{\"showarrow\":false,\"text\":\"-2.53\",\"x\":\"Aug\",\"xref\":\"x\",\"y\":2019,\"yref\":\"y\"},{\"showarrow\":false,\"text\":\"3.96\",\"x\":\"Sep\",\"xref\":\"x\",\"y\":2019,\"yref\":\"y\"},{\"showarrow\":false,\"text\":\"4.93\",\"x\":\"Oct\",\"xref\":\"x\",\"y\":2019,\"yref\":\"y\"},{\"showarrow\":false,\"text\":\"2.11\",\"x\":\"Nov\",\"xref\":\"x\",\"y\":2019,\"yref\":\"y\"},{\"showarrow\":false,\"text\":\"2.25\",\"x\":\"Dec\",\"xref\":\"x\",\"y\":2019,\"yref\":\"y\"},{\"showarrow\":false,\"text\":\"-2.93\",\"x\":\"Jan\",\"xref\":\"x\",\"y\":2020,\"yref\":\"y\"},{\"showarrow\":false,\"text\":\"-8.85\",\"x\":\"Feb\",\"xref\":\"x\",\"y\":2020,\"yref\":\"y\"},{\"showarrow\":false,\"text\":\"-16.33\",\"x\":\"Mar\",\"xref\":\"x\",\"y\":2020,\"yref\":\"y\"},{\"showarrow\":false,\"text\":\"13.67\",\"x\":\"Apr\",\"xref\":\"x\",\"y\":2020,\"yref\":\"y\"},{\"showarrow\":false,\"text\":\"10.55\",\"x\":\"May\",\"xref\":\"x\",\"y\":2020,\"yref\":\"y\"},{\"showarrow\":false,\"text\":\"2.26\",\"x\":\"Jun\",\"xref\":\"x\",\"y\":2020,\"yref\":\"y\"},{\"showarrow\":false,\"text\":\"0.31\",\"x\":\"Jul\",\"xref\":\"x\",\"y\":2020,\"yref\":\"y\"},{\"showarrow\":false,\"text\":\"2.34\",\"x\":\"Aug\",\"xref\":\"x\",\"y\":2020,\"yref\":\"y\"},{\"showarrow\":false,\"text\":\"-1.55\",\"x\":\"Sep\",\"xref\":\"x\",\"y\":2020,\"yref\":\"y\"},{\"showarrow\":false,\"text\":\"-9.13\",\"x\":\"Oct\",\"xref\":\"x\",\"y\":2020,\"yref\":\"y\"},{\"showarrow\":false,\"text\":\"12.68\",\"x\":\"Nov\",\"xref\":\"x\",\"y\":2020,\"yref\":\"y\"},{\"showarrow\":false,\"text\":\"2.47\",\"x\":\"Dec\",\"xref\":\"x\",\"y\":2020,\"yref\":\"y\"},{\"showarrow\":false,\"text\":\"-2.04\",\"x\":\"Jan\",\"xref\":\"x\",\"y\":2021,\"yref\":\"y\"},{\"showarrow\":false,\"text\":\"1.22\",\"x\":\"Feb\",\"xref\":\"x\",\"y\":2021,\"yref\":\"y\"},{\"showarrow\":false,\"text\":\"7.02\",\"x\":\"Mar\",\"xref\":\"x\",\"y\":2021,\"yref\":\"y\"},{\"showarrow\":false,\"text\":\"0.12\",\"x\":\"Apr\",\"xref\":\"x\",\"y\":2021,\"yref\":\"y\"},{\"showarrow\":false,\"text\":\"1.02\",\"x\":\"May\",\"xref\":\"x\",\"y\":2021,\"yref\":\"y\"},{\"showarrow\":false,\"text\":\"-0.18\",\"x\":\"Jun\",\"xref\":\"x\",\"y\":2021,\"yref\":\"y\"},{\"showarrow\":false,\"text\":\"-0.35\",\"x\":\"Jul\",\"xref\":\"x\",\"y\":2021,\"yref\":\"y\"},{\"showarrow\":false,\"text\":\"1.7\",\"x\":\"Aug\",\"xref\":\"x\",\"y\":2021,\"yref\":\"y\"},{\"showarrow\":false,\"text\":\"-3.53\",\"x\":\"Sep\",\"xref\":\"x\",\"y\":2021,\"yref\":\"y\"},{\"showarrow\":false,\"text\":\"3.39\",\"x\":\"Oct\",\"xref\":\"x\",\"y\":2021,\"yref\":\"y\"},{\"showarrow\":false,\"text\":\"nan\",\"x\":\"Nov\",\"xref\":\"x\",\"y\":2021,\"yref\":\"y\"},{\"showarrow\":false,\"text\":\"nan\",\"x\":\"Dec\",\"xref\":\"x\",\"y\":2021,\"yref\":\"y\"}],\"autosize\":true},                        {\"responsive\": true}                    ).then(function(){\n",
       "                            \n",
       "var gd = document.getElementById('9ccb51cb-a10d-4cd0-a395-09b07afd13c8');\n",
       "var x = new MutationObserver(function (mutations, observer) {{\n",
       "        var display = window.getComputedStyle(gd).display;\n",
       "        if (!display || display === 'none') {{\n",
       "            console.log([gd, 'removed!']);\n",
       "            Plotly.purge(gd);\n",
       "            observer.disconnect();\n",
       "        }}\n",
       "}});\n",
       "\n",
       "// Listen for the removal of the full notebook cells\n",
       "var notebookContainer = gd.closest('#notebook-container');\n",
       "if (notebookContainer) {{\n",
       "    x.observe(notebookContainer, {childList: true});\n",
       "}}\n",
       "\n",
       "// Listen for the clearing of the current output cell\n",
       "var outputEl = gd.closest('.output');\n",
       "if (outputEl) {{\n",
       "    x.observe(outputEl, {childList: true});\n",
       "}}\n",
       "\n",
       "                        })                };                });            </script>        </div>"
      ]
     },
     "metadata": {},
     "output_type": "display_data"
    }
   ],
   "source": [
    "import plotly.graph_objects as go\n",
    "\n",
    "months = ['Jan', 'Feb', 'Mar', 'Apr', 'May', 'Jun', 'Jul', 'Aug', 'Sep', 'Oct', 'Nov', 'Dec']\n",
    "years = [i for i in np.arange(2018, 2021+1, 1)]\n",
    "monthly_returns = monthly_return_etf\n",
    "\n",
    "annotations = go.Annotations()\n",
    "for n, row in enumerate(monthly_returns):\n",
    "    for m, val in enumerate(row):\n",
    "        annotations.append(go.Annotation(text=str(round(monthly_returns[n][m]*100,2)), x=months[m], y=years[n],\n",
    "                                         xref='x1', yref='y1', showarrow=False))\n",
    "colorscale = [[0, '#ef476f'], [0.5, 'white'], [1, '#06d6a0']]\n",
    "\n",
    "trace = go.Heatmap(x=months, y=years, z=monthly_returns, colorscale=colorscale, showscale=True)\n",
    "\n",
    "fig = go.Figure(data=go.Data([trace]))\n",
    "fig['layout'].update(\n",
    "    title=\"Monthly returns in a heat map (%)\",\n",
    "    annotations=annotations,\n",
    "    xaxis=go.XAxis(ticks='', side='top'),\n",
    "    yaxis=go.YAxis(ticks='', ticksuffix='  '),  # ticksuffix is a workaround to add a bit of padding\n",
    "#     width=1200,\n",
    "#     height=700,\n",
    "    autosize=True\n",
    ")\n",
    "\n",
    "fig.show()"
   ]
  },
  {
   "cell_type": "code",
   "execution_count": 18,
   "id": "d182986e",
   "metadata": {},
   "outputs": [
    {
     "name": "stderr",
     "output_type": "stream",
     "text": [
      "/home/zj/anaconda3/envs/rllib_test/lib/python3.7/site-packages/plotly/graph_objs/_deprecations.py:68: DeprecationWarning:\n",
      "\n",
      "plotly.graph_objs.Annotations is deprecated.\n",
      "Please replace it with a list or tuple of instances of the following types\n",
      "  - plotly.graph_objs.layout.Annotation\n",
      "  - plotly.graph_objs.layout.scene.Annotation\n",
      "\n",
      "\n",
      "/home/zj/anaconda3/envs/rllib_test/lib/python3.7/site-packages/plotly/graph_objs/_deprecations.py:149: DeprecationWarning:\n",
      "\n",
      "plotly.graph_objs.Annotation is deprecated.\n",
      "Please replace it with one of the following more specific types\n",
      "  - plotly.graph_objs.layout.Annotation\n",
      "  - plotly.graph_objs.layout.scene.Annotation\n",
      "\n",
      "\n",
      "/home/zj/anaconda3/envs/rllib_test/lib/python3.7/site-packages/plotly/graph_objs/_deprecations.py:40: DeprecationWarning:\n",
      "\n",
      "plotly.graph_objs.Data is deprecated.\n",
      "Please replace it with a list or tuple of instances of the following types\n",
      "  - plotly.graph_objs.Scatter\n",
      "  - plotly.graph_objs.Bar\n",
      "  - plotly.graph_objs.Area\n",
      "  - plotly.graph_objs.Histogram\n",
      "  - etc.\n",
      "\n",
      "\n",
      "/home/zj/anaconda3/envs/rllib_test/lib/python3.7/site-packages/plotly/graph_objs/_deprecations.py:550: DeprecationWarning:\n",
      "\n",
      "plotly.graph_objs.XAxis is deprecated.\n",
      "Please replace it with one of the following more specific types\n",
      "  - plotly.graph_objs.layout.XAxis\n",
      "  - plotly.graph_objs.layout.scene.XAxis\n",
      "\n",
      "\n",
      "/home/zj/anaconda3/envs/rllib_test/lib/python3.7/site-packages/plotly/graph_objs/_deprecations.py:578: DeprecationWarning:\n",
      "\n",
      "plotly.graph_objs.YAxis is deprecated.\n",
      "Please replace it with one of the following more specific types\n",
      "  - plotly.graph_objs.layout.YAxis\n",
      "  - plotly.graph_objs.layout.scene.YAxis\n",
      "\n",
      "\n"
     ]
    },
    {
     "data": {
      "application/vnd.plotly.v1+json": {
       "config": {
        "plotlyServerURL": "https://plot.ly"
       },
       "data": [
        {
         "colorscale": [
          [
           0,
           "#ef476f"
          ],
          [
           0.5,
           "white"
          ],
          [
           1,
           "#06d6a0"
          ]
         ],
         "showscale": true,
         "type": "heatmap",
         "x": [
          "Jan",
          "Feb",
          "Mar",
          "Apr",
          "May",
          "Jun",
          "Jul",
          "Aug",
          "Sep",
          "Oct",
          "Nov",
          "Dec"
         ],
         "y": [
          2018,
          2019,
          2020,
          2021
         ],
         "z": [
          [
           null,
           null,
           null,
           null,
           null,
           null,
           null,
           null,
           null,
           null,
           -0.009796579330543231,
           0.06875113449357029
          ],
          [
           -0.00044117766100426614,
           -0.028524686415859257,
           -0.028922163890235386,
           -0.022647105788779598,
           0.026468421757204763,
           -0.045605430723872464,
           0.012243212887507737,
           -0.007880052396967763,
           -0.0072098216428744255,
           -0.0553552466153715,
           -0.04422456789208662,
           -0.006384763340008037
          ],
          [
           0.0015634049215579315,
           0.019991726808780252,
           -0.040147694759068986,
           -0.042224227330661446,
           -0.06703716398282689,
           -0.03643708941506674,
           0.021552718330521525,
           -0.00541003538044138,
           -0.002416042771503646,
           -0.008429382601922497,
           -0.03166655198582835,
           -0.02116400417244857
          ],
          [
           -0.02840368153510564,
           -0.01720238864800594,
           -0.0273127031177407,
           -0.0114536405423874,
           -0.010812857644274199,
           -0.003891092705464505,
           -0.00075116205522896,
           -0.0006885892072745481,
           0.01517213965179609,
           -0.02544028585495428,
           null,
           null
          ]
         ]
        }
       ],
       "layout": {
        "annotations": [
         {
          "showarrow": false,
          "text": "nan",
          "x": "Jan",
          "xref": "x",
          "y": 2018,
          "yref": "y"
         },
         {
          "showarrow": false,
          "text": "nan",
          "x": "Feb",
          "xref": "x",
          "y": 2018,
          "yref": "y"
         },
         {
          "showarrow": false,
          "text": "nan",
          "x": "Mar",
          "xref": "x",
          "y": 2018,
          "yref": "y"
         },
         {
          "showarrow": false,
          "text": "nan",
          "x": "Apr",
          "xref": "x",
          "y": 2018,
          "yref": "y"
         },
         {
          "showarrow": false,
          "text": "nan",
          "x": "May",
          "xref": "x",
          "y": 2018,
          "yref": "y"
         },
         {
          "showarrow": false,
          "text": "nan",
          "x": "Jun",
          "xref": "x",
          "y": 2018,
          "yref": "y"
         },
         {
          "showarrow": false,
          "text": "nan",
          "x": "Jul",
          "xref": "x",
          "y": 2018,
          "yref": "y"
         },
         {
          "showarrow": false,
          "text": "nan",
          "x": "Aug",
          "xref": "x",
          "y": 2018,
          "yref": "y"
         },
         {
          "showarrow": false,
          "text": "nan",
          "x": "Sep",
          "xref": "x",
          "y": 2018,
          "yref": "y"
         },
         {
          "showarrow": false,
          "text": "nan",
          "x": "Oct",
          "xref": "x",
          "y": 2018,
          "yref": "y"
         },
         {
          "showarrow": false,
          "text": "-0.98",
          "x": "Nov",
          "xref": "x",
          "y": 2018,
          "yref": "y"
         },
         {
          "showarrow": false,
          "text": "6.88",
          "x": "Dec",
          "xref": "x",
          "y": 2018,
          "yref": "y"
         },
         {
          "showarrow": false,
          "text": "-0.04",
          "x": "Jan",
          "xref": "x",
          "y": 2019,
          "yref": "y"
         },
         {
          "showarrow": false,
          "text": "-2.85",
          "x": "Feb",
          "xref": "x",
          "y": 2019,
          "yref": "y"
         },
         {
          "showarrow": false,
          "text": "-2.89",
          "x": "Mar",
          "xref": "x",
          "y": 2019,
          "yref": "y"
         },
         {
          "showarrow": false,
          "text": "-2.26",
          "x": "Apr",
          "xref": "x",
          "y": 2019,
          "yref": "y"
         },
         {
          "showarrow": false,
          "text": "2.65",
          "x": "May",
          "xref": "x",
          "y": 2019,
          "yref": "y"
         },
         {
          "showarrow": false,
          "text": "-4.56",
          "x": "Jun",
          "xref": "x",
          "y": 2019,
          "yref": "y"
         },
         {
          "showarrow": false,
          "text": "1.22",
          "x": "Jul",
          "xref": "x",
          "y": 2019,
          "yref": "y"
         },
         {
          "showarrow": false,
          "text": "-0.79",
          "x": "Aug",
          "xref": "x",
          "y": 2019,
          "yref": "y"
         },
         {
          "showarrow": false,
          "text": "-0.72",
          "x": "Sep",
          "xref": "x",
          "y": 2019,
          "yref": "y"
         },
         {
          "showarrow": false,
          "text": "-5.54",
          "x": "Oct",
          "xref": "x",
          "y": 2019,
          "yref": "y"
         },
         {
          "showarrow": false,
          "text": "-4.42",
          "x": "Nov",
          "xref": "x",
          "y": 2019,
          "yref": "y"
         },
         {
          "showarrow": false,
          "text": "-0.64",
          "x": "Dec",
          "xref": "x",
          "y": 2019,
          "yref": "y"
         },
         {
          "showarrow": false,
          "text": "0.16",
          "x": "Jan",
          "xref": "x",
          "y": 2020,
          "yref": "y"
         },
         {
          "showarrow": false,
          "text": "2.0",
          "x": "Feb",
          "xref": "x",
          "y": 2020,
          "yref": "y"
         },
         {
          "showarrow": false,
          "text": "-4.01",
          "x": "Mar",
          "xref": "x",
          "y": 2020,
          "yref": "y"
         },
         {
          "showarrow": false,
          "text": "-4.22",
          "x": "Apr",
          "xref": "x",
          "y": 2020,
          "yref": "y"
         },
         {
          "showarrow": false,
          "text": "-6.7",
          "x": "May",
          "xref": "x",
          "y": 2020,
          "yref": "y"
         },
         {
          "showarrow": false,
          "text": "-3.64",
          "x": "Jun",
          "xref": "x",
          "y": 2020,
          "yref": "y"
         },
         {
          "showarrow": false,
          "text": "2.16",
          "x": "Jul",
          "xref": "x",
          "y": 2020,
          "yref": "y"
         },
         {
          "showarrow": false,
          "text": "-0.54",
          "x": "Aug",
          "xref": "x",
          "y": 2020,
          "yref": "y"
         },
         {
          "showarrow": false,
          "text": "-0.24",
          "x": "Sep",
          "xref": "x",
          "y": 2020,
          "yref": "y"
         },
         {
          "showarrow": false,
          "text": "-0.84",
          "x": "Oct",
          "xref": "x",
          "y": 2020,
          "yref": "y"
         },
         {
          "showarrow": false,
          "text": "-3.17",
          "x": "Nov",
          "xref": "x",
          "y": 2020,
          "yref": "y"
         },
         {
          "showarrow": false,
          "text": "-2.12",
          "x": "Dec",
          "xref": "x",
          "y": 2020,
          "yref": "y"
         },
         {
          "showarrow": false,
          "text": "-2.84",
          "x": "Jan",
          "xref": "x",
          "y": 2021,
          "yref": "y"
         },
         {
          "showarrow": false,
          "text": "-1.72",
          "x": "Feb",
          "xref": "x",
          "y": 2021,
          "yref": "y"
         },
         {
          "showarrow": false,
          "text": "-2.73",
          "x": "Mar",
          "xref": "x",
          "y": 2021,
          "yref": "y"
         },
         {
          "showarrow": false,
          "text": "-1.15",
          "x": "Apr",
          "xref": "x",
          "y": 2021,
          "yref": "y"
         },
         {
          "showarrow": false,
          "text": "-1.08",
          "x": "May",
          "xref": "x",
          "y": 2021,
          "yref": "y"
         },
         {
          "showarrow": false,
          "text": "-0.39",
          "x": "Jun",
          "xref": "x",
          "y": 2021,
          "yref": "y"
         },
         {
          "showarrow": false,
          "text": "-0.08",
          "x": "Jul",
          "xref": "x",
          "y": 2021,
          "yref": "y"
         },
         {
          "showarrow": false,
          "text": "-0.07",
          "x": "Aug",
          "xref": "x",
          "y": 2021,
          "yref": "y"
         },
         {
          "showarrow": false,
          "text": "1.52",
          "x": "Sep",
          "xref": "x",
          "y": 2021,
          "yref": "y"
         },
         {
          "showarrow": false,
          "text": "-2.54",
          "x": "Oct",
          "xref": "x",
          "y": 2021,
          "yref": "y"
         },
         {
          "showarrow": false,
          "text": "nan",
          "x": "Nov",
          "xref": "x",
          "y": 2021,
          "yref": "y"
         },
         {
          "showarrow": false,
          "text": "nan",
          "x": "Dec",
          "xref": "x",
          "y": 2021,
          "yref": "y"
         }
        ],
        "autosize": true,
        "template": {
         "data": {
          "bar": [
           {
            "error_x": {
             "color": "#2a3f5f"
            },
            "error_y": {
             "color": "#2a3f5f"
            },
            "marker": {
             "line": {
              "color": "#E5ECF6",
              "width": 0.5
             },
             "pattern": {
              "fillmode": "overlay",
              "size": 10,
              "solidity": 0.2
             }
            },
            "type": "bar"
           }
          ],
          "barpolar": [
           {
            "marker": {
             "line": {
              "color": "#E5ECF6",
              "width": 0.5
             },
             "pattern": {
              "fillmode": "overlay",
              "size": 10,
              "solidity": 0.2
             }
            },
            "type": "barpolar"
           }
          ],
          "carpet": [
           {
            "aaxis": {
             "endlinecolor": "#2a3f5f",
             "gridcolor": "white",
             "linecolor": "white",
             "minorgridcolor": "white",
             "startlinecolor": "#2a3f5f"
            },
            "baxis": {
             "endlinecolor": "#2a3f5f",
             "gridcolor": "white",
             "linecolor": "white",
             "minorgridcolor": "white",
             "startlinecolor": "#2a3f5f"
            },
            "type": "carpet"
           }
          ],
          "choropleth": [
           {
            "colorbar": {
             "outlinewidth": 0,
             "ticks": ""
            },
            "type": "choropleth"
           }
          ],
          "contour": [
           {
            "colorbar": {
             "outlinewidth": 0,
             "ticks": ""
            },
            "colorscale": [
             [
              0,
              "#0d0887"
             ],
             [
              0.1111111111111111,
              "#46039f"
             ],
             [
              0.2222222222222222,
              "#7201a8"
             ],
             [
              0.3333333333333333,
              "#9c179e"
             ],
             [
              0.4444444444444444,
              "#bd3786"
             ],
             [
              0.5555555555555556,
              "#d8576b"
             ],
             [
              0.6666666666666666,
              "#ed7953"
             ],
             [
              0.7777777777777778,
              "#fb9f3a"
             ],
             [
              0.8888888888888888,
              "#fdca26"
             ],
             [
              1,
              "#f0f921"
             ]
            ],
            "type": "contour"
           }
          ],
          "contourcarpet": [
           {
            "colorbar": {
             "outlinewidth": 0,
             "ticks": ""
            },
            "type": "contourcarpet"
           }
          ],
          "heatmap": [
           {
            "colorbar": {
             "outlinewidth": 0,
             "ticks": ""
            },
            "colorscale": [
             [
              0,
              "#0d0887"
             ],
             [
              0.1111111111111111,
              "#46039f"
             ],
             [
              0.2222222222222222,
              "#7201a8"
             ],
             [
              0.3333333333333333,
              "#9c179e"
             ],
             [
              0.4444444444444444,
              "#bd3786"
             ],
             [
              0.5555555555555556,
              "#d8576b"
             ],
             [
              0.6666666666666666,
              "#ed7953"
             ],
             [
              0.7777777777777778,
              "#fb9f3a"
             ],
             [
              0.8888888888888888,
              "#fdca26"
             ],
             [
              1,
              "#f0f921"
             ]
            ],
            "type": "heatmap"
           }
          ],
          "heatmapgl": [
           {
            "colorbar": {
             "outlinewidth": 0,
             "ticks": ""
            },
            "colorscale": [
             [
              0,
              "#0d0887"
             ],
             [
              0.1111111111111111,
              "#46039f"
             ],
             [
              0.2222222222222222,
              "#7201a8"
             ],
             [
              0.3333333333333333,
              "#9c179e"
             ],
             [
              0.4444444444444444,
              "#bd3786"
             ],
             [
              0.5555555555555556,
              "#d8576b"
             ],
             [
              0.6666666666666666,
              "#ed7953"
             ],
             [
              0.7777777777777778,
              "#fb9f3a"
             ],
             [
              0.8888888888888888,
              "#fdca26"
             ],
             [
              1,
              "#f0f921"
             ]
            ],
            "type": "heatmapgl"
           }
          ],
          "histogram": [
           {
            "marker": {
             "pattern": {
              "fillmode": "overlay",
              "size": 10,
              "solidity": 0.2
             }
            },
            "type": "histogram"
           }
          ],
          "histogram2d": [
           {
            "colorbar": {
             "outlinewidth": 0,
             "ticks": ""
            },
            "colorscale": [
             [
              0,
              "#0d0887"
             ],
             [
              0.1111111111111111,
              "#46039f"
             ],
             [
              0.2222222222222222,
              "#7201a8"
             ],
             [
              0.3333333333333333,
              "#9c179e"
             ],
             [
              0.4444444444444444,
              "#bd3786"
             ],
             [
              0.5555555555555556,
              "#d8576b"
             ],
             [
              0.6666666666666666,
              "#ed7953"
             ],
             [
              0.7777777777777778,
              "#fb9f3a"
             ],
             [
              0.8888888888888888,
              "#fdca26"
             ],
             [
              1,
              "#f0f921"
             ]
            ],
            "type": "histogram2d"
           }
          ],
          "histogram2dcontour": [
           {
            "colorbar": {
             "outlinewidth": 0,
             "ticks": ""
            },
            "colorscale": [
             [
              0,
              "#0d0887"
             ],
             [
              0.1111111111111111,
              "#46039f"
             ],
             [
              0.2222222222222222,
              "#7201a8"
             ],
             [
              0.3333333333333333,
              "#9c179e"
             ],
             [
              0.4444444444444444,
              "#bd3786"
             ],
             [
              0.5555555555555556,
              "#d8576b"
             ],
             [
              0.6666666666666666,
              "#ed7953"
             ],
             [
              0.7777777777777778,
              "#fb9f3a"
             ],
             [
              0.8888888888888888,
              "#fdca26"
             ],
             [
              1,
              "#f0f921"
             ]
            ],
            "type": "histogram2dcontour"
           }
          ],
          "mesh3d": [
           {
            "colorbar": {
             "outlinewidth": 0,
             "ticks": ""
            },
            "type": "mesh3d"
           }
          ],
          "parcoords": [
           {
            "line": {
             "colorbar": {
              "outlinewidth": 0,
              "ticks": ""
             }
            },
            "type": "parcoords"
           }
          ],
          "pie": [
           {
            "automargin": true,
            "type": "pie"
           }
          ],
          "scatter": [
           {
            "marker": {
             "colorbar": {
              "outlinewidth": 0,
              "ticks": ""
             }
            },
            "type": "scatter"
           }
          ],
          "scatter3d": [
           {
            "line": {
             "colorbar": {
              "outlinewidth": 0,
              "ticks": ""
             }
            },
            "marker": {
             "colorbar": {
              "outlinewidth": 0,
              "ticks": ""
             }
            },
            "type": "scatter3d"
           }
          ],
          "scattercarpet": [
           {
            "marker": {
             "colorbar": {
              "outlinewidth": 0,
              "ticks": ""
             }
            },
            "type": "scattercarpet"
           }
          ],
          "scattergeo": [
           {
            "marker": {
             "colorbar": {
              "outlinewidth": 0,
              "ticks": ""
             }
            },
            "type": "scattergeo"
           }
          ],
          "scattergl": [
           {
            "marker": {
             "colorbar": {
              "outlinewidth": 0,
              "ticks": ""
             }
            },
            "type": "scattergl"
           }
          ],
          "scattermapbox": [
           {
            "marker": {
             "colorbar": {
              "outlinewidth": 0,
              "ticks": ""
             }
            },
            "type": "scattermapbox"
           }
          ],
          "scatterpolar": [
           {
            "marker": {
             "colorbar": {
              "outlinewidth": 0,
              "ticks": ""
             }
            },
            "type": "scatterpolar"
           }
          ],
          "scatterpolargl": [
           {
            "marker": {
             "colorbar": {
              "outlinewidth": 0,
              "ticks": ""
             }
            },
            "type": "scatterpolargl"
           }
          ],
          "scatterternary": [
           {
            "marker": {
             "colorbar": {
              "outlinewidth": 0,
              "ticks": ""
             }
            },
            "type": "scatterternary"
           }
          ],
          "surface": [
           {
            "colorbar": {
             "outlinewidth": 0,
             "ticks": ""
            },
            "colorscale": [
             [
              0,
              "#0d0887"
             ],
             [
              0.1111111111111111,
              "#46039f"
             ],
             [
              0.2222222222222222,
              "#7201a8"
             ],
             [
              0.3333333333333333,
              "#9c179e"
             ],
             [
              0.4444444444444444,
              "#bd3786"
             ],
             [
              0.5555555555555556,
              "#d8576b"
             ],
             [
              0.6666666666666666,
              "#ed7953"
             ],
             [
              0.7777777777777778,
              "#fb9f3a"
             ],
             [
              0.8888888888888888,
              "#fdca26"
             ],
             [
              1,
              "#f0f921"
             ]
            ],
            "type": "surface"
           }
          ],
          "table": [
           {
            "cells": {
             "fill": {
              "color": "#EBF0F8"
             },
             "line": {
              "color": "white"
             }
            },
            "header": {
             "fill": {
              "color": "#C8D4E3"
             },
             "line": {
              "color": "white"
             }
            },
            "type": "table"
           }
          ]
         },
         "layout": {
          "annotationdefaults": {
           "arrowcolor": "#2a3f5f",
           "arrowhead": 0,
           "arrowwidth": 1
          },
          "autotypenumbers": "strict",
          "coloraxis": {
           "colorbar": {
            "outlinewidth": 0,
            "ticks": ""
           }
          },
          "colorscale": {
           "diverging": [
            [
             0,
             "#8e0152"
            ],
            [
             0.1,
             "#c51b7d"
            ],
            [
             0.2,
             "#de77ae"
            ],
            [
             0.3,
             "#f1b6da"
            ],
            [
             0.4,
             "#fde0ef"
            ],
            [
             0.5,
             "#f7f7f7"
            ],
            [
             0.6,
             "#e6f5d0"
            ],
            [
             0.7,
             "#b8e186"
            ],
            [
             0.8,
             "#7fbc41"
            ],
            [
             0.9,
             "#4d9221"
            ],
            [
             1,
             "#276419"
            ]
           ],
           "sequential": [
            [
             0,
             "#0d0887"
            ],
            [
             0.1111111111111111,
             "#46039f"
            ],
            [
             0.2222222222222222,
             "#7201a8"
            ],
            [
             0.3333333333333333,
             "#9c179e"
            ],
            [
             0.4444444444444444,
             "#bd3786"
            ],
            [
             0.5555555555555556,
             "#d8576b"
            ],
            [
             0.6666666666666666,
             "#ed7953"
            ],
            [
             0.7777777777777778,
             "#fb9f3a"
            ],
            [
             0.8888888888888888,
             "#fdca26"
            ],
            [
             1,
             "#f0f921"
            ]
           ],
           "sequentialminus": [
            [
             0,
             "#0d0887"
            ],
            [
             0.1111111111111111,
             "#46039f"
            ],
            [
             0.2222222222222222,
             "#7201a8"
            ],
            [
             0.3333333333333333,
             "#9c179e"
            ],
            [
             0.4444444444444444,
             "#bd3786"
            ],
            [
             0.5555555555555556,
             "#d8576b"
            ],
            [
             0.6666666666666666,
             "#ed7953"
            ],
            [
             0.7777777777777778,
             "#fb9f3a"
            ],
            [
             0.8888888888888888,
             "#fdca26"
            ],
            [
             1,
             "#f0f921"
            ]
           ]
          },
          "colorway": [
           "#636efa",
           "#EF553B",
           "#00cc96",
           "#ab63fa",
           "#FFA15A",
           "#19d3f3",
           "#FF6692",
           "#B6E880",
           "#FF97FF",
           "#FECB52"
          ],
          "font": {
           "color": "#2a3f5f"
          },
          "geo": {
           "bgcolor": "white",
           "lakecolor": "white",
           "landcolor": "#E5ECF6",
           "showlakes": true,
           "showland": true,
           "subunitcolor": "white"
          },
          "hoverlabel": {
           "align": "left"
          },
          "hovermode": "closest",
          "mapbox": {
           "style": "light"
          },
          "paper_bgcolor": "white",
          "plot_bgcolor": "#E5ECF6",
          "polar": {
           "angularaxis": {
            "gridcolor": "white",
            "linecolor": "white",
            "ticks": ""
           },
           "bgcolor": "#E5ECF6",
           "radialaxis": {
            "gridcolor": "white",
            "linecolor": "white",
            "ticks": ""
           }
          },
          "scene": {
           "xaxis": {
            "backgroundcolor": "#E5ECF6",
            "gridcolor": "white",
            "gridwidth": 2,
            "linecolor": "white",
            "showbackground": true,
            "ticks": "",
            "zerolinecolor": "white"
           },
           "yaxis": {
            "backgroundcolor": "#E5ECF6",
            "gridcolor": "white",
            "gridwidth": 2,
            "linecolor": "white",
            "showbackground": true,
            "ticks": "",
            "zerolinecolor": "white"
           },
           "zaxis": {
            "backgroundcolor": "#E5ECF6",
            "gridcolor": "white",
            "gridwidth": 2,
            "linecolor": "white",
            "showbackground": true,
            "ticks": "",
            "zerolinecolor": "white"
           }
          },
          "shapedefaults": {
           "line": {
            "color": "#2a3f5f"
           }
          },
          "ternary": {
           "aaxis": {
            "gridcolor": "white",
            "linecolor": "white",
            "ticks": ""
           },
           "baxis": {
            "gridcolor": "white",
            "linecolor": "white",
            "ticks": ""
           },
           "bgcolor": "#E5ECF6",
           "caxis": {
            "gridcolor": "white",
            "linecolor": "white",
            "ticks": ""
           }
          },
          "title": {
           "x": 0.05
          },
          "xaxis": {
           "automargin": true,
           "gridcolor": "white",
           "linecolor": "white",
           "ticks": "",
           "title": {
            "standoff": 15
           },
           "zerolinecolor": "white",
           "zerolinewidth": 2
          },
          "yaxis": {
           "automargin": true,
           "gridcolor": "white",
           "linecolor": "white",
           "ticks": "",
           "title": {
            "standoff": 15
           },
           "zerolinecolor": "white",
           "zerolinewidth": 2
          }
         }
        },
        "title": {
         "text": "Monthly returns in a heat map (%)"
        },
        "xaxis": {
         "side": "top",
         "ticks": ""
        },
        "yaxis": {
         "ticks": "",
         "ticksuffix": "  "
        }
       }
      },
      "text/html": [
       "<div>                            <div id=\"5be7d0b6-4dbb-44b8-ba70-61359b97c445\" class=\"plotly-graph-div\" style=\"height:525px; width:100%;\"></div>            <script type=\"text/javascript\">                require([\"plotly\"], function(Plotly) {                    window.PLOTLYENV=window.PLOTLYENV || {};                                    if (document.getElementById(\"5be7d0b6-4dbb-44b8-ba70-61359b97c445\")) {                    Plotly.newPlot(                        \"5be7d0b6-4dbb-44b8-ba70-61359b97c445\",                        [{\"colorscale\":[[0,\"#ef476f\"],[0.5,\"white\"],[1,\"#06d6a0\"]],\"showscale\":true,\"x\":[\"Jan\",\"Feb\",\"Mar\",\"Apr\",\"May\",\"Jun\",\"Jul\",\"Aug\",\"Sep\",\"Oct\",\"Nov\",\"Dec\"],\"y\":[2018,2019,2020,2021],\"z\":[[null,null,null,null,null,null,null,null,null,null,-0.009796579330543231,0.06875113449357029],[-0.00044117766100426614,-0.028524686415859257,-0.028922163890235386,-0.022647105788779598,0.026468421757204763,-0.045605430723872464,0.012243212887507737,-0.007880052396967763,-0.0072098216428744255,-0.0553552466153715,-0.04422456789208662,-0.006384763340008037],[0.0015634049215579315,0.019991726808780252,-0.040147694759068986,-0.042224227330661446,-0.06703716398282689,-0.03643708941506674,0.021552718330521525,-0.00541003538044138,-0.002416042771503646,-0.008429382601922497,-0.03166655198582835,-0.02116400417244857],[-0.02840368153510564,-0.01720238864800594,-0.0273127031177407,-0.0114536405423874,-0.010812857644274199,-0.003891092705464505,-0.00075116205522896,-0.0006885892072745481,0.01517213965179609,-0.02544028585495428,null,null]],\"type\":\"heatmap\"}],                        {\"template\":{\"data\":{\"bar\":[{\"error_x\":{\"color\":\"#2a3f5f\"},\"error_y\":{\"color\":\"#2a3f5f\"},\"marker\":{\"line\":{\"color\":\"#E5ECF6\",\"width\":0.5},\"pattern\":{\"fillmode\":\"overlay\",\"size\":10,\"solidity\":0.2}},\"type\":\"bar\"}],\"barpolar\":[{\"marker\":{\"line\":{\"color\":\"#E5ECF6\",\"width\":0.5},\"pattern\":{\"fillmode\":\"overlay\",\"size\":10,\"solidity\":0.2}},\"type\":\"barpolar\"}],\"carpet\":[{\"aaxis\":{\"endlinecolor\":\"#2a3f5f\",\"gridcolor\":\"white\",\"linecolor\":\"white\",\"minorgridcolor\":\"white\",\"startlinecolor\":\"#2a3f5f\"},\"baxis\":{\"endlinecolor\":\"#2a3f5f\",\"gridcolor\":\"white\",\"linecolor\":\"white\",\"minorgridcolor\":\"white\",\"startlinecolor\":\"#2a3f5f\"},\"type\":\"carpet\"}],\"choropleth\":[{\"colorbar\":{\"outlinewidth\":0,\"ticks\":\"\"},\"type\":\"choropleth\"}],\"contour\":[{\"colorbar\":{\"outlinewidth\":0,\"ticks\":\"\"},\"colorscale\":[[0.0,\"#0d0887\"],[0.1111111111111111,\"#46039f\"],[0.2222222222222222,\"#7201a8\"],[0.3333333333333333,\"#9c179e\"],[0.4444444444444444,\"#bd3786\"],[0.5555555555555556,\"#d8576b\"],[0.6666666666666666,\"#ed7953\"],[0.7777777777777778,\"#fb9f3a\"],[0.8888888888888888,\"#fdca26\"],[1.0,\"#f0f921\"]],\"type\":\"contour\"}],\"contourcarpet\":[{\"colorbar\":{\"outlinewidth\":0,\"ticks\":\"\"},\"type\":\"contourcarpet\"}],\"heatmap\":[{\"colorbar\":{\"outlinewidth\":0,\"ticks\":\"\"},\"colorscale\":[[0.0,\"#0d0887\"],[0.1111111111111111,\"#46039f\"],[0.2222222222222222,\"#7201a8\"],[0.3333333333333333,\"#9c179e\"],[0.4444444444444444,\"#bd3786\"],[0.5555555555555556,\"#d8576b\"],[0.6666666666666666,\"#ed7953\"],[0.7777777777777778,\"#fb9f3a\"],[0.8888888888888888,\"#fdca26\"],[1.0,\"#f0f921\"]],\"type\":\"heatmap\"}],\"heatmapgl\":[{\"colorbar\":{\"outlinewidth\":0,\"ticks\":\"\"},\"colorscale\":[[0.0,\"#0d0887\"],[0.1111111111111111,\"#46039f\"],[0.2222222222222222,\"#7201a8\"],[0.3333333333333333,\"#9c179e\"],[0.4444444444444444,\"#bd3786\"],[0.5555555555555556,\"#d8576b\"],[0.6666666666666666,\"#ed7953\"],[0.7777777777777778,\"#fb9f3a\"],[0.8888888888888888,\"#fdca26\"],[1.0,\"#f0f921\"]],\"type\":\"heatmapgl\"}],\"histogram\":[{\"marker\":{\"pattern\":{\"fillmode\":\"overlay\",\"size\":10,\"solidity\":0.2}},\"type\":\"histogram\"}],\"histogram2d\":[{\"colorbar\":{\"outlinewidth\":0,\"ticks\":\"\"},\"colorscale\":[[0.0,\"#0d0887\"],[0.1111111111111111,\"#46039f\"],[0.2222222222222222,\"#7201a8\"],[0.3333333333333333,\"#9c179e\"],[0.4444444444444444,\"#bd3786\"],[0.5555555555555556,\"#d8576b\"],[0.6666666666666666,\"#ed7953\"],[0.7777777777777778,\"#fb9f3a\"],[0.8888888888888888,\"#fdca26\"],[1.0,\"#f0f921\"]],\"type\":\"histogram2d\"}],\"histogram2dcontour\":[{\"colorbar\":{\"outlinewidth\":0,\"ticks\":\"\"},\"colorscale\":[[0.0,\"#0d0887\"],[0.1111111111111111,\"#46039f\"],[0.2222222222222222,\"#7201a8\"],[0.3333333333333333,\"#9c179e\"],[0.4444444444444444,\"#bd3786\"],[0.5555555555555556,\"#d8576b\"],[0.6666666666666666,\"#ed7953\"],[0.7777777777777778,\"#fb9f3a\"],[0.8888888888888888,\"#fdca26\"],[1.0,\"#f0f921\"]],\"type\":\"histogram2dcontour\"}],\"mesh3d\":[{\"colorbar\":{\"outlinewidth\":0,\"ticks\":\"\"},\"type\":\"mesh3d\"}],\"parcoords\":[{\"line\":{\"colorbar\":{\"outlinewidth\":0,\"ticks\":\"\"}},\"type\":\"parcoords\"}],\"pie\":[{\"automargin\":true,\"type\":\"pie\"}],\"scatter\":[{\"marker\":{\"colorbar\":{\"outlinewidth\":0,\"ticks\":\"\"}},\"type\":\"scatter\"}],\"scatter3d\":[{\"line\":{\"colorbar\":{\"outlinewidth\":0,\"ticks\":\"\"}},\"marker\":{\"colorbar\":{\"outlinewidth\":0,\"ticks\":\"\"}},\"type\":\"scatter3d\"}],\"scattercarpet\":[{\"marker\":{\"colorbar\":{\"outlinewidth\":0,\"ticks\":\"\"}},\"type\":\"scattercarpet\"}],\"scattergeo\":[{\"marker\":{\"colorbar\":{\"outlinewidth\":0,\"ticks\":\"\"}},\"type\":\"scattergeo\"}],\"scattergl\":[{\"marker\":{\"colorbar\":{\"outlinewidth\":0,\"ticks\":\"\"}},\"type\":\"scattergl\"}],\"scattermapbox\":[{\"marker\":{\"colorbar\":{\"outlinewidth\":0,\"ticks\":\"\"}},\"type\":\"scattermapbox\"}],\"scatterpolar\":[{\"marker\":{\"colorbar\":{\"outlinewidth\":0,\"ticks\":\"\"}},\"type\":\"scatterpolar\"}],\"scatterpolargl\":[{\"marker\":{\"colorbar\":{\"outlinewidth\":0,\"ticks\":\"\"}},\"type\":\"scatterpolargl\"}],\"scatterternary\":[{\"marker\":{\"colorbar\":{\"outlinewidth\":0,\"ticks\":\"\"}},\"type\":\"scatterternary\"}],\"surface\":[{\"colorbar\":{\"outlinewidth\":0,\"ticks\":\"\"},\"colorscale\":[[0.0,\"#0d0887\"],[0.1111111111111111,\"#46039f\"],[0.2222222222222222,\"#7201a8\"],[0.3333333333333333,\"#9c179e\"],[0.4444444444444444,\"#bd3786\"],[0.5555555555555556,\"#d8576b\"],[0.6666666666666666,\"#ed7953\"],[0.7777777777777778,\"#fb9f3a\"],[0.8888888888888888,\"#fdca26\"],[1.0,\"#f0f921\"]],\"type\":\"surface\"}],\"table\":[{\"cells\":{\"fill\":{\"color\":\"#EBF0F8\"},\"line\":{\"color\":\"white\"}},\"header\":{\"fill\":{\"color\":\"#C8D4E3\"},\"line\":{\"color\":\"white\"}},\"type\":\"table\"}]},\"layout\":{\"annotationdefaults\":{\"arrowcolor\":\"#2a3f5f\",\"arrowhead\":0,\"arrowwidth\":1},\"autotypenumbers\":\"strict\",\"coloraxis\":{\"colorbar\":{\"outlinewidth\":0,\"ticks\":\"\"}},\"colorscale\":{\"diverging\":[[0,\"#8e0152\"],[0.1,\"#c51b7d\"],[0.2,\"#de77ae\"],[0.3,\"#f1b6da\"],[0.4,\"#fde0ef\"],[0.5,\"#f7f7f7\"],[0.6,\"#e6f5d0\"],[0.7,\"#b8e186\"],[0.8,\"#7fbc41\"],[0.9,\"#4d9221\"],[1,\"#276419\"]],\"sequential\":[[0.0,\"#0d0887\"],[0.1111111111111111,\"#46039f\"],[0.2222222222222222,\"#7201a8\"],[0.3333333333333333,\"#9c179e\"],[0.4444444444444444,\"#bd3786\"],[0.5555555555555556,\"#d8576b\"],[0.6666666666666666,\"#ed7953\"],[0.7777777777777778,\"#fb9f3a\"],[0.8888888888888888,\"#fdca26\"],[1.0,\"#f0f921\"]],\"sequentialminus\":[[0.0,\"#0d0887\"],[0.1111111111111111,\"#46039f\"],[0.2222222222222222,\"#7201a8\"],[0.3333333333333333,\"#9c179e\"],[0.4444444444444444,\"#bd3786\"],[0.5555555555555556,\"#d8576b\"],[0.6666666666666666,\"#ed7953\"],[0.7777777777777778,\"#fb9f3a\"],[0.8888888888888888,\"#fdca26\"],[1.0,\"#f0f921\"]]},\"colorway\":[\"#636efa\",\"#EF553B\",\"#00cc96\",\"#ab63fa\",\"#FFA15A\",\"#19d3f3\",\"#FF6692\",\"#B6E880\",\"#FF97FF\",\"#FECB52\"],\"font\":{\"color\":\"#2a3f5f\"},\"geo\":{\"bgcolor\":\"white\",\"lakecolor\":\"white\",\"landcolor\":\"#E5ECF6\",\"showlakes\":true,\"showland\":true,\"subunitcolor\":\"white\"},\"hoverlabel\":{\"align\":\"left\"},\"hovermode\":\"closest\",\"mapbox\":{\"style\":\"light\"},\"paper_bgcolor\":\"white\",\"plot_bgcolor\":\"#E5ECF6\",\"polar\":{\"angularaxis\":{\"gridcolor\":\"white\",\"linecolor\":\"white\",\"ticks\":\"\"},\"bgcolor\":\"#E5ECF6\",\"radialaxis\":{\"gridcolor\":\"white\",\"linecolor\":\"white\",\"ticks\":\"\"}},\"scene\":{\"xaxis\":{\"backgroundcolor\":\"#E5ECF6\",\"gridcolor\":\"white\",\"gridwidth\":2,\"linecolor\":\"white\",\"showbackground\":true,\"ticks\":\"\",\"zerolinecolor\":\"white\"},\"yaxis\":{\"backgroundcolor\":\"#E5ECF6\",\"gridcolor\":\"white\",\"gridwidth\":2,\"linecolor\":\"white\",\"showbackground\":true,\"ticks\":\"\",\"zerolinecolor\":\"white\"},\"zaxis\":{\"backgroundcolor\":\"#E5ECF6\",\"gridcolor\":\"white\",\"gridwidth\":2,\"linecolor\":\"white\",\"showbackground\":true,\"ticks\":\"\",\"zerolinecolor\":\"white\"}},\"shapedefaults\":{\"line\":{\"color\":\"#2a3f5f\"}},\"ternary\":{\"aaxis\":{\"gridcolor\":\"white\",\"linecolor\":\"white\",\"ticks\":\"\"},\"baxis\":{\"gridcolor\":\"white\",\"linecolor\":\"white\",\"ticks\":\"\"},\"bgcolor\":\"#E5ECF6\",\"caxis\":{\"gridcolor\":\"white\",\"linecolor\":\"white\",\"ticks\":\"\"}},\"title\":{\"x\":0.05},\"xaxis\":{\"automargin\":true,\"gridcolor\":\"white\",\"linecolor\":\"white\",\"ticks\":\"\",\"title\":{\"standoff\":15},\"zerolinecolor\":\"white\",\"zerolinewidth\":2},\"yaxis\":{\"automargin\":true,\"gridcolor\":\"white\",\"linecolor\":\"white\",\"ticks\":\"\",\"title\":{\"standoff\":15},\"zerolinecolor\":\"white\",\"zerolinewidth\":2}}},\"xaxis\":{\"ticks\":\"\",\"side\":\"top\"},\"yaxis\":{\"ticks\":\"\",\"ticksuffix\":\"  \"},\"title\":{\"text\":\"Monthly returns in a heat map (%)\"},\"annotations\":[{\"showarrow\":false,\"text\":\"nan\",\"x\":\"Jan\",\"xref\":\"x\",\"y\":2018,\"yref\":\"y\"},{\"showarrow\":false,\"text\":\"nan\",\"x\":\"Feb\",\"xref\":\"x\",\"y\":2018,\"yref\":\"y\"},{\"showarrow\":false,\"text\":\"nan\",\"x\":\"Mar\",\"xref\":\"x\",\"y\":2018,\"yref\":\"y\"},{\"showarrow\":false,\"text\":\"nan\",\"x\":\"Apr\",\"xref\":\"x\",\"y\":2018,\"yref\":\"y\"},{\"showarrow\":false,\"text\":\"nan\",\"x\":\"May\",\"xref\":\"x\",\"y\":2018,\"yref\":\"y\"},{\"showarrow\":false,\"text\":\"nan\",\"x\":\"Jun\",\"xref\":\"x\",\"y\":2018,\"yref\":\"y\"},{\"showarrow\":false,\"text\":\"nan\",\"x\":\"Jul\",\"xref\":\"x\",\"y\":2018,\"yref\":\"y\"},{\"showarrow\":false,\"text\":\"nan\",\"x\":\"Aug\",\"xref\":\"x\",\"y\":2018,\"yref\":\"y\"},{\"showarrow\":false,\"text\":\"nan\",\"x\":\"Sep\",\"xref\":\"x\",\"y\":2018,\"yref\":\"y\"},{\"showarrow\":false,\"text\":\"nan\",\"x\":\"Oct\",\"xref\":\"x\",\"y\":2018,\"yref\":\"y\"},{\"showarrow\":false,\"text\":\"-0.98\",\"x\":\"Nov\",\"xref\":\"x\",\"y\":2018,\"yref\":\"y\"},{\"showarrow\":false,\"text\":\"6.88\",\"x\":\"Dec\",\"xref\":\"x\",\"y\":2018,\"yref\":\"y\"},{\"showarrow\":false,\"text\":\"-0.04\",\"x\":\"Jan\",\"xref\":\"x\",\"y\":2019,\"yref\":\"y\"},{\"showarrow\":false,\"text\":\"-2.85\",\"x\":\"Feb\",\"xref\":\"x\",\"y\":2019,\"yref\":\"y\"},{\"showarrow\":false,\"text\":\"-2.89\",\"x\":\"Mar\",\"xref\":\"x\",\"y\":2019,\"yref\":\"y\"},{\"showarrow\":false,\"text\":\"-2.26\",\"x\":\"Apr\",\"xref\":\"x\",\"y\":2019,\"yref\":\"y\"},{\"showarrow\":false,\"text\":\"2.65\",\"x\":\"May\",\"xref\":\"x\",\"y\":2019,\"yref\":\"y\"},{\"showarrow\":false,\"text\":\"-4.56\",\"x\":\"Jun\",\"xref\":\"x\",\"y\":2019,\"yref\":\"y\"},{\"showarrow\":false,\"text\":\"1.22\",\"x\":\"Jul\",\"xref\":\"x\",\"y\":2019,\"yref\":\"y\"},{\"showarrow\":false,\"text\":\"-0.79\",\"x\":\"Aug\",\"xref\":\"x\",\"y\":2019,\"yref\":\"y\"},{\"showarrow\":false,\"text\":\"-0.72\",\"x\":\"Sep\",\"xref\":\"x\",\"y\":2019,\"yref\":\"y\"},{\"showarrow\":false,\"text\":\"-5.54\",\"x\":\"Oct\",\"xref\":\"x\",\"y\":2019,\"yref\":\"y\"},{\"showarrow\":false,\"text\":\"-4.42\",\"x\":\"Nov\",\"xref\":\"x\",\"y\":2019,\"yref\":\"y\"},{\"showarrow\":false,\"text\":\"-0.64\",\"x\":\"Dec\",\"xref\":\"x\",\"y\":2019,\"yref\":\"y\"},{\"showarrow\":false,\"text\":\"0.16\",\"x\":\"Jan\",\"xref\":\"x\",\"y\":2020,\"yref\":\"y\"},{\"showarrow\":false,\"text\":\"2.0\",\"x\":\"Feb\",\"xref\":\"x\",\"y\":2020,\"yref\":\"y\"},{\"showarrow\":false,\"text\":\"-4.01\",\"x\":\"Mar\",\"xref\":\"x\",\"y\":2020,\"yref\":\"y\"},{\"showarrow\":false,\"text\":\"-4.22\",\"x\":\"Apr\",\"xref\":\"x\",\"y\":2020,\"yref\":\"y\"},{\"showarrow\":false,\"text\":\"-6.7\",\"x\":\"May\",\"xref\":\"x\",\"y\":2020,\"yref\":\"y\"},{\"showarrow\":false,\"text\":\"-3.64\",\"x\":\"Jun\",\"xref\":\"x\",\"y\":2020,\"yref\":\"y\"},{\"showarrow\":false,\"text\":\"2.16\",\"x\":\"Jul\",\"xref\":\"x\",\"y\":2020,\"yref\":\"y\"},{\"showarrow\":false,\"text\":\"-0.54\",\"x\":\"Aug\",\"xref\":\"x\",\"y\":2020,\"yref\":\"y\"},{\"showarrow\":false,\"text\":\"-0.24\",\"x\":\"Sep\",\"xref\":\"x\",\"y\":2020,\"yref\":\"y\"},{\"showarrow\":false,\"text\":\"-0.84\",\"x\":\"Oct\",\"xref\":\"x\",\"y\":2020,\"yref\":\"y\"},{\"showarrow\":false,\"text\":\"-3.17\",\"x\":\"Nov\",\"xref\":\"x\",\"y\":2020,\"yref\":\"y\"},{\"showarrow\":false,\"text\":\"-2.12\",\"x\":\"Dec\",\"xref\":\"x\",\"y\":2020,\"yref\":\"y\"},{\"showarrow\":false,\"text\":\"-2.84\",\"x\":\"Jan\",\"xref\":\"x\",\"y\":2021,\"yref\":\"y\"},{\"showarrow\":false,\"text\":\"-1.72\",\"x\":\"Feb\",\"xref\":\"x\",\"y\":2021,\"yref\":\"y\"},{\"showarrow\":false,\"text\":\"-2.73\",\"x\":\"Mar\",\"xref\":\"x\",\"y\":2021,\"yref\":\"y\"},{\"showarrow\":false,\"text\":\"-1.15\",\"x\":\"Apr\",\"xref\":\"x\",\"y\":2021,\"yref\":\"y\"},{\"showarrow\":false,\"text\":\"-1.08\",\"x\":\"May\",\"xref\":\"x\",\"y\":2021,\"yref\":\"y\"},{\"showarrow\":false,\"text\":\"-0.39\",\"x\":\"Jun\",\"xref\":\"x\",\"y\":2021,\"yref\":\"y\"},{\"showarrow\":false,\"text\":\"-0.08\",\"x\":\"Jul\",\"xref\":\"x\",\"y\":2021,\"yref\":\"y\"},{\"showarrow\":false,\"text\":\"-0.07\",\"x\":\"Aug\",\"xref\":\"x\",\"y\":2021,\"yref\":\"y\"},{\"showarrow\":false,\"text\":\"1.52\",\"x\":\"Sep\",\"xref\":\"x\",\"y\":2021,\"yref\":\"y\"},{\"showarrow\":false,\"text\":\"-2.54\",\"x\":\"Oct\",\"xref\":\"x\",\"y\":2021,\"yref\":\"y\"},{\"showarrow\":false,\"text\":\"nan\",\"x\":\"Nov\",\"xref\":\"x\",\"y\":2021,\"yref\":\"y\"},{\"showarrow\":false,\"text\":\"nan\",\"x\":\"Dec\",\"xref\":\"x\",\"y\":2021,\"yref\":\"y\"}],\"autosize\":true},                        {\"responsive\": true}                    ).then(function(){\n",
       "                            \n",
       "var gd = document.getElementById('5be7d0b6-4dbb-44b8-ba70-61359b97c445');\n",
       "var x = new MutationObserver(function (mutations, observer) {{\n",
       "        var display = window.getComputedStyle(gd).display;\n",
       "        if (!display || display === 'none') {{\n",
       "            console.log([gd, 'removed!']);\n",
       "            Plotly.purge(gd);\n",
       "            observer.disconnect();\n",
       "        }}\n",
       "}});\n",
       "\n",
       "// Listen for the removal of the full notebook cells\n",
       "var notebookContainer = gd.closest('#notebook-container');\n",
       "if (notebookContainer) {{\n",
       "    x.observe(notebookContainer, {childList: true});\n",
       "}}\n",
       "\n",
       "// Listen for the clearing of the current output cell\n",
       "var outputEl = gd.closest('.output');\n",
       "if (outputEl) {{\n",
       "    x.observe(outputEl, {childList: true});\n",
       "}}\n",
       "\n",
       "                        })                };                });            </script>        </div>"
      ]
     },
     "metadata": {},
     "output_type": "display_data"
    }
   ],
   "source": [
    "import plotly.graph_objects as go\n",
    "\n",
    "months = ['Jan', 'Feb', 'Mar', 'Apr', 'May', 'Jun', 'Jul', 'Aug', 'Sep', 'Oct', 'Nov', 'Dec']\n",
    "years = [i for i in np.arange(2018, 2021+1, 1)]\n",
    "monthly_returns = monthly_return_drl - monthly_return_etf\n",
    "\n",
    "annotations = go.Annotations()\n",
    "for n, row in enumerate(monthly_returns):\n",
    "    for m, val in enumerate(row):\n",
    "        annotations.append(go.Annotation(text=str(round(monthly_returns[n][m]*100,2)), x=months[m], y=years[n],\n",
    "                                         xref='x1', yref='y1', showarrow=False))\n",
    "colorscale = [[0, '#ef476f'], [0.5, 'white'], [1, '#06d6a0']]\n",
    "\n",
    "trace = go.Heatmap(x=months, y=years, z=monthly_returns, colorscale=colorscale, showscale=True)\n",
    "\n",
    "fig = go.Figure(data=go.Data([trace]))\n",
    "fig['layout'].update(\n",
    "    title=\"Monthly returns in a heat map (%)\",\n",
    "    annotations=annotations,\n",
    "    xaxis=go.XAxis(ticks='', side='top'),\n",
    "    yaxis=go.YAxis(ticks='', ticksuffix='  '),  # ticksuffix is a workaround to add a bit of padding\n",
    "#     width=1200,\n",
    "#     height=700,\n",
    "    autosize=True\n",
    ")\n",
    "\n",
    "fig.show()"
   ]
  },
  {
   "cell_type": "code",
   "execution_count": null,
   "id": "a061883c",
   "metadata": {},
   "outputs": [],
   "source": []
  },
  {
   "cell_type": "code",
   "execution_count": null,
   "id": "6d2d1ce3",
   "metadata": {},
   "outputs": [],
   "source": []
  },
  {
   "cell_type": "code",
   "execution_count": null,
   "id": "5f976800",
   "metadata": {},
   "outputs": [],
   "source": []
  },
  {
   "cell_type": "code",
   "execution_count": null,
   "id": "5ab05db4",
   "metadata": {},
   "outputs": [],
   "source": []
  },
  {
   "cell_type": "code",
   "execution_count": null,
   "id": "8da4f433",
   "metadata": {},
   "outputs": [],
   "source": []
  },
  {
   "cell_type": "code",
   "execution_count": null,
   "id": "0782139a",
   "metadata": {},
   "outputs": [],
   "source": []
  },
  {
   "cell_type": "code",
   "execution_count": null,
   "id": "2737b9b1",
   "metadata": {},
   "outputs": [],
   "source": []
  },
  {
   "cell_type": "code",
   "execution_count": null,
   "id": "77d61e08",
   "metadata": {},
   "outputs": [],
   "source": []
  },
  {
   "cell_type": "code",
   "execution_count": null,
   "id": "82403c89",
   "metadata": {},
   "outputs": [],
   "source": []
  },
  {
   "cell_type": "code",
   "execution_count": 19,
   "id": "963d8576",
   "metadata": {},
   "outputs": [],
   "source": [
    "yearly_return_drl = df_sum.groupby([df_sum.index.year]).asset.apply(get_returns)\n",
    "yearly_return_etf = df_etf.groupby([df_etf.index.year]).Close.apply(get_returns)"
   ]
  },
  {
   "cell_type": "code",
   "execution_count": 22,
   "id": "3879a22c",
   "metadata": {},
   "outputs": [
    {
     "data": {
      "application/vnd.plotly.v1+json": {
       "config": {
        "plotlyServerURL": "https://plot.ly"
       },
       "data": [
        {
         "marker": {
          "color": [
           "#ef476f",
           "#06d6a0",
           "#ef476f",
           "#ef476f"
          ]
         },
         "name": "DRL",
         "text": [
          -3.53333284625712,
          2.536957652364058,
          -19.088974506608423,
          -0.899240511953836
         ],
         "textposition": "outside",
         "texttemplate": "%{text:.2f}",
         "type": "bar",
         "x": [
          2018,
          2019,
          2020,
          2021
         ],
         "y": [
          -3.53333284625712,
          2.536957652364058,
          -19.088974506608423,
          -0.899240511953836
         ]
        },
        {
         "marker": {
          "color": [
           "#e63946",
           "#0a9396",
           "#0a9396",
           "#0a9396"
          ]
         },
         "name": "ETF",
         "text": [
          -7.778003313076621,
          24.44638798941621,
          1.9713905689662248,
          13.965047019607656
         ],
         "textposition": "outside",
         "texttemplate": "%{text:.2f}",
         "type": "bar",
         "x": [
          2018,
          2019,
          2020,
          2021
         ],
         "y": [
          -7.778003313076621,
          24.44638798941621,
          1.9713905689662248,
          13.965047019607656
         ]
        }
       ],
       "layout": {
        "autosize": true,
        "font": {
         "color": "#073b4c",
         "family": "Monospace",
         "size": 10
        },
        "plot_bgcolor": "#ecf8f8",
        "template": {
         "data": {
          "bar": [
           {
            "error_x": {
             "color": "#2a3f5f"
            },
            "error_y": {
             "color": "#2a3f5f"
            },
            "marker": {
             "line": {
              "color": "#E5ECF6",
              "width": 0.5
             },
             "pattern": {
              "fillmode": "overlay",
              "size": 10,
              "solidity": 0.2
             }
            },
            "type": "bar"
           }
          ],
          "barpolar": [
           {
            "marker": {
             "line": {
              "color": "#E5ECF6",
              "width": 0.5
             },
             "pattern": {
              "fillmode": "overlay",
              "size": 10,
              "solidity": 0.2
             }
            },
            "type": "barpolar"
           }
          ],
          "carpet": [
           {
            "aaxis": {
             "endlinecolor": "#2a3f5f",
             "gridcolor": "white",
             "linecolor": "white",
             "minorgridcolor": "white",
             "startlinecolor": "#2a3f5f"
            },
            "baxis": {
             "endlinecolor": "#2a3f5f",
             "gridcolor": "white",
             "linecolor": "white",
             "minorgridcolor": "white",
             "startlinecolor": "#2a3f5f"
            },
            "type": "carpet"
           }
          ],
          "choropleth": [
           {
            "colorbar": {
             "outlinewidth": 0,
             "ticks": ""
            },
            "type": "choropleth"
           }
          ],
          "contour": [
           {
            "colorbar": {
             "outlinewidth": 0,
             "ticks": ""
            },
            "colorscale": [
             [
              0,
              "#0d0887"
             ],
             [
              0.1111111111111111,
              "#46039f"
             ],
             [
              0.2222222222222222,
              "#7201a8"
             ],
             [
              0.3333333333333333,
              "#9c179e"
             ],
             [
              0.4444444444444444,
              "#bd3786"
             ],
             [
              0.5555555555555556,
              "#d8576b"
             ],
             [
              0.6666666666666666,
              "#ed7953"
             ],
             [
              0.7777777777777778,
              "#fb9f3a"
             ],
             [
              0.8888888888888888,
              "#fdca26"
             ],
             [
              1,
              "#f0f921"
             ]
            ],
            "type": "contour"
           }
          ],
          "contourcarpet": [
           {
            "colorbar": {
             "outlinewidth": 0,
             "ticks": ""
            },
            "type": "contourcarpet"
           }
          ],
          "heatmap": [
           {
            "colorbar": {
             "outlinewidth": 0,
             "ticks": ""
            },
            "colorscale": [
             [
              0,
              "#0d0887"
             ],
             [
              0.1111111111111111,
              "#46039f"
             ],
             [
              0.2222222222222222,
              "#7201a8"
             ],
             [
              0.3333333333333333,
              "#9c179e"
             ],
             [
              0.4444444444444444,
              "#bd3786"
             ],
             [
              0.5555555555555556,
              "#d8576b"
             ],
             [
              0.6666666666666666,
              "#ed7953"
             ],
             [
              0.7777777777777778,
              "#fb9f3a"
             ],
             [
              0.8888888888888888,
              "#fdca26"
             ],
             [
              1,
              "#f0f921"
             ]
            ],
            "type": "heatmap"
           }
          ],
          "heatmapgl": [
           {
            "colorbar": {
             "outlinewidth": 0,
             "ticks": ""
            },
            "colorscale": [
             [
              0,
              "#0d0887"
             ],
             [
              0.1111111111111111,
              "#46039f"
             ],
             [
              0.2222222222222222,
              "#7201a8"
             ],
             [
              0.3333333333333333,
              "#9c179e"
             ],
             [
              0.4444444444444444,
              "#bd3786"
             ],
             [
              0.5555555555555556,
              "#d8576b"
             ],
             [
              0.6666666666666666,
              "#ed7953"
             ],
             [
              0.7777777777777778,
              "#fb9f3a"
             ],
             [
              0.8888888888888888,
              "#fdca26"
             ],
             [
              1,
              "#f0f921"
             ]
            ],
            "type": "heatmapgl"
           }
          ],
          "histogram": [
           {
            "marker": {
             "pattern": {
              "fillmode": "overlay",
              "size": 10,
              "solidity": 0.2
             }
            },
            "type": "histogram"
           }
          ],
          "histogram2d": [
           {
            "colorbar": {
             "outlinewidth": 0,
             "ticks": ""
            },
            "colorscale": [
             [
              0,
              "#0d0887"
             ],
             [
              0.1111111111111111,
              "#46039f"
             ],
             [
              0.2222222222222222,
              "#7201a8"
             ],
             [
              0.3333333333333333,
              "#9c179e"
             ],
             [
              0.4444444444444444,
              "#bd3786"
             ],
             [
              0.5555555555555556,
              "#d8576b"
             ],
             [
              0.6666666666666666,
              "#ed7953"
             ],
             [
              0.7777777777777778,
              "#fb9f3a"
             ],
             [
              0.8888888888888888,
              "#fdca26"
             ],
             [
              1,
              "#f0f921"
             ]
            ],
            "type": "histogram2d"
           }
          ],
          "histogram2dcontour": [
           {
            "colorbar": {
             "outlinewidth": 0,
             "ticks": ""
            },
            "colorscale": [
             [
              0,
              "#0d0887"
             ],
             [
              0.1111111111111111,
              "#46039f"
             ],
             [
              0.2222222222222222,
              "#7201a8"
             ],
             [
              0.3333333333333333,
              "#9c179e"
             ],
             [
              0.4444444444444444,
              "#bd3786"
             ],
             [
              0.5555555555555556,
              "#d8576b"
             ],
             [
              0.6666666666666666,
              "#ed7953"
             ],
             [
              0.7777777777777778,
              "#fb9f3a"
             ],
             [
              0.8888888888888888,
              "#fdca26"
             ],
             [
              1,
              "#f0f921"
             ]
            ],
            "type": "histogram2dcontour"
           }
          ],
          "mesh3d": [
           {
            "colorbar": {
             "outlinewidth": 0,
             "ticks": ""
            },
            "type": "mesh3d"
           }
          ],
          "parcoords": [
           {
            "line": {
             "colorbar": {
              "outlinewidth": 0,
              "ticks": ""
             }
            },
            "type": "parcoords"
           }
          ],
          "pie": [
           {
            "automargin": true,
            "type": "pie"
           }
          ],
          "scatter": [
           {
            "marker": {
             "colorbar": {
              "outlinewidth": 0,
              "ticks": ""
             }
            },
            "type": "scatter"
           }
          ],
          "scatter3d": [
           {
            "line": {
             "colorbar": {
              "outlinewidth": 0,
              "ticks": ""
             }
            },
            "marker": {
             "colorbar": {
              "outlinewidth": 0,
              "ticks": ""
             }
            },
            "type": "scatter3d"
           }
          ],
          "scattercarpet": [
           {
            "marker": {
             "colorbar": {
              "outlinewidth": 0,
              "ticks": ""
             }
            },
            "type": "scattercarpet"
           }
          ],
          "scattergeo": [
           {
            "marker": {
             "colorbar": {
              "outlinewidth": 0,
              "ticks": ""
             }
            },
            "type": "scattergeo"
           }
          ],
          "scattergl": [
           {
            "marker": {
             "colorbar": {
              "outlinewidth": 0,
              "ticks": ""
             }
            },
            "type": "scattergl"
           }
          ],
          "scattermapbox": [
           {
            "marker": {
             "colorbar": {
              "outlinewidth": 0,
              "ticks": ""
             }
            },
            "type": "scattermapbox"
           }
          ],
          "scatterpolar": [
           {
            "marker": {
             "colorbar": {
              "outlinewidth": 0,
              "ticks": ""
             }
            },
            "type": "scatterpolar"
           }
          ],
          "scatterpolargl": [
           {
            "marker": {
             "colorbar": {
              "outlinewidth": 0,
              "ticks": ""
             }
            },
            "type": "scatterpolargl"
           }
          ],
          "scatterternary": [
           {
            "marker": {
             "colorbar": {
              "outlinewidth": 0,
              "ticks": ""
             }
            },
            "type": "scatterternary"
           }
          ],
          "surface": [
           {
            "colorbar": {
             "outlinewidth": 0,
             "ticks": ""
            },
            "colorscale": [
             [
              0,
              "#0d0887"
             ],
             [
              0.1111111111111111,
              "#46039f"
             ],
             [
              0.2222222222222222,
              "#7201a8"
             ],
             [
              0.3333333333333333,
              "#9c179e"
             ],
             [
              0.4444444444444444,
              "#bd3786"
             ],
             [
              0.5555555555555556,
              "#d8576b"
             ],
             [
              0.6666666666666666,
              "#ed7953"
             ],
             [
              0.7777777777777778,
              "#fb9f3a"
             ],
             [
              0.8888888888888888,
              "#fdca26"
             ],
             [
              1,
              "#f0f921"
             ]
            ],
            "type": "surface"
           }
          ],
          "table": [
           {
            "cells": {
             "fill": {
              "color": "#EBF0F8"
             },
             "line": {
              "color": "white"
             }
            },
            "header": {
             "fill": {
              "color": "#C8D4E3"
             },
             "line": {
              "color": "white"
             }
            },
            "type": "table"
           }
          ]
         },
         "layout": {
          "annotationdefaults": {
           "arrowcolor": "#2a3f5f",
           "arrowhead": 0,
           "arrowwidth": 1
          },
          "autotypenumbers": "strict",
          "coloraxis": {
           "colorbar": {
            "outlinewidth": 0,
            "ticks": ""
           }
          },
          "colorscale": {
           "diverging": [
            [
             0,
             "#8e0152"
            ],
            [
             0.1,
             "#c51b7d"
            ],
            [
             0.2,
             "#de77ae"
            ],
            [
             0.3,
             "#f1b6da"
            ],
            [
             0.4,
             "#fde0ef"
            ],
            [
             0.5,
             "#f7f7f7"
            ],
            [
             0.6,
             "#e6f5d0"
            ],
            [
             0.7,
             "#b8e186"
            ],
            [
             0.8,
             "#7fbc41"
            ],
            [
             0.9,
             "#4d9221"
            ],
            [
             1,
             "#276419"
            ]
           ],
           "sequential": [
            [
             0,
             "#0d0887"
            ],
            [
             0.1111111111111111,
             "#46039f"
            ],
            [
             0.2222222222222222,
             "#7201a8"
            ],
            [
             0.3333333333333333,
             "#9c179e"
            ],
            [
             0.4444444444444444,
             "#bd3786"
            ],
            [
             0.5555555555555556,
             "#d8576b"
            ],
            [
             0.6666666666666666,
             "#ed7953"
            ],
            [
             0.7777777777777778,
             "#fb9f3a"
            ],
            [
             0.8888888888888888,
             "#fdca26"
            ],
            [
             1,
             "#f0f921"
            ]
           ],
           "sequentialminus": [
            [
             0,
             "#0d0887"
            ],
            [
             0.1111111111111111,
             "#46039f"
            ],
            [
             0.2222222222222222,
             "#7201a8"
            ],
            [
             0.3333333333333333,
             "#9c179e"
            ],
            [
             0.4444444444444444,
             "#bd3786"
            ],
            [
             0.5555555555555556,
             "#d8576b"
            ],
            [
             0.6666666666666666,
             "#ed7953"
            ],
            [
             0.7777777777777778,
             "#fb9f3a"
            ],
            [
             0.8888888888888888,
             "#fdca26"
            ],
            [
             1,
             "#f0f921"
            ]
           ]
          },
          "colorway": [
           "#636efa",
           "#EF553B",
           "#00cc96",
           "#ab63fa",
           "#FFA15A",
           "#19d3f3",
           "#FF6692",
           "#B6E880",
           "#FF97FF",
           "#FECB52"
          ],
          "font": {
           "color": "#2a3f5f"
          },
          "geo": {
           "bgcolor": "white",
           "lakecolor": "white",
           "landcolor": "#E5ECF6",
           "showlakes": true,
           "showland": true,
           "subunitcolor": "white"
          },
          "hoverlabel": {
           "align": "left"
          },
          "hovermode": "closest",
          "mapbox": {
           "style": "light"
          },
          "paper_bgcolor": "white",
          "plot_bgcolor": "#E5ECF6",
          "polar": {
           "angularaxis": {
            "gridcolor": "white",
            "linecolor": "white",
            "ticks": ""
           },
           "bgcolor": "#E5ECF6",
           "radialaxis": {
            "gridcolor": "white",
            "linecolor": "white",
            "ticks": ""
           }
          },
          "scene": {
           "xaxis": {
            "backgroundcolor": "#E5ECF6",
            "gridcolor": "white",
            "gridwidth": 2,
            "linecolor": "white",
            "showbackground": true,
            "ticks": "",
            "zerolinecolor": "white"
           },
           "yaxis": {
            "backgroundcolor": "#E5ECF6",
            "gridcolor": "white",
            "gridwidth": 2,
            "linecolor": "white",
            "showbackground": true,
            "ticks": "",
            "zerolinecolor": "white"
           },
           "zaxis": {
            "backgroundcolor": "#E5ECF6",
            "gridcolor": "white",
            "gridwidth": 2,
            "linecolor": "white",
            "showbackground": true,
            "ticks": "",
            "zerolinecolor": "white"
           }
          },
          "shapedefaults": {
           "line": {
            "color": "#2a3f5f"
           }
          },
          "ternary": {
           "aaxis": {
            "gridcolor": "white",
            "linecolor": "white",
            "ticks": ""
           },
           "baxis": {
            "gridcolor": "white",
            "linecolor": "white",
            "ticks": ""
           },
           "bgcolor": "#E5ECF6",
           "caxis": {
            "gridcolor": "white",
            "linecolor": "white",
            "ticks": ""
           }
          },
          "title": {
           "x": 0.05
          },
          "xaxis": {
           "automargin": true,
           "gridcolor": "white",
           "linecolor": "white",
           "ticks": "",
           "title": {
            "standoff": 15
           },
           "zerolinecolor": "white",
           "zerolinewidth": 2
          },
          "yaxis": {
           "automargin": true,
           "gridcolor": "white",
           "linecolor": "white",
           "ticks": "",
           "title": {
            "standoff": 15
           },
           "zerolinecolor": "white",
           "zerolinewidth": 2
          }
         }
        },
        "title": {
         "text": "Yearly asset return comparison with ETF (%)"
        },
        "xaxis": {
         "rangeslider": {
          "visible": false
         }
        }
       }
      },
      "text/html": [
       "<div>                            <div id=\"2790c180-1359-44a3-b2f7-35ff4bbbe407\" class=\"plotly-graph-div\" style=\"height:525px; width:100%;\"></div>            <script type=\"text/javascript\">                require([\"plotly\"], function(Plotly) {                    window.PLOTLYENV=window.PLOTLYENV || {};                                    if (document.getElementById(\"2790c180-1359-44a3-b2f7-35ff4bbbe407\")) {                    Plotly.newPlot(                        \"2790c180-1359-44a3-b2f7-35ff4bbbe407\",                        [{\"marker\":{\"color\":[\"#ef476f\",\"#06d6a0\",\"#ef476f\",\"#ef476f\"]},\"name\":\"DRL\",\"text\":[-3.53333284625712,2.536957652364058,-19.088974506608423,-0.899240511953836],\"textposition\":\"outside\",\"texttemplate\":\"%{text:.2f}\",\"x\":[2018,2019,2020,2021],\"y\":[-3.53333284625712,2.536957652364058,-19.088974506608423,-0.899240511953836],\"type\":\"bar\"},{\"marker\":{\"color\":[\"#e63946\",\"#0a9396\",\"#0a9396\",\"#0a9396\"]},\"name\":\"ETF\",\"text\":[-7.778003313076621,24.44638798941621,1.9713905689662248,13.965047019607656],\"textposition\":\"outside\",\"texttemplate\":\"%{text:.2f}\",\"x\":[2018,2019,2020,2021],\"y\":[-7.778003313076621,24.44638798941621,1.9713905689662248,13.965047019607656],\"type\":\"bar\"}],                        {\"template\":{\"data\":{\"bar\":[{\"error_x\":{\"color\":\"#2a3f5f\"},\"error_y\":{\"color\":\"#2a3f5f\"},\"marker\":{\"line\":{\"color\":\"#E5ECF6\",\"width\":0.5},\"pattern\":{\"fillmode\":\"overlay\",\"size\":10,\"solidity\":0.2}},\"type\":\"bar\"}],\"barpolar\":[{\"marker\":{\"line\":{\"color\":\"#E5ECF6\",\"width\":0.5},\"pattern\":{\"fillmode\":\"overlay\",\"size\":10,\"solidity\":0.2}},\"type\":\"barpolar\"}],\"carpet\":[{\"aaxis\":{\"endlinecolor\":\"#2a3f5f\",\"gridcolor\":\"white\",\"linecolor\":\"white\",\"minorgridcolor\":\"white\",\"startlinecolor\":\"#2a3f5f\"},\"baxis\":{\"endlinecolor\":\"#2a3f5f\",\"gridcolor\":\"white\",\"linecolor\":\"white\",\"minorgridcolor\":\"white\",\"startlinecolor\":\"#2a3f5f\"},\"type\":\"carpet\"}],\"choropleth\":[{\"colorbar\":{\"outlinewidth\":0,\"ticks\":\"\"},\"type\":\"choropleth\"}],\"contour\":[{\"colorbar\":{\"outlinewidth\":0,\"ticks\":\"\"},\"colorscale\":[[0.0,\"#0d0887\"],[0.1111111111111111,\"#46039f\"],[0.2222222222222222,\"#7201a8\"],[0.3333333333333333,\"#9c179e\"],[0.4444444444444444,\"#bd3786\"],[0.5555555555555556,\"#d8576b\"],[0.6666666666666666,\"#ed7953\"],[0.7777777777777778,\"#fb9f3a\"],[0.8888888888888888,\"#fdca26\"],[1.0,\"#f0f921\"]],\"type\":\"contour\"}],\"contourcarpet\":[{\"colorbar\":{\"outlinewidth\":0,\"ticks\":\"\"},\"type\":\"contourcarpet\"}],\"heatmap\":[{\"colorbar\":{\"outlinewidth\":0,\"ticks\":\"\"},\"colorscale\":[[0.0,\"#0d0887\"],[0.1111111111111111,\"#46039f\"],[0.2222222222222222,\"#7201a8\"],[0.3333333333333333,\"#9c179e\"],[0.4444444444444444,\"#bd3786\"],[0.5555555555555556,\"#d8576b\"],[0.6666666666666666,\"#ed7953\"],[0.7777777777777778,\"#fb9f3a\"],[0.8888888888888888,\"#fdca26\"],[1.0,\"#f0f921\"]],\"type\":\"heatmap\"}],\"heatmapgl\":[{\"colorbar\":{\"outlinewidth\":0,\"ticks\":\"\"},\"colorscale\":[[0.0,\"#0d0887\"],[0.1111111111111111,\"#46039f\"],[0.2222222222222222,\"#7201a8\"],[0.3333333333333333,\"#9c179e\"],[0.4444444444444444,\"#bd3786\"],[0.5555555555555556,\"#d8576b\"],[0.6666666666666666,\"#ed7953\"],[0.7777777777777778,\"#fb9f3a\"],[0.8888888888888888,\"#fdca26\"],[1.0,\"#f0f921\"]],\"type\":\"heatmapgl\"}],\"histogram\":[{\"marker\":{\"pattern\":{\"fillmode\":\"overlay\",\"size\":10,\"solidity\":0.2}},\"type\":\"histogram\"}],\"histogram2d\":[{\"colorbar\":{\"outlinewidth\":0,\"ticks\":\"\"},\"colorscale\":[[0.0,\"#0d0887\"],[0.1111111111111111,\"#46039f\"],[0.2222222222222222,\"#7201a8\"],[0.3333333333333333,\"#9c179e\"],[0.4444444444444444,\"#bd3786\"],[0.5555555555555556,\"#d8576b\"],[0.6666666666666666,\"#ed7953\"],[0.7777777777777778,\"#fb9f3a\"],[0.8888888888888888,\"#fdca26\"],[1.0,\"#f0f921\"]],\"type\":\"histogram2d\"}],\"histogram2dcontour\":[{\"colorbar\":{\"outlinewidth\":0,\"ticks\":\"\"},\"colorscale\":[[0.0,\"#0d0887\"],[0.1111111111111111,\"#46039f\"],[0.2222222222222222,\"#7201a8\"],[0.3333333333333333,\"#9c179e\"],[0.4444444444444444,\"#bd3786\"],[0.5555555555555556,\"#d8576b\"],[0.6666666666666666,\"#ed7953\"],[0.7777777777777778,\"#fb9f3a\"],[0.8888888888888888,\"#fdca26\"],[1.0,\"#f0f921\"]],\"type\":\"histogram2dcontour\"}],\"mesh3d\":[{\"colorbar\":{\"outlinewidth\":0,\"ticks\":\"\"},\"type\":\"mesh3d\"}],\"parcoords\":[{\"line\":{\"colorbar\":{\"outlinewidth\":0,\"ticks\":\"\"}},\"type\":\"parcoords\"}],\"pie\":[{\"automargin\":true,\"type\":\"pie\"}],\"scatter\":[{\"marker\":{\"colorbar\":{\"outlinewidth\":0,\"ticks\":\"\"}},\"type\":\"scatter\"}],\"scatter3d\":[{\"line\":{\"colorbar\":{\"outlinewidth\":0,\"ticks\":\"\"}},\"marker\":{\"colorbar\":{\"outlinewidth\":0,\"ticks\":\"\"}},\"type\":\"scatter3d\"}],\"scattercarpet\":[{\"marker\":{\"colorbar\":{\"outlinewidth\":0,\"ticks\":\"\"}},\"type\":\"scattercarpet\"}],\"scattergeo\":[{\"marker\":{\"colorbar\":{\"outlinewidth\":0,\"ticks\":\"\"}},\"type\":\"scattergeo\"}],\"scattergl\":[{\"marker\":{\"colorbar\":{\"outlinewidth\":0,\"ticks\":\"\"}},\"type\":\"scattergl\"}],\"scattermapbox\":[{\"marker\":{\"colorbar\":{\"outlinewidth\":0,\"ticks\":\"\"}},\"type\":\"scattermapbox\"}],\"scatterpolar\":[{\"marker\":{\"colorbar\":{\"outlinewidth\":0,\"ticks\":\"\"}},\"type\":\"scatterpolar\"}],\"scatterpolargl\":[{\"marker\":{\"colorbar\":{\"outlinewidth\":0,\"ticks\":\"\"}},\"type\":\"scatterpolargl\"}],\"scatterternary\":[{\"marker\":{\"colorbar\":{\"outlinewidth\":0,\"ticks\":\"\"}},\"type\":\"scatterternary\"}],\"surface\":[{\"colorbar\":{\"outlinewidth\":0,\"ticks\":\"\"},\"colorscale\":[[0.0,\"#0d0887\"],[0.1111111111111111,\"#46039f\"],[0.2222222222222222,\"#7201a8\"],[0.3333333333333333,\"#9c179e\"],[0.4444444444444444,\"#bd3786\"],[0.5555555555555556,\"#d8576b\"],[0.6666666666666666,\"#ed7953\"],[0.7777777777777778,\"#fb9f3a\"],[0.8888888888888888,\"#fdca26\"],[1.0,\"#f0f921\"]],\"type\":\"surface\"}],\"table\":[{\"cells\":{\"fill\":{\"color\":\"#EBF0F8\"},\"line\":{\"color\":\"white\"}},\"header\":{\"fill\":{\"color\":\"#C8D4E3\"},\"line\":{\"color\":\"white\"}},\"type\":\"table\"}]},\"layout\":{\"annotationdefaults\":{\"arrowcolor\":\"#2a3f5f\",\"arrowhead\":0,\"arrowwidth\":1},\"autotypenumbers\":\"strict\",\"coloraxis\":{\"colorbar\":{\"outlinewidth\":0,\"ticks\":\"\"}},\"colorscale\":{\"diverging\":[[0,\"#8e0152\"],[0.1,\"#c51b7d\"],[0.2,\"#de77ae\"],[0.3,\"#f1b6da\"],[0.4,\"#fde0ef\"],[0.5,\"#f7f7f7\"],[0.6,\"#e6f5d0\"],[0.7,\"#b8e186\"],[0.8,\"#7fbc41\"],[0.9,\"#4d9221\"],[1,\"#276419\"]],\"sequential\":[[0.0,\"#0d0887\"],[0.1111111111111111,\"#46039f\"],[0.2222222222222222,\"#7201a8\"],[0.3333333333333333,\"#9c179e\"],[0.4444444444444444,\"#bd3786\"],[0.5555555555555556,\"#d8576b\"],[0.6666666666666666,\"#ed7953\"],[0.7777777777777778,\"#fb9f3a\"],[0.8888888888888888,\"#fdca26\"],[1.0,\"#f0f921\"]],\"sequentialminus\":[[0.0,\"#0d0887\"],[0.1111111111111111,\"#46039f\"],[0.2222222222222222,\"#7201a8\"],[0.3333333333333333,\"#9c179e\"],[0.4444444444444444,\"#bd3786\"],[0.5555555555555556,\"#d8576b\"],[0.6666666666666666,\"#ed7953\"],[0.7777777777777778,\"#fb9f3a\"],[0.8888888888888888,\"#fdca26\"],[1.0,\"#f0f921\"]]},\"colorway\":[\"#636efa\",\"#EF553B\",\"#00cc96\",\"#ab63fa\",\"#FFA15A\",\"#19d3f3\",\"#FF6692\",\"#B6E880\",\"#FF97FF\",\"#FECB52\"],\"font\":{\"color\":\"#2a3f5f\"},\"geo\":{\"bgcolor\":\"white\",\"lakecolor\":\"white\",\"landcolor\":\"#E5ECF6\",\"showlakes\":true,\"showland\":true,\"subunitcolor\":\"white\"},\"hoverlabel\":{\"align\":\"left\"},\"hovermode\":\"closest\",\"mapbox\":{\"style\":\"light\"},\"paper_bgcolor\":\"white\",\"plot_bgcolor\":\"#E5ECF6\",\"polar\":{\"angularaxis\":{\"gridcolor\":\"white\",\"linecolor\":\"white\",\"ticks\":\"\"},\"bgcolor\":\"#E5ECF6\",\"radialaxis\":{\"gridcolor\":\"white\",\"linecolor\":\"white\",\"ticks\":\"\"}},\"scene\":{\"xaxis\":{\"backgroundcolor\":\"#E5ECF6\",\"gridcolor\":\"white\",\"gridwidth\":2,\"linecolor\":\"white\",\"showbackground\":true,\"ticks\":\"\",\"zerolinecolor\":\"white\"},\"yaxis\":{\"backgroundcolor\":\"#E5ECF6\",\"gridcolor\":\"white\",\"gridwidth\":2,\"linecolor\":\"white\",\"showbackground\":true,\"ticks\":\"\",\"zerolinecolor\":\"white\"},\"zaxis\":{\"backgroundcolor\":\"#E5ECF6\",\"gridcolor\":\"white\",\"gridwidth\":2,\"linecolor\":\"white\",\"showbackground\":true,\"ticks\":\"\",\"zerolinecolor\":\"white\"}},\"shapedefaults\":{\"line\":{\"color\":\"#2a3f5f\"}},\"ternary\":{\"aaxis\":{\"gridcolor\":\"white\",\"linecolor\":\"white\",\"ticks\":\"\"},\"baxis\":{\"gridcolor\":\"white\",\"linecolor\":\"white\",\"ticks\":\"\"},\"bgcolor\":\"#E5ECF6\",\"caxis\":{\"gridcolor\":\"white\",\"linecolor\":\"white\",\"ticks\":\"\"}},\"title\":{\"x\":0.05},\"xaxis\":{\"automargin\":true,\"gridcolor\":\"white\",\"linecolor\":\"white\",\"ticks\":\"\",\"title\":{\"standoff\":15},\"zerolinecolor\":\"white\",\"zerolinewidth\":2},\"yaxis\":{\"automargin\":true,\"gridcolor\":\"white\",\"linecolor\":\"white\",\"ticks\":\"\",\"title\":{\"standoff\":15},\"zerolinecolor\":\"white\",\"zerolinewidth\":2}}},\"title\":{\"text\":\"Yearly asset return comparison with ETF (%)\"},\"xaxis\":{\"rangeslider\":{\"visible\":false}},\"font\":{\"family\":\"Monospace\",\"color\":\"#073b4c\",\"size\":10},\"autosize\":true,\"plot_bgcolor\":\"#ecf8f8\"},                        {\"responsive\": true}                    ).then(function(){\n",
       "                            \n",
       "var gd = document.getElementById('2790c180-1359-44a3-b2f7-35ff4bbbe407');\n",
       "var x = new MutationObserver(function (mutations, observer) {{\n",
       "        var display = window.getComputedStyle(gd).display;\n",
       "        if (!display || display === 'none') {{\n",
       "            console.log([gd, 'removed!']);\n",
       "            Plotly.purge(gd);\n",
       "            observer.disconnect();\n",
       "        }}\n",
       "}});\n",
       "\n",
       "// Listen for the removal of the full notebook cells\n",
       "var notebookContainer = gd.closest('#notebook-container');\n",
       "if (notebookContainer) {{\n",
       "    x.observe(notebookContainer, {childList: true});\n",
       "}}\n",
       "\n",
       "// Listen for the clearing of the current output cell\n",
       "var outputEl = gd.closest('.output');\n",
       "if (outputEl) {{\n",
       "    x.observe(outputEl, {childList: true});\n",
       "}}\n",
       "\n",
       "                        })                };                });            </script>        </div>"
      ]
     },
     "metadata": {},
     "output_type": "display_data"
    }
   ],
   "source": [
    "# define histogram colors\n",
    "colors_macd = np.where(yearly_return_drl.values > 0, '#06d6a0', '#ef476f')\n",
    "colors_etf = np.where(yearly_return_etf.values > 0, '#0a9396', '#e63946')\n",
    "\n",
    "# add histogram on the lower subplot\n",
    "fig = go.Figure()\n",
    "fig.add_trace(\n",
    "    go.Bar(\n",
    "        x=yearly_return_drl.index,\n",
    "        y=yearly_return_drl.values * 100,\n",
    "        name=\"DRL\",\n",
    "        marker_color=colors_macd,\n",
    "        text=yearly_return_drl.values * 100,\n",
    "        texttemplate='%{text:.2f}',\n",
    "        textposition='outside'\n",
    "\n",
    "    ),\n",
    ")\n",
    "fig.add_trace(\n",
    "    go.Bar(\n",
    "        x=yearly_return_etf.index,\n",
    "        y=yearly_return_etf.values * 100,\n",
    "        name='ETF',\n",
    "        marker_color=colors_etf,\n",
    "        text=yearly_return_etf.values * 100,\n",
    "        texttemplate='%{text:.2f}',\n",
    "        textposition='outside'\n",
    "\n",
    "    ),\n",
    ")\n",
    "\n",
    "# make the figure prettier\n",
    "layout = go.Layout(\n",
    "    title=\"Yearly asset return comparison with ETF (%)\",\n",
    "    plot_bgcolor='#ecf8f8',\n",
    "    font_family='Monospace',\n",
    "    font_color='#073b4c',\n",
    "    font_size=10,\n",
    "    xaxis=dict(\n",
    "        rangeslider=dict(visible=False)\n",
    "    ),\n",
    "    autosize=True,\n",
    ")\n",
    "\n",
    "fig.update_layout(layout)\n",
    "fig.show()"
   ]
  },
  {
   "cell_type": "code",
   "execution_count": null,
   "id": "234c46b9",
   "metadata": {},
   "outputs": [],
   "source": []
  },
  {
   "cell_type": "code",
   "execution_count": null,
   "id": "ec4cb7b4",
   "metadata": {},
   "outputs": [],
   "source": []
  },
  {
   "cell_type": "code",
   "execution_count": null,
   "id": "650587ac",
   "metadata": {},
   "outputs": [],
   "source": []
  },
  {
   "cell_type": "code",
   "execution_count": null,
   "id": "dad75bde",
   "metadata": {},
   "outputs": [],
   "source": []
  },
  {
   "cell_type": "code",
   "execution_count": null,
   "id": "df1a350e",
   "metadata": {},
   "outputs": [],
   "source": []
  },
  {
   "cell_type": "code",
   "execution_count": null,
   "id": "95246dc1",
   "metadata": {},
   "outputs": [],
   "source": []
  },
  {
   "cell_type": "code",
   "execution_count": 36,
   "id": "156ec125",
   "metadata": {},
   "outputs": [],
   "source": [
    "import datetime\n",
    "import dateutil.relativedelta\n",
    "\n",
    "end_period = datetime.datetime.strptime('2021-10-31', \"%Y-%m-%d\")"
   ]
  },
  {
   "cell_type": "code",
   "execution_count": 37,
   "id": "6d6b3d0f",
   "metadata": {},
   "outputs": [],
   "source": [
    "end_close_etf = df_etf[df_etf.index <= end_period].iloc[-1].Close"
   ]
  },
  {
   "cell_type": "code",
   "execution_count": 38,
   "id": "5c4e39fe",
   "metadata": {},
   "outputs": [],
   "source": [
    "periods = [1, 3, 6, 1*12, 3*12]\n",
    "period_return_etf = []\n",
    "for i in periods:\n",
    "    period_return_etf.append(end_close_etf/df_etf[df_etf.index > end_period - dateutil.relativedelta.relativedelta(months=i)].iloc[0].Close-1)"
   ]
  },
  {
   "cell_type": "code",
   "execution_count": 39,
   "id": "ad059f3a",
   "metadata": {},
   "outputs": [],
   "source": [
    "end_close_drl = df_sum[df_sum.index <= end_period].iloc[-1].asset"
   ]
  },
  {
   "cell_type": "code",
   "execution_count": 43,
   "id": "c8823388",
   "metadata": {},
   "outputs": [],
   "source": [
    "periods = [1, 3, 6, 1*12, 3*12]\n",
    "period_return_drl = []\n",
    "for i in periods:\n",
    "    period_return_drl.append(end_close_drl/df_sum[df_sum.index > end_period - dateutil.relativedelta.relativedelta(months=i)].iloc[0].asset-1)"
   ]
  },
  {
   "cell_type": "code",
   "execution_count": 48,
   "id": "a7cdbb03",
   "metadata": {},
   "outputs": [
    {
     "data": {
      "application/vnd.plotly.v1+json": {
       "config": {
        "plotlyServerURL": "https://plot.ly"
       },
       "data": [
        {
         "marker": {
          "color": [
           "#06d6a0",
           "#ef476f",
           "#ef476f",
           "#06d6a0",
           "#ef476f"
          ]
         },
         "name": "DRL",
         "text": [
          0.8447484129896043,
          -0.3140061851004461,
          -0.03384193431577032,
          10.214220798507846,
          -19.413924383276303
         ],
         "textposition": "outside",
         "texttemplate": "%{text:.2f}",
         "type": "bar",
         "x": [
          "1M",
          "3M",
          "6M",
          "1Y",
          "3Y"
         ],
         "y": [
          0.8447484129896043,
          -0.3140061851004461,
          -0.03384193431577032,
          10.214220798507846,
          -19.413924383276303
         ]
        },
        {
         "marker": {
          "color": [
           "#0a9396",
           "#0a9396",
           "#0a9396",
           "#0a9396",
           "#0a9396"
          ]
         },
         "name": "ETF",
         "text": [
          3.3887769984850324,
          0.742207691728991,
          2.5913932712107846,
          32.38455396934652,
          34.71744698231323
         ],
         "textposition": "outside",
         "texttemplate": "%{text:.2f}",
         "type": "bar",
         "x": [
          "1M",
          "3M",
          "6M",
          "1Y",
          "3Y"
         ],
         "y": [
          3.3887769984850324,
          0.742207691728991,
          2.5913932712107846,
          32.38455396934652,
          34.71744698231323
         ]
        }
       ],
       "layout": {
        "autosize": true,
        "font": {
         "color": "#073b4c",
         "family": "Monospace",
         "size": 10
        },
        "plot_bgcolor": "#ecf8f8",
        "template": {
         "data": {
          "bar": [
           {
            "error_x": {
             "color": "#2a3f5f"
            },
            "error_y": {
             "color": "#2a3f5f"
            },
            "marker": {
             "line": {
              "color": "#E5ECF6",
              "width": 0.5
             },
             "pattern": {
              "fillmode": "overlay",
              "size": 10,
              "solidity": 0.2
             }
            },
            "type": "bar"
           }
          ],
          "barpolar": [
           {
            "marker": {
             "line": {
              "color": "#E5ECF6",
              "width": 0.5
             },
             "pattern": {
              "fillmode": "overlay",
              "size": 10,
              "solidity": 0.2
             }
            },
            "type": "barpolar"
           }
          ],
          "carpet": [
           {
            "aaxis": {
             "endlinecolor": "#2a3f5f",
             "gridcolor": "white",
             "linecolor": "white",
             "minorgridcolor": "white",
             "startlinecolor": "#2a3f5f"
            },
            "baxis": {
             "endlinecolor": "#2a3f5f",
             "gridcolor": "white",
             "linecolor": "white",
             "minorgridcolor": "white",
             "startlinecolor": "#2a3f5f"
            },
            "type": "carpet"
           }
          ],
          "choropleth": [
           {
            "colorbar": {
             "outlinewidth": 0,
             "ticks": ""
            },
            "type": "choropleth"
           }
          ],
          "contour": [
           {
            "colorbar": {
             "outlinewidth": 0,
             "ticks": ""
            },
            "colorscale": [
             [
              0,
              "#0d0887"
             ],
             [
              0.1111111111111111,
              "#46039f"
             ],
             [
              0.2222222222222222,
              "#7201a8"
             ],
             [
              0.3333333333333333,
              "#9c179e"
             ],
             [
              0.4444444444444444,
              "#bd3786"
             ],
             [
              0.5555555555555556,
              "#d8576b"
             ],
             [
              0.6666666666666666,
              "#ed7953"
             ],
             [
              0.7777777777777778,
              "#fb9f3a"
             ],
             [
              0.8888888888888888,
              "#fdca26"
             ],
             [
              1,
              "#f0f921"
             ]
            ],
            "type": "contour"
           }
          ],
          "contourcarpet": [
           {
            "colorbar": {
             "outlinewidth": 0,
             "ticks": ""
            },
            "type": "contourcarpet"
           }
          ],
          "heatmap": [
           {
            "colorbar": {
             "outlinewidth": 0,
             "ticks": ""
            },
            "colorscale": [
             [
              0,
              "#0d0887"
             ],
             [
              0.1111111111111111,
              "#46039f"
             ],
             [
              0.2222222222222222,
              "#7201a8"
             ],
             [
              0.3333333333333333,
              "#9c179e"
             ],
             [
              0.4444444444444444,
              "#bd3786"
             ],
             [
              0.5555555555555556,
              "#d8576b"
             ],
             [
              0.6666666666666666,
              "#ed7953"
             ],
             [
              0.7777777777777778,
              "#fb9f3a"
             ],
             [
              0.8888888888888888,
              "#fdca26"
             ],
             [
              1,
              "#f0f921"
             ]
            ],
            "type": "heatmap"
           }
          ],
          "heatmapgl": [
           {
            "colorbar": {
             "outlinewidth": 0,
             "ticks": ""
            },
            "colorscale": [
             [
              0,
              "#0d0887"
             ],
             [
              0.1111111111111111,
              "#46039f"
             ],
             [
              0.2222222222222222,
              "#7201a8"
             ],
             [
              0.3333333333333333,
              "#9c179e"
             ],
             [
              0.4444444444444444,
              "#bd3786"
             ],
             [
              0.5555555555555556,
              "#d8576b"
             ],
             [
              0.6666666666666666,
              "#ed7953"
             ],
             [
              0.7777777777777778,
              "#fb9f3a"
             ],
             [
              0.8888888888888888,
              "#fdca26"
             ],
             [
              1,
              "#f0f921"
             ]
            ],
            "type": "heatmapgl"
           }
          ],
          "histogram": [
           {
            "marker": {
             "pattern": {
              "fillmode": "overlay",
              "size": 10,
              "solidity": 0.2
             }
            },
            "type": "histogram"
           }
          ],
          "histogram2d": [
           {
            "colorbar": {
             "outlinewidth": 0,
             "ticks": ""
            },
            "colorscale": [
             [
              0,
              "#0d0887"
             ],
             [
              0.1111111111111111,
              "#46039f"
             ],
             [
              0.2222222222222222,
              "#7201a8"
             ],
             [
              0.3333333333333333,
              "#9c179e"
             ],
             [
              0.4444444444444444,
              "#bd3786"
             ],
             [
              0.5555555555555556,
              "#d8576b"
             ],
             [
              0.6666666666666666,
              "#ed7953"
             ],
             [
              0.7777777777777778,
              "#fb9f3a"
             ],
             [
              0.8888888888888888,
              "#fdca26"
             ],
             [
              1,
              "#f0f921"
             ]
            ],
            "type": "histogram2d"
           }
          ],
          "histogram2dcontour": [
           {
            "colorbar": {
             "outlinewidth": 0,
             "ticks": ""
            },
            "colorscale": [
             [
              0,
              "#0d0887"
             ],
             [
              0.1111111111111111,
              "#46039f"
             ],
             [
              0.2222222222222222,
              "#7201a8"
             ],
             [
              0.3333333333333333,
              "#9c179e"
             ],
             [
              0.4444444444444444,
              "#bd3786"
             ],
             [
              0.5555555555555556,
              "#d8576b"
             ],
             [
              0.6666666666666666,
              "#ed7953"
             ],
             [
              0.7777777777777778,
              "#fb9f3a"
             ],
             [
              0.8888888888888888,
              "#fdca26"
             ],
             [
              1,
              "#f0f921"
             ]
            ],
            "type": "histogram2dcontour"
           }
          ],
          "mesh3d": [
           {
            "colorbar": {
             "outlinewidth": 0,
             "ticks": ""
            },
            "type": "mesh3d"
           }
          ],
          "parcoords": [
           {
            "line": {
             "colorbar": {
              "outlinewidth": 0,
              "ticks": ""
             }
            },
            "type": "parcoords"
           }
          ],
          "pie": [
           {
            "automargin": true,
            "type": "pie"
           }
          ],
          "scatter": [
           {
            "marker": {
             "colorbar": {
              "outlinewidth": 0,
              "ticks": ""
             }
            },
            "type": "scatter"
           }
          ],
          "scatter3d": [
           {
            "line": {
             "colorbar": {
              "outlinewidth": 0,
              "ticks": ""
             }
            },
            "marker": {
             "colorbar": {
              "outlinewidth": 0,
              "ticks": ""
             }
            },
            "type": "scatter3d"
           }
          ],
          "scattercarpet": [
           {
            "marker": {
             "colorbar": {
              "outlinewidth": 0,
              "ticks": ""
             }
            },
            "type": "scattercarpet"
           }
          ],
          "scattergeo": [
           {
            "marker": {
             "colorbar": {
              "outlinewidth": 0,
              "ticks": ""
             }
            },
            "type": "scattergeo"
           }
          ],
          "scattergl": [
           {
            "marker": {
             "colorbar": {
              "outlinewidth": 0,
              "ticks": ""
             }
            },
            "type": "scattergl"
           }
          ],
          "scattermapbox": [
           {
            "marker": {
             "colorbar": {
              "outlinewidth": 0,
              "ticks": ""
             }
            },
            "type": "scattermapbox"
           }
          ],
          "scatterpolar": [
           {
            "marker": {
             "colorbar": {
              "outlinewidth": 0,
              "ticks": ""
             }
            },
            "type": "scatterpolar"
           }
          ],
          "scatterpolargl": [
           {
            "marker": {
             "colorbar": {
              "outlinewidth": 0,
              "ticks": ""
             }
            },
            "type": "scatterpolargl"
           }
          ],
          "scatterternary": [
           {
            "marker": {
             "colorbar": {
              "outlinewidth": 0,
              "ticks": ""
             }
            },
            "type": "scatterternary"
           }
          ],
          "surface": [
           {
            "colorbar": {
             "outlinewidth": 0,
             "ticks": ""
            },
            "colorscale": [
             [
              0,
              "#0d0887"
             ],
             [
              0.1111111111111111,
              "#46039f"
             ],
             [
              0.2222222222222222,
              "#7201a8"
             ],
             [
              0.3333333333333333,
              "#9c179e"
             ],
             [
              0.4444444444444444,
              "#bd3786"
             ],
             [
              0.5555555555555556,
              "#d8576b"
             ],
             [
              0.6666666666666666,
              "#ed7953"
             ],
             [
              0.7777777777777778,
              "#fb9f3a"
             ],
             [
              0.8888888888888888,
              "#fdca26"
             ],
             [
              1,
              "#f0f921"
             ]
            ],
            "type": "surface"
           }
          ],
          "table": [
           {
            "cells": {
             "fill": {
              "color": "#EBF0F8"
             },
             "line": {
              "color": "white"
             }
            },
            "header": {
             "fill": {
              "color": "#C8D4E3"
             },
             "line": {
              "color": "white"
             }
            },
            "type": "table"
           }
          ]
         },
         "layout": {
          "annotationdefaults": {
           "arrowcolor": "#2a3f5f",
           "arrowhead": 0,
           "arrowwidth": 1
          },
          "autotypenumbers": "strict",
          "coloraxis": {
           "colorbar": {
            "outlinewidth": 0,
            "ticks": ""
           }
          },
          "colorscale": {
           "diverging": [
            [
             0,
             "#8e0152"
            ],
            [
             0.1,
             "#c51b7d"
            ],
            [
             0.2,
             "#de77ae"
            ],
            [
             0.3,
             "#f1b6da"
            ],
            [
             0.4,
             "#fde0ef"
            ],
            [
             0.5,
             "#f7f7f7"
            ],
            [
             0.6,
             "#e6f5d0"
            ],
            [
             0.7,
             "#b8e186"
            ],
            [
             0.8,
             "#7fbc41"
            ],
            [
             0.9,
             "#4d9221"
            ],
            [
             1,
             "#276419"
            ]
           ],
           "sequential": [
            [
             0,
             "#0d0887"
            ],
            [
             0.1111111111111111,
             "#46039f"
            ],
            [
             0.2222222222222222,
             "#7201a8"
            ],
            [
             0.3333333333333333,
             "#9c179e"
            ],
            [
             0.4444444444444444,
             "#bd3786"
            ],
            [
             0.5555555555555556,
             "#d8576b"
            ],
            [
             0.6666666666666666,
             "#ed7953"
            ],
            [
             0.7777777777777778,
             "#fb9f3a"
            ],
            [
             0.8888888888888888,
             "#fdca26"
            ],
            [
             1,
             "#f0f921"
            ]
           ],
           "sequentialminus": [
            [
             0,
             "#0d0887"
            ],
            [
             0.1111111111111111,
             "#46039f"
            ],
            [
             0.2222222222222222,
             "#7201a8"
            ],
            [
             0.3333333333333333,
             "#9c179e"
            ],
            [
             0.4444444444444444,
             "#bd3786"
            ],
            [
             0.5555555555555556,
             "#d8576b"
            ],
            [
             0.6666666666666666,
             "#ed7953"
            ],
            [
             0.7777777777777778,
             "#fb9f3a"
            ],
            [
             0.8888888888888888,
             "#fdca26"
            ],
            [
             1,
             "#f0f921"
            ]
           ]
          },
          "colorway": [
           "#636efa",
           "#EF553B",
           "#00cc96",
           "#ab63fa",
           "#FFA15A",
           "#19d3f3",
           "#FF6692",
           "#B6E880",
           "#FF97FF",
           "#FECB52"
          ],
          "font": {
           "color": "#2a3f5f"
          },
          "geo": {
           "bgcolor": "white",
           "lakecolor": "white",
           "landcolor": "#E5ECF6",
           "showlakes": true,
           "showland": true,
           "subunitcolor": "white"
          },
          "hoverlabel": {
           "align": "left"
          },
          "hovermode": "closest",
          "mapbox": {
           "style": "light"
          },
          "paper_bgcolor": "white",
          "plot_bgcolor": "#E5ECF6",
          "polar": {
           "angularaxis": {
            "gridcolor": "white",
            "linecolor": "white",
            "ticks": ""
           },
           "bgcolor": "#E5ECF6",
           "radialaxis": {
            "gridcolor": "white",
            "linecolor": "white",
            "ticks": ""
           }
          },
          "scene": {
           "xaxis": {
            "backgroundcolor": "#E5ECF6",
            "gridcolor": "white",
            "gridwidth": 2,
            "linecolor": "white",
            "showbackground": true,
            "ticks": "",
            "zerolinecolor": "white"
           },
           "yaxis": {
            "backgroundcolor": "#E5ECF6",
            "gridcolor": "white",
            "gridwidth": 2,
            "linecolor": "white",
            "showbackground": true,
            "ticks": "",
            "zerolinecolor": "white"
           },
           "zaxis": {
            "backgroundcolor": "#E5ECF6",
            "gridcolor": "white",
            "gridwidth": 2,
            "linecolor": "white",
            "showbackground": true,
            "ticks": "",
            "zerolinecolor": "white"
           }
          },
          "shapedefaults": {
           "line": {
            "color": "#2a3f5f"
           }
          },
          "ternary": {
           "aaxis": {
            "gridcolor": "white",
            "linecolor": "white",
            "ticks": ""
           },
           "baxis": {
            "gridcolor": "white",
            "linecolor": "white",
            "ticks": ""
           },
           "bgcolor": "#E5ECF6",
           "caxis": {
            "gridcolor": "white",
            "linecolor": "white",
            "ticks": ""
           }
          },
          "title": {
           "x": 0.05
          },
          "xaxis": {
           "automargin": true,
           "gridcolor": "white",
           "linecolor": "white",
           "ticks": "",
           "title": {
            "standoff": 15
           },
           "zerolinecolor": "white",
           "zerolinewidth": 2
          },
          "yaxis": {
           "automargin": true,
           "gridcolor": "white",
           "linecolor": "white",
           "ticks": "",
           "title": {
            "standoff": 15
           },
           "zerolinecolor": "white",
           "zerolinewidth": 2
          }
         }
        },
        "title": {
         "text": "Yearly asset return comparison with ETF (%)"
        },
        "xaxis": {
         "rangeslider": {
          "visible": false
         }
        }
       }
      },
      "text/html": [
       "<div>                            <div id=\"15ec00ab-fc3d-42f7-b325-9c28cb6b120d\" class=\"plotly-graph-div\" style=\"height:525px; width:100%;\"></div>            <script type=\"text/javascript\">                require([\"plotly\"], function(Plotly) {                    window.PLOTLYENV=window.PLOTLYENV || {};                                    if (document.getElementById(\"15ec00ab-fc3d-42f7-b325-9c28cb6b120d\")) {                    Plotly.newPlot(                        \"15ec00ab-fc3d-42f7-b325-9c28cb6b120d\",                        [{\"marker\":{\"color\":[\"#06d6a0\",\"#ef476f\",\"#ef476f\",\"#06d6a0\",\"#ef476f\"]},\"name\":\"DRL\",\"text\":[0.8447484129896043,-0.3140061851004461,-0.03384193431577032,10.214220798507846,-19.413924383276303],\"textposition\":\"outside\",\"texttemplate\":\"%{text:.2f}\",\"x\":[\"1M\",\"3M\",\"6M\",\"1Y\",\"3Y\"],\"y\":[0.8447484129896043,-0.3140061851004461,-0.03384193431577032,10.214220798507846,-19.413924383276303],\"type\":\"bar\"},{\"marker\":{\"color\":[\"#0a9396\",\"#0a9396\",\"#0a9396\",\"#0a9396\",\"#0a9396\"]},\"name\":\"ETF\",\"text\":[3.3887769984850324,0.742207691728991,2.5913932712107846,32.38455396934652,34.71744698231323],\"textposition\":\"outside\",\"texttemplate\":\"%{text:.2f}\",\"x\":[\"1M\",\"3M\",\"6M\",\"1Y\",\"3Y\"],\"y\":[3.3887769984850324,0.742207691728991,2.5913932712107846,32.38455396934652,34.71744698231323],\"type\":\"bar\"}],                        {\"template\":{\"data\":{\"bar\":[{\"error_x\":{\"color\":\"#2a3f5f\"},\"error_y\":{\"color\":\"#2a3f5f\"},\"marker\":{\"line\":{\"color\":\"#E5ECF6\",\"width\":0.5},\"pattern\":{\"fillmode\":\"overlay\",\"size\":10,\"solidity\":0.2}},\"type\":\"bar\"}],\"barpolar\":[{\"marker\":{\"line\":{\"color\":\"#E5ECF6\",\"width\":0.5},\"pattern\":{\"fillmode\":\"overlay\",\"size\":10,\"solidity\":0.2}},\"type\":\"barpolar\"}],\"carpet\":[{\"aaxis\":{\"endlinecolor\":\"#2a3f5f\",\"gridcolor\":\"white\",\"linecolor\":\"white\",\"minorgridcolor\":\"white\",\"startlinecolor\":\"#2a3f5f\"},\"baxis\":{\"endlinecolor\":\"#2a3f5f\",\"gridcolor\":\"white\",\"linecolor\":\"white\",\"minorgridcolor\":\"white\",\"startlinecolor\":\"#2a3f5f\"},\"type\":\"carpet\"}],\"choropleth\":[{\"colorbar\":{\"outlinewidth\":0,\"ticks\":\"\"},\"type\":\"choropleth\"}],\"contour\":[{\"colorbar\":{\"outlinewidth\":0,\"ticks\":\"\"},\"colorscale\":[[0.0,\"#0d0887\"],[0.1111111111111111,\"#46039f\"],[0.2222222222222222,\"#7201a8\"],[0.3333333333333333,\"#9c179e\"],[0.4444444444444444,\"#bd3786\"],[0.5555555555555556,\"#d8576b\"],[0.6666666666666666,\"#ed7953\"],[0.7777777777777778,\"#fb9f3a\"],[0.8888888888888888,\"#fdca26\"],[1.0,\"#f0f921\"]],\"type\":\"contour\"}],\"contourcarpet\":[{\"colorbar\":{\"outlinewidth\":0,\"ticks\":\"\"},\"type\":\"contourcarpet\"}],\"heatmap\":[{\"colorbar\":{\"outlinewidth\":0,\"ticks\":\"\"},\"colorscale\":[[0.0,\"#0d0887\"],[0.1111111111111111,\"#46039f\"],[0.2222222222222222,\"#7201a8\"],[0.3333333333333333,\"#9c179e\"],[0.4444444444444444,\"#bd3786\"],[0.5555555555555556,\"#d8576b\"],[0.6666666666666666,\"#ed7953\"],[0.7777777777777778,\"#fb9f3a\"],[0.8888888888888888,\"#fdca26\"],[1.0,\"#f0f921\"]],\"type\":\"heatmap\"}],\"heatmapgl\":[{\"colorbar\":{\"outlinewidth\":0,\"ticks\":\"\"},\"colorscale\":[[0.0,\"#0d0887\"],[0.1111111111111111,\"#46039f\"],[0.2222222222222222,\"#7201a8\"],[0.3333333333333333,\"#9c179e\"],[0.4444444444444444,\"#bd3786\"],[0.5555555555555556,\"#d8576b\"],[0.6666666666666666,\"#ed7953\"],[0.7777777777777778,\"#fb9f3a\"],[0.8888888888888888,\"#fdca26\"],[1.0,\"#f0f921\"]],\"type\":\"heatmapgl\"}],\"histogram\":[{\"marker\":{\"pattern\":{\"fillmode\":\"overlay\",\"size\":10,\"solidity\":0.2}},\"type\":\"histogram\"}],\"histogram2d\":[{\"colorbar\":{\"outlinewidth\":0,\"ticks\":\"\"},\"colorscale\":[[0.0,\"#0d0887\"],[0.1111111111111111,\"#46039f\"],[0.2222222222222222,\"#7201a8\"],[0.3333333333333333,\"#9c179e\"],[0.4444444444444444,\"#bd3786\"],[0.5555555555555556,\"#d8576b\"],[0.6666666666666666,\"#ed7953\"],[0.7777777777777778,\"#fb9f3a\"],[0.8888888888888888,\"#fdca26\"],[1.0,\"#f0f921\"]],\"type\":\"histogram2d\"}],\"histogram2dcontour\":[{\"colorbar\":{\"outlinewidth\":0,\"ticks\":\"\"},\"colorscale\":[[0.0,\"#0d0887\"],[0.1111111111111111,\"#46039f\"],[0.2222222222222222,\"#7201a8\"],[0.3333333333333333,\"#9c179e\"],[0.4444444444444444,\"#bd3786\"],[0.5555555555555556,\"#d8576b\"],[0.6666666666666666,\"#ed7953\"],[0.7777777777777778,\"#fb9f3a\"],[0.8888888888888888,\"#fdca26\"],[1.0,\"#f0f921\"]],\"type\":\"histogram2dcontour\"}],\"mesh3d\":[{\"colorbar\":{\"outlinewidth\":0,\"ticks\":\"\"},\"type\":\"mesh3d\"}],\"parcoords\":[{\"line\":{\"colorbar\":{\"outlinewidth\":0,\"ticks\":\"\"}},\"type\":\"parcoords\"}],\"pie\":[{\"automargin\":true,\"type\":\"pie\"}],\"scatter\":[{\"marker\":{\"colorbar\":{\"outlinewidth\":0,\"ticks\":\"\"}},\"type\":\"scatter\"}],\"scatter3d\":[{\"line\":{\"colorbar\":{\"outlinewidth\":0,\"ticks\":\"\"}},\"marker\":{\"colorbar\":{\"outlinewidth\":0,\"ticks\":\"\"}},\"type\":\"scatter3d\"}],\"scattercarpet\":[{\"marker\":{\"colorbar\":{\"outlinewidth\":0,\"ticks\":\"\"}},\"type\":\"scattercarpet\"}],\"scattergeo\":[{\"marker\":{\"colorbar\":{\"outlinewidth\":0,\"ticks\":\"\"}},\"type\":\"scattergeo\"}],\"scattergl\":[{\"marker\":{\"colorbar\":{\"outlinewidth\":0,\"ticks\":\"\"}},\"type\":\"scattergl\"}],\"scattermapbox\":[{\"marker\":{\"colorbar\":{\"outlinewidth\":0,\"ticks\":\"\"}},\"type\":\"scattermapbox\"}],\"scatterpolar\":[{\"marker\":{\"colorbar\":{\"outlinewidth\":0,\"ticks\":\"\"}},\"type\":\"scatterpolar\"}],\"scatterpolargl\":[{\"marker\":{\"colorbar\":{\"outlinewidth\":0,\"ticks\":\"\"}},\"type\":\"scatterpolargl\"}],\"scatterternary\":[{\"marker\":{\"colorbar\":{\"outlinewidth\":0,\"ticks\":\"\"}},\"type\":\"scatterternary\"}],\"surface\":[{\"colorbar\":{\"outlinewidth\":0,\"ticks\":\"\"},\"colorscale\":[[0.0,\"#0d0887\"],[0.1111111111111111,\"#46039f\"],[0.2222222222222222,\"#7201a8\"],[0.3333333333333333,\"#9c179e\"],[0.4444444444444444,\"#bd3786\"],[0.5555555555555556,\"#d8576b\"],[0.6666666666666666,\"#ed7953\"],[0.7777777777777778,\"#fb9f3a\"],[0.8888888888888888,\"#fdca26\"],[1.0,\"#f0f921\"]],\"type\":\"surface\"}],\"table\":[{\"cells\":{\"fill\":{\"color\":\"#EBF0F8\"},\"line\":{\"color\":\"white\"}},\"header\":{\"fill\":{\"color\":\"#C8D4E3\"},\"line\":{\"color\":\"white\"}},\"type\":\"table\"}]},\"layout\":{\"annotationdefaults\":{\"arrowcolor\":\"#2a3f5f\",\"arrowhead\":0,\"arrowwidth\":1},\"autotypenumbers\":\"strict\",\"coloraxis\":{\"colorbar\":{\"outlinewidth\":0,\"ticks\":\"\"}},\"colorscale\":{\"diverging\":[[0,\"#8e0152\"],[0.1,\"#c51b7d\"],[0.2,\"#de77ae\"],[0.3,\"#f1b6da\"],[0.4,\"#fde0ef\"],[0.5,\"#f7f7f7\"],[0.6,\"#e6f5d0\"],[0.7,\"#b8e186\"],[0.8,\"#7fbc41\"],[0.9,\"#4d9221\"],[1,\"#276419\"]],\"sequential\":[[0.0,\"#0d0887\"],[0.1111111111111111,\"#46039f\"],[0.2222222222222222,\"#7201a8\"],[0.3333333333333333,\"#9c179e\"],[0.4444444444444444,\"#bd3786\"],[0.5555555555555556,\"#d8576b\"],[0.6666666666666666,\"#ed7953\"],[0.7777777777777778,\"#fb9f3a\"],[0.8888888888888888,\"#fdca26\"],[1.0,\"#f0f921\"]],\"sequentialminus\":[[0.0,\"#0d0887\"],[0.1111111111111111,\"#46039f\"],[0.2222222222222222,\"#7201a8\"],[0.3333333333333333,\"#9c179e\"],[0.4444444444444444,\"#bd3786\"],[0.5555555555555556,\"#d8576b\"],[0.6666666666666666,\"#ed7953\"],[0.7777777777777778,\"#fb9f3a\"],[0.8888888888888888,\"#fdca26\"],[1.0,\"#f0f921\"]]},\"colorway\":[\"#636efa\",\"#EF553B\",\"#00cc96\",\"#ab63fa\",\"#FFA15A\",\"#19d3f3\",\"#FF6692\",\"#B6E880\",\"#FF97FF\",\"#FECB52\"],\"font\":{\"color\":\"#2a3f5f\"},\"geo\":{\"bgcolor\":\"white\",\"lakecolor\":\"white\",\"landcolor\":\"#E5ECF6\",\"showlakes\":true,\"showland\":true,\"subunitcolor\":\"white\"},\"hoverlabel\":{\"align\":\"left\"},\"hovermode\":\"closest\",\"mapbox\":{\"style\":\"light\"},\"paper_bgcolor\":\"white\",\"plot_bgcolor\":\"#E5ECF6\",\"polar\":{\"angularaxis\":{\"gridcolor\":\"white\",\"linecolor\":\"white\",\"ticks\":\"\"},\"bgcolor\":\"#E5ECF6\",\"radialaxis\":{\"gridcolor\":\"white\",\"linecolor\":\"white\",\"ticks\":\"\"}},\"scene\":{\"xaxis\":{\"backgroundcolor\":\"#E5ECF6\",\"gridcolor\":\"white\",\"gridwidth\":2,\"linecolor\":\"white\",\"showbackground\":true,\"ticks\":\"\",\"zerolinecolor\":\"white\"},\"yaxis\":{\"backgroundcolor\":\"#E5ECF6\",\"gridcolor\":\"white\",\"gridwidth\":2,\"linecolor\":\"white\",\"showbackground\":true,\"ticks\":\"\",\"zerolinecolor\":\"white\"},\"zaxis\":{\"backgroundcolor\":\"#E5ECF6\",\"gridcolor\":\"white\",\"gridwidth\":2,\"linecolor\":\"white\",\"showbackground\":true,\"ticks\":\"\",\"zerolinecolor\":\"white\"}},\"shapedefaults\":{\"line\":{\"color\":\"#2a3f5f\"}},\"ternary\":{\"aaxis\":{\"gridcolor\":\"white\",\"linecolor\":\"white\",\"ticks\":\"\"},\"baxis\":{\"gridcolor\":\"white\",\"linecolor\":\"white\",\"ticks\":\"\"},\"bgcolor\":\"#E5ECF6\",\"caxis\":{\"gridcolor\":\"white\",\"linecolor\":\"white\",\"ticks\":\"\"}},\"title\":{\"x\":0.05},\"xaxis\":{\"automargin\":true,\"gridcolor\":\"white\",\"linecolor\":\"white\",\"ticks\":\"\",\"title\":{\"standoff\":15},\"zerolinecolor\":\"white\",\"zerolinewidth\":2},\"yaxis\":{\"automargin\":true,\"gridcolor\":\"white\",\"linecolor\":\"white\",\"ticks\":\"\",\"title\":{\"standoff\":15},\"zerolinecolor\":\"white\",\"zerolinewidth\":2}}},\"title\":{\"text\":\"Yearly asset return comparison with ETF (%)\"},\"xaxis\":{\"rangeslider\":{\"visible\":false}},\"font\":{\"family\":\"Monospace\",\"color\":\"#073b4c\",\"size\":10},\"autosize\":true,\"plot_bgcolor\":\"#ecf8f8\"},                        {\"responsive\": true}                    ).then(function(){\n",
       "                            \n",
       "var gd = document.getElementById('15ec00ab-fc3d-42f7-b325-9c28cb6b120d');\n",
       "var x = new MutationObserver(function (mutations, observer) {{\n",
       "        var display = window.getComputedStyle(gd).display;\n",
       "        if (!display || display === 'none') {{\n",
       "            console.log([gd, 'removed!']);\n",
       "            Plotly.purge(gd);\n",
       "            observer.disconnect();\n",
       "        }}\n",
       "}});\n",
       "\n",
       "// Listen for the removal of the full notebook cells\n",
       "var notebookContainer = gd.closest('#notebook-container');\n",
       "if (notebookContainer) {{\n",
       "    x.observe(notebookContainer, {childList: true});\n",
       "}}\n",
       "\n",
       "// Listen for the clearing of the current output cell\n",
       "var outputEl = gd.closest('.output');\n",
       "if (outputEl) {{\n",
       "    x.observe(outputEl, {childList: true});\n",
       "}}\n",
       "\n",
       "                        })                };                });            </script>        </div>"
      ]
     },
     "metadata": {},
     "output_type": "display_data"
    }
   ],
   "source": [
    "# define histogram colors\n",
    "colors_drl = np.where(np.array(period_return_drl) > 0, '#06d6a0', '#ef476f')\n",
    "colors_etf = np.where(np.array(period_return_etf) > 0, '#0a9396', '#e63946')\n",
    "\n",
    "# add histogram on the lower subplot\n",
    "fig = go.Figure()\n",
    "fig.add_trace(\n",
    "    go.Bar(\n",
    "        x=['1M', '3M', '6M', '1Y', '3Y'],\n",
    "        y=np.array(period_return_drl)*100,\n",
    "        name=\"DRL\",\n",
    "        marker_color=colors_drl,\n",
    "        text=np.array(period_return_drl)*100,\n",
    "        texttemplate='%{text:.2f}',\n",
    "        textposition='outside'\n",
    "\n",
    "    ),\n",
    ")\n",
    "fig.add_trace(\n",
    "    go.Bar(\n",
    "        x=['1M', '3M', '6M', '1Y', '3Y'],\n",
    "        y=np.array(period_return_etf)*100,\n",
    "        name='ETF',\n",
    "        marker_color=colors_etf,\n",
    "        text=np.array(period_return_etf)*100,\n",
    "        texttemplate='%{text:.2f}',\n",
    "        textposition='outside'\n",
    "\n",
    "    ),\n",
    ")\n",
    "\n",
    "# make the figure prettier\n",
    "layout = go.Layout(\n",
    "    title=\"Yearly asset return comparison with ETF (%)\",\n",
    "    plot_bgcolor='#ecf8f8',\n",
    "    font_family='Monospace',\n",
    "    font_color='#073b4c',\n",
    "    font_size=10,\n",
    "    xaxis=dict(\n",
    "        rangeslider=dict(visible=False)\n",
    "    ),\n",
    "    autosize=True,\n",
    ")\n",
    "\n",
    "fig.update_layout(layout)\n",
    "fig.show()"
   ]
  },
  {
   "cell_type": "code",
   "execution_count": null,
   "id": "f60027e0",
   "metadata": {},
   "outputs": [],
   "source": []
  },
  {
   "cell_type": "code",
   "execution_count": null,
   "id": "e44a08b8",
   "metadata": {},
   "outputs": [],
   "source": []
  },
  {
   "cell_type": "code",
   "execution_count": null,
   "id": "cb47cb2c",
   "metadata": {},
   "outputs": [],
   "source": []
  },
  {
   "cell_type": "code",
   "execution_count": null,
   "id": "34ee8f19",
   "metadata": {},
   "outputs": [],
   "source": []
  }
 ],
 "metadata": {
  "kernelspec": {
   "display_name": "Python 3 (ipykernel)",
   "language": "python",
   "name": "python3"
  },
  "language_info": {
   "codemirror_mode": {
    "name": "ipython",
    "version": 3
   },
   "file_extension": ".py",
   "mimetype": "text/x-python",
   "name": "python",
   "nbconvert_exporter": "python",
   "pygments_lexer": "ipython3",
   "version": "3.7.11"
  }
 },
 "nbformat": 4,
 "nbformat_minor": 5
}
